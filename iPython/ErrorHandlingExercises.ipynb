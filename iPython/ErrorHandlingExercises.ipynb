{
 "metadata": {
  "name": "",
  "signature": "sha256:2bd67ba663ab28edc59efe101a6231d159546e4d18bffa8c151288881179edaa"
 },
 "nbformat": 3,
 "nbformat_minor": 0,
 "worksheets": [
  {
   "cells": [
    {
     "cell_type": "heading",
     "level": 1,
     "metadata": {},
     "source": [
      "Error Handling Exercises"
     ]
    },
    {
     "cell_type": "markdown",
     "metadata": {},
     "source": [
      "1) Find a partner. Choose a driver and a navigator. The driver should copy their Battleship code to a cell in the driver's ErrorHandlingExercises notebook. The driver should explain to the navigator the basics of how their program works. Work together to add some error handling to the program. Include a markdown cell identifying the driver and navigator. When you are done, switch roles and let the navigator be the driver and vice versa. At the end you should both have a Battleship program that includes some error handling."
     ]
    },
    {
     "cell_type": "markdown",
     "metadata": {},
     "source": [
      "Driver: Jake Haslemann\n",
      "Navigator: I am on a motorcycle(None)"
     ]
    },
    {
     "cell_type": "code",
     "collapsed": false,
     "input": [
      "#Click on this sell and hit shift and return twice!!\n",
      "from ipythonblocks import BlockGrid\n",
      "from random import randint"
     ],
     "language": "python",
     "metadata": {},
     "outputs": [],
     "prompt_number": 40
    },
    {
     "cell_type": "code",
     "collapsed": false,
     "input": [
      "grid = BlockGrid(8,8,fill =(50, 250, 250))\n",
      "print \"Let's play Battleship!\"\n",
      "board = []\n",
      "for x in range(8):\n",
      "    board.append([\"O\"] * 8)\n",
      "    \n",
      "def random_row(board):\n",
      "    return randint(0,len(board) - 1)\n",
      "\n",
      "def random_col(board):\n",
      "    return randint(0, len(board[0]) - 5)\n",
      "\n",
      "ship_row = random_row(board)\n",
      "ship_col = random_col(board)\n",
      "\n",
      "ship_x = []\n",
      "for x in range(4):\n",
      "    ship_x.append(x+ship_col)\n",
      "\n",
      "hits = 0    \n",
      "\n",
      "grid.show()\n",
      "\n",
      "def guesscheck():\n",
      "    try:\n",
      "        return int(raw_input(\"How many guesses do you want?\"))\n",
      "    except:\n",
      "        print \"That was not a number\"\n",
      "        return guesscheck()\n",
      "def guessShipRow():\n",
      "    try:\n",
      "        return int(raw_input(\"Guess Row(1-8):\"))-1\n",
      "    except:\n",
      "        print \"That was not a number\"\n",
      "        return guessShipRow()\n",
      "def guessShipCol():\n",
      "    try:\n",
      "        return int(raw_input(\"Guess Column(1-8):\"))-1\n",
      "    except:\n",
      "        print \"That was not a number\"\n",
      "        return guessShipCol()\n",
      "guesses = guesscheck()\n",
      "for turn in range(guesses):\n",
      "    print\"Turn\", turn +1\n",
      "    \n",
      "    guess_row = guessShipRow()\n",
      "    guess_col = guessShipCol()\n",
      "    for x in range(4):\n",
      "        if guess_row == ship_row and guess_col == ship_x[x]:\n",
      "            print \"Nice shot!\"\n",
      "            grid[guess_row,guess_col] = (255,0,0)\n",
      "            hits += 1\n",
      "            if hits == 4:\n",
      "                print \"Congratulations, you've won!!\"\n",
      "                grid.show()\n",
      "            break\n",
      "        else:\n",
      "            if (guess_row < 0 or guess_row > 7) or (guess_col < 0 or guess_col > 7):\n",
      "                print \"Oops, that's not even in the ocean.\"\n",
      "                break\n",
      "            elif(board[guess_row][guess_col] == \"X\"):\n",
      "                print \"You guessed that one already.\"\n",
      "                break\n",
      "            elif( x == 3):\n",
      "                print \"You missed my battleship!\"\n",
      "                board[guess_row][guess_col] = \"X\"\n",
      "                grid[guess_row,guess_col] = (0,255,0)\n",
      "    if hits == 4:\n",
      "        break\n",
      "    if turn == guesses-1:\n",
      "        print \"Game Over\"\n",
      "        for x in range(4):\n",
      "            grid[ship_row,ship_col+x] = (255,0,0)\n",
      "        print \"The ship was located from \",ship_row+1,',',ship_col+1,\"to\", ship_row+1, ',',ship_col+4\n",
      "    grid.show()"
     ],
     "language": "python",
     "metadata": {},
     "outputs": [
      {
       "output_type": "stream",
       "stream": "stdout",
       "text": [
        "Let's play Battleship!\n"
       ]
      },
      {
       "html": [
        "<style type=\"text/css\">table.blockgrid {border: none;} .blockgrid tr {border: none;} .blockgrid td {padding: 0px;} #blocksd2c4d369-18a7-4230-a1f7-7ef133a33971 td {border: 1px solid white;}</style><table id=\"blocksd2c4d369-18a7-4230-a1f7-7ef133a33971\" class=\"blockgrid\"><tbody><tr><td title=\"Index: [0, 0]&#10;Color: (50, 250, 250)\" style=\"width: 20px; height: 20px;background-color: rgb(50, 250, 250);\"></td><td title=\"Index: [0, 1]&#10;Color: (50, 250, 250)\" style=\"width: 20px; height: 20px;background-color: rgb(50, 250, 250);\"></td><td title=\"Index: [0, 2]&#10;Color: (50, 250, 250)\" style=\"width: 20px; height: 20px;background-color: rgb(50, 250, 250);\"></td><td title=\"Index: [0, 3]&#10;Color: (50, 250, 250)\" style=\"width: 20px; height: 20px;background-color: rgb(50, 250, 250);\"></td><td title=\"Index: [0, 4]&#10;Color: (50, 250, 250)\" style=\"width: 20px; height: 20px;background-color: rgb(50, 250, 250);\"></td><td title=\"Index: [0, 5]&#10;Color: (50, 250, 250)\" style=\"width: 20px; height: 20px;background-color: rgb(50, 250, 250);\"></td><td title=\"Index: [0, 6]&#10;Color: (50, 250, 250)\" style=\"width: 20px; height: 20px;background-color: rgb(50, 250, 250);\"></td><td title=\"Index: [0, 7]&#10;Color: (50, 250, 250)\" style=\"width: 20px; height: 20px;background-color: rgb(50, 250, 250);\"></td></tr><tr><td title=\"Index: [1, 0]&#10;Color: (50, 250, 250)\" style=\"width: 20px; height: 20px;background-color: rgb(50, 250, 250);\"></td><td title=\"Index: [1, 1]&#10;Color: (50, 250, 250)\" style=\"width: 20px; height: 20px;background-color: rgb(50, 250, 250);\"></td><td title=\"Index: [1, 2]&#10;Color: (50, 250, 250)\" style=\"width: 20px; height: 20px;background-color: rgb(50, 250, 250);\"></td><td title=\"Index: [1, 3]&#10;Color: (50, 250, 250)\" style=\"width: 20px; height: 20px;background-color: rgb(50, 250, 250);\"></td><td title=\"Index: [1, 4]&#10;Color: (50, 250, 250)\" style=\"width: 20px; height: 20px;background-color: rgb(50, 250, 250);\"></td><td title=\"Index: [1, 5]&#10;Color: (50, 250, 250)\" style=\"width: 20px; height: 20px;background-color: rgb(50, 250, 250);\"></td><td title=\"Index: [1, 6]&#10;Color: (50, 250, 250)\" style=\"width: 20px; height: 20px;background-color: rgb(50, 250, 250);\"></td><td title=\"Index: [1, 7]&#10;Color: (50, 250, 250)\" style=\"width: 20px; height: 20px;background-color: rgb(50, 250, 250);\"></td></tr><tr><td title=\"Index: [2, 0]&#10;Color: (50, 250, 250)\" style=\"width: 20px; height: 20px;background-color: rgb(50, 250, 250);\"></td><td title=\"Index: [2, 1]&#10;Color: (50, 250, 250)\" style=\"width: 20px; height: 20px;background-color: rgb(50, 250, 250);\"></td><td title=\"Index: [2, 2]&#10;Color: (50, 250, 250)\" style=\"width: 20px; height: 20px;background-color: rgb(50, 250, 250);\"></td><td title=\"Index: [2, 3]&#10;Color: (50, 250, 250)\" style=\"width: 20px; height: 20px;background-color: rgb(50, 250, 250);\"></td><td title=\"Index: [2, 4]&#10;Color: (50, 250, 250)\" style=\"width: 20px; height: 20px;background-color: rgb(50, 250, 250);\"></td><td title=\"Index: [2, 5]&#10;Color: (50, 250, 250)\" style=\"width: 20px; height: 20px;background-color: rgb(50, 250, 250);\"></td><td title=\"Index: [2, 6]&#10;Color: (50, 250, 250)\" style=\"width: 20px; height: 20px;background-color: rgb(50, 250, 250);\"></td><td title=\"Index: [2, 7]&#10;Color: (50, 250, 250)\" style=\"width: 20px; height: 20px;background-color: rgb(50, 250, 250);\"></td></tr><tr><td title=\"Index: [3, 0]&#10;Color: (50, 250, 250)\" style=\"width: 20px; height: 20px;background-color: rgb(50, 250, 250);\"></td><td title=\"Index: [3, 1]&#10;Color: (50, 250, 250)\" style=\"width: 20px; height: 20px;background-color: rgb(50, 250, 250);\"></td><td title=\"Index: [3, 2]&#10;Color: (50, 250, 250)\" style=\"width: 20px; height: 20px;background-color: rgb(50, 250, 250);\"></td><td title=\"Index: [3, 3]&#10;Color: (50, 250, 250)\" style=\"width: 20px; height: 20px;background-color: rgb(50, 250, 250);\"></td><td title=\"Index: [3, 4]&#10;Color: (50, 250, 250)\" style=\"width: 20px; height: 20px;background-color: rgb(50, 250, 250);\"></td><td title=\"Index: [3, 5]&#10;Color: (50, 250, 250)\" style=\"width: 20px; height: 20px;background-color: rgb(50, 250, 250);\"></td><td title=\"Index: [3, 6]&#10;Color: (50, 250, 250)\" style=\"width: 20px; height: 20px;background-color: rgb(50, 250, 250);\"></td><td title=\"Index: [3, 7]&#10;Color: (50, 250, 250)\" style=\"width: 20px; height: 20px;background-color: rgb(50, 250, 250);\"></td></tr><tr><td title=\"Index: [4, 0]&#10;Color: (50, 250, 250)\" style=\"width: 20px; height: 20px;background-color: rgb(50, 250, 250);\"></td><td title=\"Index: [4, 1]&#10;Color: (50, 250, 250)\" style=\"width: 20px; height: 20px;background-color: rgb(50, 250, 250);\"></td><td title=\"Index: [4, 2]&#10;Color: (50, 250, 250)\" style=\"width: 20px; height: 20px;background-color: rgb(50, 250, 250);\"></td><td title=\"Index: [4, 3]&#10;Color: (50, 250, 250)\" style=\"width: 20px; height: 20px;background-color: rgb(50, 250, 250);\"></td><td title=\"Index: [4, 4]&#10;Color: (50, 250, 250)\" style=\"width: 20px; height: 20px;background-color: rgb(50, 250, 250);\"></td><td title=\"Index: [4, 5]&#10;Color: (50, 250, 250)\" style=\"width: 20px; height: 20px;background-color: rgb(50, 250, 250);\"></td><td title=\"Index: [4, 6]&#10;Color: (50, 250, 250)\" style=\"width: 20px; height: 20px;background-color: rgb(50, 250, 250);\"></td><td title=\"Index: [4, 7]&#10;Color: (50, 250, 250)\" style=\"width: 20px; height: 20px;background-color: rgb(50, 250, 250);\"></td></tr><tr><td title=\"Index: [5, 0]&#10;Color: (50, 250, 250)\" style=\"width: 20px; height: 20px;background-color: rgb(50, 250, 250);\"></td><td title=\"Index: [5, 1]&#10;Color: (50, 250, 250)\" style=\"width: 20px; height: 20px;background-color: rgb(50, 250, 250);\"></td><td title=\"Index: [5, 2]&#10;Color: (50, 250, 250)\" style=\"width: 20px; height: 20px;background-color: rgb(50, 250, 250);\"></td><td title=\"Index: [5, 3]&#10;Color: (50, 250, 250)\" style=\"width: 20px; height: 20px;background-color: rgb(50, 250, 250);\"></td><td title=\"Index: [5, 4]&#10;Color: (50, 250, 250)\" style=\"width: 20px; height: 20px;background-color: rgb(50, 250, 250);\"></td><td title=\"Index: [5, 5]&#10;Color: (50, 250, 250)\" style=\"width: 20px; height: 20px;background-color: rgb(50, 250, 250);\"></td><td title=\"Index: [5, 6]&#10;Color: (50, 250, 250)\" style=\"width: 20px; height: 20px;background-color: rgb(50, 250, 250);\"></td><td title=\"Index: [5, 7]&#10;Color: (50, 250, 250)\" style=\"width: 20px; height: 20px;background-color: rgb(50, 250, 250);\"></td></tr><tr><td title=\"Index: [6, 0]&#10;Color: (50, 250, 250)\" style=\"width: 20px; height: 20px;background-color: rgb(50, 250, 250);\"></td><td title=\"Index: [6, 1]&#10;Color: (50, 250, 250)\" style=\"width: 20px; height: 20px;background-color: rgb(50, 250, 250);\"></td><td title=\"Index: [6, 2]&#10;Color: (50, 250, 250)\" style=\"width: 20px; height: 20px;background-color: rgb(50, 250, 250);\"></td><td title=\"Index: [6, 3]&#10;Color: (50, 250, 250)\" style=\"width: 20px; height: 20px;background-color: rgb(50, 250, 250);\"></td><td title=\"Index: [6, 4]&#10;Color: (50, 250, 250)\" style=\"width: 20px; height: 20px;background-color: rgb(50, 250, 250);\"></td><td title=\"Index: [6, 5]&#10;Color: (50, 250, 250)\" style=\"width: 20px; height: 20px;background-color: rgb(50, 250, 250);\"></td><td title=\"Index: [6, 6]&#10;Color: (50, 250, 250)\" style=\"width: 20px; height: 20px;background-color: rgb(50, 250, 250);\"></td><td title=\"Index: [6, 7]&#10;Color: (50, 250, 250)\" style=\"width: 20px; height: 20px;background-color: rgb(50, 250, 250);\"></td></tr><tr><td title=\"Index: [7, 0]&#10;Color: (50, 250, 250)\" style=\"width: 20px; height: 20px;background-color: rgb(50, 250, 250);\"></td><td title=\"Index: [7, 1]&#10;Color: (50, 250, 250)\" style=\"width: 20px; height: 20px;background-color: rgb(50, 250, 250);\"></td><td title=\"Index: [7, 2]&#10;Color: (50, 250, 250)\" style=\"width: 20px; height: 20px;background-color: rgb(50, 250, 250);\"></td><td title=\"Index: [7, 3]&#10;Color: (50, 250, 250)\" style=\"width: 20px; height: 20px;background-color: rgb(50, 250, 250);\"></td><td title=\"Index: [7, 4]&#10;Color: (50, 250, 250)\" style=\"width: 20px; height: 20px;background-color: rgb(50, 250, 250);\"></td><td title=\"Index: [7, 5]&#10;Color: (50, 250, 250)\" style=\"width: 20px; height: 20px;background-color: rgb(50, 250, 250);\"></td><td title=\"Index: [7, 6]&#10;Color: (50, 250, 250)\" style=\"width: 20px; height: 20px;background-color: rgb(50, 250, 250);\"></td><td title=\"Index: [7, 7]&#10;Color: (50, 250, 250)\" style=\"width: 20px; height: 20px;background-color: rgb(50, 250, 250);\"></td></tr></tbody></table>"
       ],
       "metadata": {},
       "output_type": "display_data",
       "text": [
        "<IPython.core.display.HTML at 0x104873610>"
       ]
      },
      {
       "name": "stdout",
       "output_type": "stream",
       "stream": "stdout",
       "text": [
        "How many guesses do you want?1\n"
       ]
      },
      {
       "output_type": "stream",
       "stream": "stdout",
       "text": [
        "Turn 1\n"
       ]
      },
      {
       "name": "stdout",
       "output_type": "stream",
       "stream": "stdout",
       "text": [
        "Guess Row(1-8):1\n"
       ]
      },
      {
       "name": "stdout",
       "output_type": "stream",
       "stream": "stdout",
       "text": [
        "Guess Column(1-8):l\n"
       ]
      },
      {
       "output_type": "stream",
       "stream": "stdout",
       "text": [
        "That was not a number\n"
       ]
      },
      {
       "name": "stdout",
       "output_type": "stream",
       "stream": "stdout",
       "text": [
        "Guess Column(1-8):,\n"
       ]
      },
      {
       "output_type": "stream",
       "stream": "stdout",
       "text": [
        "That was not a number\n"
       ]
      },
      {
       "name": "stdout",
       "output_type": "stream",
       "stream": "stdout",
       "text": [
        "Guess Column(1-8):1\n"
       ]
      },
      {
       "output_type": "stream",
       "stream": "stdout",
       "text": [
        "You missed my battleship!\n",
        "Game Over\n",
        "The ship was located from  6 , 3 to 6 , 6\n"
       ]
      },
      {
       "html": [
        "<style type=\"text/css\">table.blockgrid {border: none;} .blockgrid tr {border: none;} .blockgrid td {padding: 0px;} #blocksd2da1a5a-21be-484a-a9e1-e8aef042af22 td {border: 1px solid white;}</style><table id=\"blocksd2da1a5a-21be-484a-a9e1-e8aef042af22\" class=\"blockgrid\"><tbody><tr><td title=\"Index: [0, 0]&#10;Color: (0, 255, 0)\" style=\"width: 20px; height: 20px;background-color: rgb(0, 255, 0);\"></td><td title=\"Index: [0, 1]&#10;Color: (50, 250, 250)\" style=\"width: 20px; height: 20px;background-color: rgb(50, 250, 250);\"></td><td title=\"Index: [0, 2]&#10;Color: (50, 250, 250)\" style=\"width: 20px; height: 20px;background-color: rgb(50, 250, 250);\"></td><td title=\"Index: [0, 3]&#10;Color: (50, 250, 250)\" style=\"width: 20px; height: 20px;background-color: rgb(50, 250, 250);\"></td><td title=\"Index: [0, 4]&#10;Color: (50, 250, 250)\" style=\"width: 20px; height: 20px;background-color: rgb(50, 250, 250);\"></td><td title=\"Index: [0, 5]&#10;Color: (50, 250, 250)\" style=\"width: 20px; height: 20px;background-color: rgb(50, 250, 250);\"></td><td title=\"Index: [0, 6]&#10;Color: (50, 250, 250)\" style=\"width: 20px; height: 20px;background-color: rgb(50, 250, 250);\"></td><td title=\"Index: [0, 7]&#10;Color: (50, 250, 250)\" style=\"width: 20px; height: 20px;background-color: rgb(50, 250, 250);\"></td></tr><tr><td title=\"Index: [1, 0]&#10;Color: (50, 250, 250)\" style=\"width: 20px; height: 20px;background-color: rgb(50, 250, 250);\"></td><td title=\"Index: [1, 1]&#10;Color: (50, 250, 250)\" style=\"width: 20px; height: 20px;background-color: rgb(50, 250, 250);\"></td><td title=\"Index: [1, 2]&#10;Color: (50, 250, 250)\" style=\"width: 20px; height: 20px;background-color: rgb(50, 250, 250);\"></td><td title=\"Index: [1, 3]&#10;Color: (50, 250, 250)\" style=\"width: 20px; height: 20px;background-color: rgb(50, 250, 250);\"></td><td title=\"Index: [1, 4]&#10;Color: (50, 250, 250)\" style=\"width: 20px; height: 20px;background-color: rgb(50, 250, 250);\"></td><td title=\"Index: [1, 5]&#10;Color: (50, 250, 250)\" style=\"width: 20px; height: 20px;background-color: rgb(50, 250, 250);\"></td><td title=\"Index: [1, 6]&#10;Color: (50, 250, 250)\" style=\"width: 20px; height: 20px;background-color: rgb(50, 250, 250);\"></td><td title=\"Index: [1, 7]&#10;Color: (50, 250, 250)\" style=\"width: 20px; height: 20px;background-color: rgb(50, 250, 250);\"></td></tr><tr><td title=\"Index: [2, 0]&#10;Color: (50, 250, 250)\" style=\"width: 20px; height: 20px;background-color: rgb(50, 250, 250);\"></td><td title=\"Index: [2, 1]&#10;Color: (50, 250, 250)\" style=\"width: 20px; height: 20px;background-color: rgb(50, 250, 250);\"></td><td title=\"Index: [2, 2]&#10;Color: (50, 250, 250)\" style=\"width: 20px; height: 20px;background-color: rgb(50, 250, 250);\"></td><td title=\"Index: [2, 3]&#10;Color: (50, 250, 250)\" style=\"width: 20px; height: 20px;background-color: rgb(50, 250, 250);\"></td><td title=\"Index: [2, 4]&#10;Color: (50, 250, 250)\" style=\"width: 20px; height: 20px;background-color: rgb(50, 250, 250);\"></td><td title=\"Index: [2, 5]&#10;Color: (50, 250, 250)\" style=\"width: 20px; height: 20px;background-color: rgb(50, 250, 250);\"></td><td title=\"Index: [2, 6]&#10;Color: (50, 250, 250)\" style=\"width: 20px; height: 20px;background-color: rgb(50, 250, 250);\"></td><td title=\"Index: [2, 7]&#10;Color: (50, 250, 250)\" style=\"width: 20px; height: 20px;background-color: rgb(50, 250, 250);\"></td></tr><tr><td title=\"Index: [3, 0]&#10;Color: (50, 250, 250)\" style=\"width: 20px; height: 20px;background-color: rgb(50, 250, 250);\"></td><td title=\"Index: [3, 1]&#10;Color: (50, 250, 250)\" style=\"width: 20px; height: 20px;background-color: rgb(50, 250, 250);\"></td><td title=\"Index: [3, 2]&#10;Color: (50, 250, 250)\" style=\"width: 20px; height: 20px;background-color: rgb(50, 250, 250);\"></td><td title=\"Index: [3, 3]&#10;Color: (50, 250, 250)\" style=\"width: 20px; height: 20px;background-color: rgb(50, 250, 250);\"></td><td title=\"Index: [3, 4]&#10;Color: (50, 250, 250)\" style=\"width: 20px; height: 20px;background-color: rgb(50, 250, 250);\"></td><td title=\"Index: [3, 5]&#10;Color: (50, 250, 250)\" style=\"width: 20px; height: 20px;background-color: rgb(50, 250, 250);\"></td><td title=\"Index: [3, 6]&#10;Color: (50, 250, 250)\" style=\"width: 20px; height: 20px;background-color: rgb(50, 250, 250);\"></td><td title=\"Index: [3, 7]&#10;Color: (50, 250, 250)\" style=\"width: 20px; height: 20px;background-color: rgb(50, 250, 250);\"></td></tr><tr><td title=\"Index: [4, 0]&#10;Color: (50, 250, 250)\" style=\"width: 20px; height: 20px;background-color: rgb(50, 250, 250);\"></td><td title=\"Index: [4, 1]&#10;Color: (50, 250, 250)\" style=\"width: 20px; height: 20px;background-color: rgb(50, 250, 250);\"></td><td title=\"Index: [4, 2]&#10;Color: (50, 250, 250)\" style=\"width: 20px; height: 20px;background-color: rgb(50, 250, 250);\"></td><td title=\"Index: [4, 3]&#10;Color: (50, 250, 250)\" style=\"width: 20px; height: 20px;background-color: rgb(50, 250, 250);\"></td><td title=\"Index: [4, 4]&#10;Color: (50, 250, 250)\" style=\"width: 20px; height: 20px;background-color: rgb(50, 250, 250);\"></td><td title=\"Index: [4, 5]&#10;Color: (50, 250, 250)\" style=\"width: 20px; height: 20px;background-color: rgb(50, 250, 250);\"></td><td title=\"Index: [4, 6]&#10;Color: (50, 250, 250)\" style=\"width: 20px; height: 20px;background-color: rgb(50, 250, 250);\"></td><td title=\"Index: [4, 7]&#10;Color: (50, 250, 250)\" style=\"width: 20px; height: 20px;background-color: rgb(50, 250, 250);\"></td></tr><tr><td title=\"Index: [5, 0]&#10;Color: (50, 250, 250)\" style=\"width: 20px; height: 20px;background-color: rgb(50, 250, 250);\"></td><td title=\"Index: [5, 1]&#10;Color: (50, 250, 250)\" style=\"width: 20px; height: 20px;background-color: rgb(50, 250, 250);\"></td><td title=\"Index: [5, 2]&#10;Color: (255, 0, 0)\" style=\"width: 20px; height: 20px;background-color: rgb(255, 0, 0);\"></td><td title=\"Index: [5, 3]&#10;Color: (255, 0, 0)\" style=\"width: 20px; height: 20px;background-color: rgb(255, 0, 0);\"></td><td title=\"Index: [5, 4]&#10;Color: (255, 0, 0)\" style=\"width: 20px; height: 20px;background-color: rgb(255, 0, 0);\"></td><td title=\"Index: [5, 5]&#10;Color: (255, 0, 0)\" style=\"width: 20px; height: 20px;background-color: rgb(255, 0, 0);\"></td><td title=\"Index: [5, 6]&#10;Color: (50, 250, 250)\" style=\"width: 20px; height: 20px;background-color: rgb(50, 250, 250);\"></td><td title=\"Index: [5, 7]&#10;Color: (50, 250, 250)\" style=\"width: 20px; height: 20px;background-color: rgb(50, 250, 250);\"></td></tr><tr><td title=\"Index: [6, 0]&#10;Color: (50, 250, 250)\" style=\"width: 20px; height: 20px;background-color: rgb(50, 250, 250);\"></td><td title=\"Index: [6, 1]&#10;Color: (50, 250, 250)\" style=\"width: 20px; height: 20px;background-color: rgb(50, 250, 250);\"></td><td title=\"Index: [6, 2]&#10;Color: (50, 250, 250)\" style=\"width: 20px; height: 20px;background-color: rgb(50, 250, 250);\"></td><td title=\"Index: [6, 3]&#10;Color: (50, 250, 250)\" style=\"width: 20px; height: 20px;background-color: rgb(50, 250, 250);\"></td><td title=\"Index: [6, 4]&#10;Color: (50, 250, 250)\" style=\"width: 20px; height: 20px;background-color: rgb(50, 250, 250);\"></td><td title=\"Index: [6, 5]&#10;Color: (50, 250, 250)\" style=\"width: 20px; height: 20px;background-color: rgb(50, 250, 250);\"></td><td title=\"Index: [6, 6]&#10;Color: (50, 250, 250)\" style=\"width: 20px; height: 20px;background-color: rgb(50, 250, 250);\"></td><td title=\"Index: [6, 7]&#10;Color: (50, 250, 250)\" style=\"width: 20px; height: 20px;background-color: rgb(50, 250, 250);\"></td></tr><tr><td title=\"Index: [7, 0]&#10;Color: (50, 250, 250)\" style=\"width: 20px; height: 20px;background-color: rgb(50, 250, 250);\"></td><td title=\"Index: [7, 1]&#10;Color: (50, 250, 250)\" style=\"width: 20px; height: 20px;background-color: rgb(50, 250, 250);\"></td><td title=\"Index: [7, 2]&#10;Color: (50, 250, 250)\" style=\"width: 20px; height: 20px;background-color: rgb(50, 250, 250);\"></td><td title=\"Index: [7, 3]&#10;Color: (50, 250, 250)\" style=\"width: 20px; height: 20px;background-color: rgb(50, 250, 250);\"></td><td title=\"Index: [7, 4]&#10;Color: (50, 250, 250)\" style=\"width: 20px; height: 20px;background-color: rgb(50, 250, 250);\"></td><td title=\"Index: [7, 5]&#10;Color: (50, 250, 250)\" style=\"width: 20px; height: 20px;background-color: rgb(50, 250, 250);\"></td><td title=\"Index: [7, 6]&#10;Color: (50, 250, 250)\" style=\"width: 20px; height: 20px;background-color: rgb(50, 250, 250);\"></td><td title=\"Index: [7, 7]&#10;Color: (50, 250, 250)\" style=\"width: 20px; height: 20px;background-color: rgb(50, 250, 250);\"></td></tr></tbody></table>"
       ],
       "metadata": {},
       "output_type": "display_data",
       "text": [
        "<IPython.core.display.HTML at 0x1048732d0>"
       ]
      }
     ],
     "prompt_number": 60
    },
    {
     "cell_type": "markdown",
     "metadata": {},
     "source": [
      "2)Here is a function which takes a filename, opens the file, reads the result, closes the file, and returns the contents. It should look something like this:\n",
      "Use runtime error handling concepts to improve this function, so that it does the following:\n",
      "raises an informative custom error if the file doesn't exist\n",
      "uses try, except, else, and/or finally to safely return the file's contents & close the file if necessary.\n",
      "add a keyword safe which defaults to False. If the function is called with safe=True, then return an empty string if the file doesn't exist."
     ]
    },
    {
     "cell_type": "code",
     "collapsed": false,
     "input": [
      "def read_all_from_file(filename, safe = False):\n",
      "    if safe == False:\n",
      "        try:\n",
      "            f = open(filename)\n",
      "            contents = f.read()\n",
      "            f.close()\n",
      "            return contents\n",
      "        except IOError as err:\n",
      "            print err\n",
      "            return None\n",
      "    if safe == True:\n",
      "        try:\n",
      "            f = open(filename)\n",
      "            contents = f.read()\n",
      "            f.close()\n",
      "            return contents\n",
      "        except IOError as err:\n",
      "            a = ''\n",
      "            return a\n",
      "        "
     ],
     "language": "python",
     "metadata": {},
     "outputs": [],
     "prompt_number": 34
    },
    {
     "cell_type": "code",
     "collapsed": false,
     "input": [
      "read_all_from_file('tmp.txt')"
     ],
     "language": "python",
     "metadata": {},
     "outputs": [
      {
       "metadata": {},
       "output_type": "pyout",
       "prompt_number": 35,
       "text": [
        "'this is the contents of the file'"
       ]
      }
     ],
     "prompt_number": 35
    },
    {
     "cell_type": "code",
     "collapsed": false,
     "input": [
      "read_all_from_file('file.which.does.not.exist')"
     ],
     "language": "python",
     "metadata": {},
     "outputs": [
      {
       "output_type": "stream",
       "stream": "stdout",
       "text": [
        "[Errno 2] No such file or directory: 'file.which.does.not.exist'\n"
       ]
      }
     ],
     "prompt_number": 36
    },
    {
     "cell_type": "code",
     "collapsed": false,
     "input": [
      "read_all_from_file('file.which.does.not.exist', safe = True)"
     ],
     "language": "python",
     "metadata": {},
     "outputs": [
      {
       "metadata": {},
       "output_type": "pyout",
       "prompt_number": 37,
       "text": [
        "''"
       ]
      }
     ],
     "prompt_number": 37
    }
   ],
   "metadata": {}
  }
 ]
}