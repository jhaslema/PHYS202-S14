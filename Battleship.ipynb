{
 "metadata": {
  "name": ""
 },
 "nbformat": 3,
 "nbformat_minor": 0,
 "worksheets": [
  {
   "cells": [
    {
     "cell_type": "heading",
     "level": 1,
     "metadata": {},
     "source": [
      "Welcome to battleship!!!"
     ]
    },
    {
     "cell_type": "heading",
     "level": 3,
     "metadata": {},
     "source": [
      "Welcome to battleship!! In order to play click on the cell below this one, and hit shift return twice in order to begin. The game will prompt you to enter how many guesses you want! I would suggest choosing at least 4, since the ship is 4 blocks long!! Have fun!"
     ]
    },
    {
     "cell_type": "code",
     "collapsed": false,
     "input": [
      "#Click on this sell and hit shift and return twice!!\n",
      "from ipythonblocks import BlockGrid\n",
      "from random import randint"
     ],
     "language": "python",
     "metadata": {},
     "outputs": [],
     "prompt_number": 45
    },
    {
     "cell_type": "code",
     "collapsed": false,
     "input": [
      "grid = BlockGrid(8,8,fill =(50, 250, 250))\n",
      "print \"Let's play Battleship!\"\n",
      "board = []\n",
      "for x in range(8):\n",
      "    board.append([\"O\"] * 8)\n",
      "    \n",
      "def random_row(board):\n",
      "    return randint(0,len(board) - 1)\n",
      "\n",
      "def random_col(board):\n",
      "    return randint(0, len(board[0]) - 5)\n",
      "\n",
      "ship_row = random_row(board)\n",
      "ship_col = random_col(board)\n",
      "\n",
      "ship_x = []\n",
      "for x in range(4):\n",
      "    ship_x.append(x+ship_col)\n",
      "\n",
      "hits = 0    \n",
      "\n",
      "grid.show()\n",
      "guesses = int(raw_input(\"How many guesses do you want?\"))\n",
      "for turn in range(guesses):\n",
      "    print\"Turn\", turn +1\n",
      "    \n",
      "    guess_row = int(raw_input(\"Guess Row:\"))-1\n",
      "    guess_col = int(raw_input(\"Guess Col:\"))-1\n",
      "    for x in range(4):\n",
      "        if guess_row == ship_row and guess_col == ship_x[x]:\n",
      "            print \"Nice shot!\"\n",
      "            grid[guess_row,guess_col] = (255,0,0)\n",
      "            grid.show()\n",
      "            hits += 1\n",
      "            if hits == 4:\n",
      "                print \"Congratulations, you've won!!\"\n",
      "                break\n",
      "        else:\n",
      "            if (guess_row < 0 or guess_row > 7) or (guess_col < 0 or guess_col > 7):\n",
      "                print \"Oops, that's not even in the ocean.\"\n",
      "                break\n",
      "            elif(board[guess_row][guess_col] == \"X\"):\n",
      "                print \"You guessed that one already.\"\n",
      "                break\n",
      "            else:\n",
      "                print \"You missed my battleship!\"\n",
      "                board[guess_row][guess_col] = \"X\"\n",
      "                grid[guess_row,guess_col] = (0,255,0)\n",
      "    if hits == 4:\n",
      "        break\n",
      "    if turn == guesses-1:\n",
      "        print \"Game Over\"\n",
      "        for x in range(4):\n",
      "            grid[ship_row,ship_col+x] = (255,0,0)\n",
      "        print \"The ship was located from \",ship_row+1,',',ship_col+1,\"to\", ship_row+1, ',',ship_col+5\n",
      "    grid.show()"
     ],
     "language": "python",
     "metadata": {},
     "outputs": [
      {
       "output_type": "stream",
       "stream": "stdout",
       "text": [
        "Let's play Battleship!\n"
       ]
      },
      {
       "html": [
        "<style type=\"text/css\">table.blockgrid {border: none;} .blockgrid tr {border: none;} .blockgrid td {padding: 0px;} #blocksf86bab0a-3456-4812-8074-bbd69582b591 td {border: 1px solid white;}</style><table id=\"blocksf86bab0a-3456-4812-8074-bbd69582b591\" class=\"blockgrid\"><tbody><tr><td title=\"Index: [0, 0]&#10;Color: (50, 250, 250)\" style=\"width: 20px; height: 20px;background-color: rgb(50, 250, 250);\"></td><td title=\"Index: [0, 1]&#10;Color: (50, 250, 250)\" style=\"width: 20px; height: 20px;background-color: rgb(50, 250, 250);\"></td><td title=\"Index: [0, 2]&#10;Color: (50, 250, 250)\" style=\"width: 20px; height: 20px;background-color: rgb(50, 250, 250);\"></td><td title=\"Index: [0, 3]&#10;Color: (50, 250, 250)\" style=\"width: 20px; height: 20px;background-color: rgb(50, 250, 250);\"></td><td title=\"Index: [0, 4]&#10;Color: (50, 250, 250)\" style=\"width: 20px; height: 20px;background-color: rgb(50, 250, 250);\"></td><td title=\"Index: [0, 5]&#10;Color: (50, 250, 250)\" style=\"width: 20px; height: 20px;background-color: rgb(50, 250, 250);\"></td><td title=\"Index: [0, 6]&#10;Color: (50, 250, 250)\" style=\"width: 20px; height: 20px;background-color: rgb(50, 250, 250);\"></td><td title=\"Index: [0, 7]&#10;Color: (50, 250, 250)\" style=\"width: 20px; height: 20px;background-color: rgb(50, 250, 250);\"></td></tr><tr><td title=\"Index: [1, 0]&#10;Color: (50, 250, 250)\" style=\"width: 20px; height: 20px;background-color: rgb(50, 250, 250);\"></td><td title=\"Index: [1, 1]&#10;Color: (50, 250, 250)\" style=\"width: 20px; height: 20px;background-color: rgb(50, 250, 250);\"></td><td title=\"Index: [1, 2]&#10;Color: (50, 250, 250)\" style=\"width: 20px; height: 20px;background-color: rgb(50, 250, 250);\"></td><td title=\"Index: [1, 3]&#10;Color: (50, 250, 250)\" style=\"width: 20px; height: 20px;background-color: rgb(50, 250, 250);\"></td><td title=\"Index: [1, 4]&#10;Color: (50, 250, 250)\" style=\"width: 20px; height: 20px;background-color: rgb(50, 250, 250);\"></td><td title=\"Index: [1, 5]&#10;Color: (50, 250, 250)\" style=\"width: 20px; height: 20px;background-color: rgb(50, 250, 250);\"></td><td title=\"Index: [1, 6]&#10;Color: (50, 250, 250)\" style=\"width: 20px; height: 20px;background-color: rgb(50, 250, 250);\"></td><td title=\"Index: [1, 7]&#10;Color: (50, 250, 250)\" style=\"width: 20px; height: 20px;background-color: rgb(50, 250, 250);\"></td></tr><tr><td title=\"Index: [2, 0]&#10;Color: (50, 250, 250)\" style=\"width: 20px; height: 20px;background-color: rgb(50, 250, 250);\"></td><td title=\"Index: [2, 1]&#10;Color: (50, 250, 250)\" style=\"width: 20px; height: 20px;background-color: rgb(50, 250, 250);\"></td><td title=\"Index: [2, 2]&#10;Color: (50, 250, 250)\" style=\"width: 20px; height: 20px;background-color: rgb(50, 250, 250);\"></td><td title=\"Index: [2, 3]&#10;Color: (50, 250, 250)\" style=\"width: 20px; height: 20px;background-color: rgb(50, 250, 250);\"></td><td title=\"Index: [2, 4]&#10;Color: (50, 250, 250)\" style=\"width: 20px; height: 20px;background-color: rgb(50, 250, 250);\"></td><td title=\"Index: [2, 5]&#10;Color: (50, 250, 250)\" style=\"width: 20px; height: 20px;background-color: rgb(50, 250, 250);\"></td><td title=\"Index: [2, 6]&#10;Color: (50, 250, 250)\" style=\"width: 20px; height: 20px;background-color: rgb(50, 250, 250);\"></td><td title=\"Index: [2, 7]&#10;Color: (50, 250, 250)\" style=\"width: 20px; height: 20px;background-color: rgb(50, 250, 250);\"></td></tr><tr><td title=\"Index: [3, 0]&#10;Color: (50, 250, 250)\" style=\"width: 20px; height: 20px;background-color: rgb(50, 250, 250);\"></td><td title=\"Index: [3, 1]&#10;Color: (50, 250, 250)\" style=\"width: 20px; height: 20px;background-color: rgb(50, 250, 250);\"></td><td title=\"Index: [3, 2]&#10;Color: (50, 250, 250)\" style=\"width: 20px; height: 20px;background-color: rgb(50, 250, 250);\"></td><td title=\"Index: [3, 3]&#10;Color: (50, 250, 250)\" style=\"width: 20px; height: 20px;background-color: rgb(50, 250, 250);\"></td><td title=\"Index: [3, 4]&#10;Color: (50, 250, 250)\" style=\"width: 20px; height: 20px;background-color: rgb(50, 250, 250);\"></td><td title=\"Index: [3, 5]&#10;Color: (50, 250, 250)\" style=\"width: 20px; height: 20px;background-color: rgb(50, 250, 250);\"></td><td title=\"Index: [3, 6]&#10;Color: (50, 250, 250)\" style=\"width: 20px; height: 20px;background-color: rgb(50, 250, 250);\"></td><td title=\"Index: [3, 7]&#10;Color: (50, 250, 250)\" style=\"width: 20px; height: 20px;background-color: rgb(50, 250, 250);\"></td></tr><tr><td title=\"Index: [4, 0]&#10;Color: (50, 250, 250)\" style=\"width: 20px; height: 20px;background-color: rgb(50, 250, 250);\"></td><td title=\"Index: [4, 1]&#10;Color: (50, 250, 250)\" style=\"width: 20px; height: 20px;background-color: rgb(50, 250, 250);\"></td><td title=\"Index: [4, 2]&#10;Color: (50, 250, 250)\" style=\"width: 20px; height: 20px;background-color: rgb(50, 250, 250);\"></td><td title=\"Index: [4, 3]&#10;Color: (50, 250, 250)\" style=\"width: 20px; height: 20px;background-color: rgb(50, 250, 250);\"></td><td title=\"Index: [4, 4]&#10;Color: (50, 250, 250)\" style=\"width: 20px; height: 20px;background-color: rgb(50, 250, 250);\"></td><td title=\"Index: [4, 5]&#10;Color: (50, 250, 250)\" style=\"width: 20px; height: 20px;background-color: rgb(50, 250, 250);\"></td><td title=\"Index: [4, 6]&#10;Color: (50, 250, 250)\" style=\"width: 20px; height: 20px;background-color: rgb(50, 250, 250);\"></td><td title=\"Index: [4, 7]&#10;Color: (50, 250, 250)\" style=\"width: 20px; height: 20px;background-color: rgb(50, 250, 250);\"></td></tr><tr><td title=\"Index: [5, 0]&#10;Color: (50, 250, 250)\" style=\"width: 20px; height: 20px;background-color: rgb(50, 250, 250);\"></td><td title=\"Index: [5, 1]&#10;Color: (50, 250, 250)\" style=\"width: 20px; height: 20px;background-color: rgb(50, 250, 250);\"></td><td title=\"Index: [5, 2]&#10;Color: (50, 250, 250)\" style=\"width: 20px; height: 20px;background-color: rgb(50, 250, 250);\"></td><td title=\"Index: [5, 3]&#10;Color: (50, 250, 250)\" style=\"width: 20px; height: 20px;background-color: rgb(50, 250, 250);\"></td><td title=\"Index: [5, 4]&#10;Color: (50, 250, 250)\" style=\"width: 20px; height: 20px;background-color: rgb(50, 250, 250);\"></td><td title=\"Index: [5, 5]&#10;Color: (50, 250, 250)\" style=\"width: 20px; height: 20px;background-color: rgb(50, 250, 250);\"></td><td title=\"Index: [5, 6]&#10;Color: (50, 250, 250)\" style=\"width: 20px; height: 20px;background-color: rgb(50, 250, 250);\"></td><td title=\"Index: [5, 7]&#10;Color: (50, 250, 250)\" style=\"width: 20px; height: 20px;background-color: rgb(50, 250, 250);\"></td></tr><tr><td title=\"Index: [6, 0]&#10;Color: (50, 250, 250)\" style=\"width: 20px; height: 20px;background-color: rgb(50, 250, 250);\"></td><td title=\"Index: [6, 1]&#10;Color: (50, 250, 250)\" style=\"width: 20px; height: 20px;background-color: rgb(50, 250, 250);\"></td><td title=\"Index: [6, 2]&#10;Color: (50, 250, 250)\" style=\"width: 20px; height: 20px;background-color: rgb(50, 250, 250);\"></td><td title=\"Index: [6, 3]&#10;Color: (50, 250, 250)\" style=\"width: 20px; height: 20px;background-color: rgb(50, 250, 250);\"></td><td title=\"Index: [6, 4]&#10;Color: (50, 250, 250)\" style=\"width: 20px; height: 20px;background-color: rgb(50, 250, 250);\"></td><td title=\"Index: [6, 5]&#10;Color: (50, 250, 250)\" style=\"width: 20px; height: 20px;background-color: rgb(50, 250, 250);\"></td><td title=\"Index: [6, 6]&#10;Color: (50, 250, 250)\" style=\"width: 20px; height: 20px;background-color: rgb(50, 250, 250);\"></td><td title=\"Index: [6, 7]&#10;Color: (50, 250, 250)\" style=\"width: 20px; height: 20px;background-color: rgb(50, 250, 250);\"></td></tr><tr><td title=\"Index: [7, 0]&#10;Color: (50, 250, 250)\" style=\"width: 20px; height: 20px;background-color: rgb(50, 250, 250);\"></td><td title=\"Index: [7, 1]&#10;Color: (50, 250, 250)\" style=\"width: 20px; height: 20px;background-color: rgb(50, 250, 250);\"></td><td title=\"Index: [7, 2]&#10;Color: (50, 250, 250)\" style=\"width: 20px; height: 20px;background-color: rgb(50, 250, 250);\"></td><td title=\"Index: [7, 3]&#10;Color: (50, 250, 250)\" style=\"width: 20px; height: 20px;background-color: rgb(50, 250, 250);\"></td><td title=\"Index: [7, 4]&#10;Color: (50, 250, 250)\" style=\"width: 20px; height: 20px;background-color: rgb(50, 250, 250);\"></td><td title=\"Index: [7, 5]&#10;Color: (50, 250, 250)\" style=\"width: 20px; height: 20px;background-color: rgb(50, 250, 250);\"></td><td title=\"Index: [7, 6]&#10;Color: (50, 250, 250)\" style=\"width: 20px; height: 20px;background-color: rgb(50, 250, 250);\"></td><td title=\"Index: [7, 7]&#10;Color: (50, 250, 250)\" style=\"width: 20px; height: 20px;background-color: rgb(50, 250, 250);\"></td></tr></tbody></table>"
       ],
       "metadata": {},
       "output_type": "display_data",
       "text": [
        "<IPython.core.display.HTML at 0x10488bf10>"
       ]
      },
      {
       "ename": "KeyboardInterrupt",
       "evalue": "",
       "output_type": "pyerr",
       "traceback": [
        "\u001b[0;31m---------------------------------------------------------------------------\u001b[0m\n\u001b[0;31mKeyboardInterrupt\u001b[0m                         Traceback (most recent call last)",
        "\u001b[0;32m<ipython-input-46-094db0a11a46>\u001b[0m in \u001b[0;36m<module>\u001b[0;34m()\u001b[0m\n\u001b[1;32m     21\u001b[0m \u001b[0;34m\u001b[0m\u001b[0m\n\u001b[1;32m     22\u001b[0m \u001b[0mgrid\u001b[0m\u001b[0;34m.\u001b[0m\u001b[0mshow\u001b[0m\u001b[0;34m(\u001b[0m\u001b[0;34m)\u001b[0m\u001b[0;34m\u001b[0m\u001b[0m\n\u001b[0;32m---> 23\u001b[0;31m \u001b[0mguesses\u001b[0m \u001b[0;34m=\u001b[0m \u001b[0mint\u001b[0m\u001b[0;34m(\u001b[0m\u001b[0mraw_input\u001b[0m\u001b[0;34m(\u001b[0m\u001b[0;34m\"How many guesses do you want?\"\u001b[0m\u001b[0;34m)\u001b[0m\u001b[0;34m)\u001b[0m\u001b[0;34m\u001b[0m\u001b[0m\n\u001b[0m\u001b[1;32m     24\u001b[0m \u001b[0;32mfor\u001b[0m \u001b[0mturn\u001b[0m \u001b[0;32min\u001b[0m \u001b[0mrange\u001b[0m\u001b[0;34m(\u001b[0m\u001b[0mguesses\u001b[0m\u001b[0;34m)\u001b[0m\u001b[0;34m:\u001b[0m\u001b[0;34m\u001b[0m\u001b[0m\n\u001b[1;32m     25\u001b[0m     \u001b[0;32mprint\u001b[0m\u001b[0;34m\"Turn\"\u001b[0m\u001b[0;34m,\u001b[0m \u001b[0mturn\u001b[0m \u001b[0;34m+\u001b[0m\u001b[0;36m1\u001b[0m\u001b[0;34m\u001b[0m\u001b[0m\n",
        "\u001b[0;32m/Users/jakehaslemann/anaconda/lib/python2.7/site-packages/IPython/kernel/zmq/ipkernel.pyc\u001b[0m in \u001b[0;36m<lambda>\u001b[0;34m(prompt)\u001b[0m\n\u001b[1;32m    353\u001b[0m         \u001b[0;31m# raw_input in the user namespace.\u001b[0m\u001b[0;34m\u001b[0m\u001b[0;34m\u001b[0m\u001b[0m\n\u001b[1;32m    354\u001b[0m         \u001b[0;32mif\u001b[0m \u001b[0mcontent\u001b[0m\u001b[0;34m.\u001b[0m\u001b[0mget\u001b[0m\u001b[0;34m(\u001b[0m\u001b[0;34m'allow_stdin'\u001b[0m\u001b[0;34m,\u001b[0m \u001b[0mFalse\u001b[0m\u001b[0;34m)\u001b[0m\u001b[0;34m:\u001b[0m\u001b[0;34m\u001b[0m\u001b[0m\n\u001b[0;32m--> 355\u001b[0;31m             \u001b[0mraw_input\u001b[0m \u001b[0;34m=\u001b[0m \u001b[0;32mlambda\u001b[0m \u001b[0mprompt\u001b[0m\u001b[0;34m=\u001b[0m\u001b[0;34m''\u001b[0m\u001b[0;34m:\u001b[0m \u001b[0mself\u001b[0m\u001b[0;34m.\u001b[0m\u001b[0m_raw_input\u001b[0m\u001b[0;34m(\u001b[0m\u001b[0mprompt\u001b[0m\u001b[0;34m,\u001b[0m \u001b[0mident\u001b[0m\u001b[0;34m,\u001b[0m \u001b[0mparent\u001b[0m\u001b[0;34m)\u001b[0m\u001b[0;34m\u001b[0m\u001b[0m\n\u001b[0m\u001b[1;32m    356\u001b[0m             \u001b[0minput\u001b[0m \u001b[0;34m=\u001b[0m \u001b[0;32mlambda\u001b[0m \u001b[0mprompt\u001b[0m\u001b[0;34m=\u001b[0m\u001b[0;34m''\u001b[0m\u001b[0;34m:\u001b[0m \u001b[0meval\u001b[0m\u001b[0;34m(\u001b[0m\u001b[0mraw_input\u001b[0m\u001b[0;34m(\u001b[0m\u001b[0mprompt\u001b[0m\u001b[0;34m)\u001b[0m\u001b[0;34m)\u001b[0m\u001b[0;34m\u001b[0m\u001b[0m\n\u001b[1;32m    357\u001b[0m         \u001b[0;32melse\u001b[0m\u001b[0;34m:\u001b[0m\u001b[0;34m\u001b[0m\u001b[0m\n",
        "\u001b[0;32m/Users/jakehaslemann/anaconda/lib/python2.7/site-packages/IPython/kernel/zmq/ipkernel.pyc\u001b[0m in \u001b[0;36m_raw_input\u001b[0;34m(self, prompt, ident, parent)\u001b[0m\n\u001b[1;32m    774\u001b[0m             \u001b[0;32mexcept\u001b[0m \u001b[0mKeyboardInterrupt\u001b[0m\u001b[0;34m:\u001b[0m\u001b[0;34m\u001b[0m\u001b[0m\n\u001b[1;32m    775\u001b[0m                 \u001b[0;31m# re-raise KeyboardInterrupt, to truncate traceback\u001b[0m\u001b[0;34m\u001b[0m\u001b[0;34m\u001b[0m\u001b[0m\n\u001b[0;32m--> 776\u001b[0;31m                 \u001b[0;32mraise\u001b[0m \u001b[0mKeyboardInterrupt\u001b[0m\u001b[0;34m\u001b[0m\u001b[0m\n\u001b[0m\u001b[1;32m    777\u001b[0m             \u001b[0;32melse\u001b[0m\u001b[0;34m:\u001b[0m\u001b[0;34m\u001b[0m\u001b[0m\n\u001b[1;32m    778\u001b[0m                 \u001b[0;32mbreak\u001b[0m\u001b[0;34m\u001b[0m\u001b[0m\n",
        "\u001b[0;31mKeyboardInterrupt\u001b[0m: "
       ]
      }
     ],
     "prompt_number": 46
    },
    {
     "cell_type": "heading",
     "level": 3,
     "metadata": {},
     "source": [
      "Sample Run Below"
     ]
    },
    {
     "cell_type": "code",
     "collapsed": false,
     "input": [
      "grid = BlockGrid(8,8,fill =(50, 250, 250))\n",
      "print \"Let's play Battleship!\"\n",
      "board = []\n",
      "for x in range(8):\n",
      "    board.append([\"O\"] * 8)\n",
      "    \n",
      "def random_row(board):\n",
      "    return randint(0,len(board) - 1)\n",
      "\n",
      "def random_col(board):\n",
      "    return randint(0, len(board[0]) - 5)\n",
      "\n",
      "ship_row = random_row(board)\n",
      "ship_col = random_col(board)\n",
      "\n",
      "ship_x = []\n",
      "for x in range(4):\n",
      "    ship_x.append(x+ship_col)\n",
      "\n",
      "hits = 0    \n",
      "\n",
      "grid.show()\n",
      "guesses = int(raw_input(\"How many guesses do you want?\"))\n",
      "for turn in range(guesses):\n",
      "    print\"Turn\", turn +1\n",
      "    \n",
      "    guess_row = int(raw_input(\"Guess Row:\"))-1\n",
      "    guess_col = int(raw_input(\"Guess Col:\"))-1\n",
      "    for x in range(4):\n",
      "        if guess_row == ship_row and guess_col == ship_x[x]:\n",
      "            print \"Nice shot!\"\n",
      "            grid[guess_row,guess_col] = (255,0,0)\n",
      "            grid.show()\n",
      "            hits += 1\n",
      "            if hits == 4:\n",
      "                print \"Congratulations, you've won!!\"\n",
      "                break\n",
      "        else:\n",
      "            if (guess_row < 0 or guess_row > 7) or (guess_col < 0 or guess_col > 7):\n",
      "                print \"Oops, that's not even in the ocean.\"\n",
      "                break\n",
      "            elif(board[guess_row][guess_col] == \"X\"):\n",
      "                print \"You guessed that one already.\"\n",
      "                break\n",
      "            else:\n",
      "                print \"You missed my battleship!\"\n",
      "                board[guess_row][guess_col] = \"X\"\n",
      "                grid[guess_row,guess_col] = (0,255,0)\n",
      "    if hits == 4:\n",
      "        break\n",
      "    if turn == guesses-1:\n",
      "        print \"Game Over\"\n",
      "        for x in range(4):\n",
      "            grid[ship_row,ship_col+x] = (255,0,0)\n",
      "        print \"The ship was located from \",ship_row+1,',',ship_col+1,\"to\", ship_row+1, ',',ship_col+5\n",
      "    grid.show()"
     ],
     "language": "python",
     "metadata": {},
     "outputs": [
      {
       "output_type": "stream",
       "stream": "stdout",
       "text": [
        "Let's play Battleship!\n"
       ]
      },
      {
       "html": [
        "<style type=\"text/css\">table.blockgrid {border: none;} .blockgrid tr {border: none;} .blockgrid td {padding: 0px;} #blocks749bf8fd-a547-4486-95da-8253358aaf6a td {border: 1px solid white;}</style><table id=\"blocks749bf8fd-a547-4486-95da-8253358aaf6a\" class=\"blockgrid\"><tbody><tr><td title=\"Index: [0, 0]&#10;Color: (50, 250, 250)\" style=\"width: 20px; height: 20px;background-color: rgb(50, 250, 250);\"></td><td title=\"Index: [0, 1]&#10;Color: (50, 250, 250)\" style=\"width: 20px; height: 20px;background-color: rgb(50, 250, 250);\"></td><td title=\"Index: [0, 2]&#10;Color: (50, 250, 250)\" style=\"width: 20px; height: 20px;background-color: rgb(50, 250, 250);\"></td><td title=\"Index: [0, 3]&#10;Color: (50, 250, 250)\" style=\"width: 20px; height: 20px;background-color: rgb(50, 250, 250);\"></td><td title=\"Index: [0, 4]&#10;Color: (50, 250, 250)\" style=\"width: 20px; height: 20px;background-color: rgb(50, 250, 250);\"></td><td title=\"Index: [0, 5]&#10;Color: (50, 250, 250)\" style=\"width: 20px; height: 20px;background-color: rgb(50, 250, 250);\"></td><td title=\"Index: [0, 6]&#10;Color: (50, 250, 250)\" style=\"width: 20px; height: 20px;background-color: rgb(50, 250, 250);\"></td><td title=\"Index: [0, 7]&#10;Color: (50, 250, 250)\" style=\"width: 20px; height: 20px;background-color: rgb(50, 250, 250);\"></td></tr><tr><td title=\"Index: [1, 0]&#10;Color: (50, 250, 250)\" style=\"width: 20px; height: 20px;background-color: rgb(50, 250, 250);\"></td><td title=\"Index: [1, 1]&#10;Color: (50, 250, 250)\" style=\"width: 20px; height: 20px;background-color: rgb(50, 250, 250);\"></td><td title=\"Index: [1, 2]&#10;Color: (50, 250, 250)\" style=\"width: 20px; height: 20px;background-color: rgb(50, 250, 250);\"></td><td title=\"Index: [1, 3]&#10;Color: (50, 250, 250)\" style=\"width: 20px; height: 20px;background-color: rgb(50, 250, 250);\"></td><td title=\"Index: [1, 4]&#10;Color: (50, 250, 250)\" style=\"width: 20px; height: 20px;background-color: rgb(50, 250, 250);\"></td><td title=\"Index: [1, 5]&#10;Color: (50, 250, 250)\" style=\"width: 20px; height: 20px;background-color: rgb(50, 250, 250);\"></td><td title=\"Index: [1, 6]&#10;Color: (50, 250, 250)\" style=\"width: 20px; height: 20px;background-color: rgb(50, 250, 250);\"></td><td title=\"Index: [1, 7]&#10;Color: (50, 250, 250)\" style=\"width: 20px; height: 20px;background-color: rgb(50, 250, 250);\"></td></tr><tr><td title=\"Index: [2, 0]&#10;Color: (50, 250, 250)\" style=\"width: 20px; height: 20px;background-color: rgb(50, 250, 250);\"></td><td title=\"Index: [2, 1]&#10;Color: (50, 250, 250)\" style=\"width: 20px; height: 20px;background-color: rgb(50, 250, 250);\"></td><td title=\"Index: [2, 2]&#10;Color: (50, 250, 250)\" style=\"width: 20px; height: 20px;background-color: rgb(50, 250, 250);\"></td><td title=\"Index: [2, 3]&#10;Color: (50, 250, 250)\" style=\"width: 20px; height: 20px;background-color: rgb(50, 250, 250);\"></td><td title=\"Index: [2, 4]&#10;Color: (50, 250, 250)\" style=\"width: 20px; height: 20px;background-color: rgb(50, 250, 250);\"></td><td title=\"Index: [2, 5]&#10;Color: (50, 250, 250)\" style=\"width: 20px; height: 20px;background-color: rgb(50, 250, 250);\"></td><td title=\"Index: [2, 6]&#10;Color: (50, 250, 250)\" style=\"width: 20px; height: 20px;background-color: rgb(50, 250, 250);\"></td><td title=\"Index: [2, 7]&#10;Color: (50, 250, 250)\" style=\"width: 20px; height: 20px;background-color: rgb(50, 250, 250);\"></td></tr><tr><td title=\"Index: [3, 0]&#10;Color: (50, 250, 250)\" style=\"width: 20px; height: 20px;background-color: rgb(50, 250, 250);\"></td><td title=\"Index: [3, 1]&#10;Color: (50, 250, 250)\" style=\"width: 20px; height: 20px;background-color: rgb(50, 250, 250);\"></td><td title=\"Index: [3, 2]&#10;Color: (50, 250, 250)\" style=\"width: 20px; height: 20px;background-color: rgb(50, 250, 250);\"></td><td title=\"Index: [3, 3]&#10;Color: (50, 250, 250)\" style=\"width: 20px; height: 20px;background-color: rgb(50, 250, 250);\"></td><td title=\"Index: [3, 4]&#10;Color: (50, 250, 250)\" style=\"width: 20px; height: 20px;background-color: rgb(50, 250, 250);\"></td><td title=\"Index: [3, 5]&#10;Color: (50, 250, 250)\" style=\"width: 20px; height: 20px;background-color: rgb(50, 250, 250);\"></td><td title=\"Index: [3, 6]&#10;Color: (50, 250, 250)\" style=\"width: 20px; height: 20px;background-color: rgb(50, 250, 250);\"></td><td title=\"Index: [3, 7]&#10;Color: (50, 250, 250)\" style=\"width: 20px; height: 20px;background-color: rgb(50, 250, 250);\"></td></tr><tr><td title=\"Index: [4, 0]&#10;Color: (50, 250, 250)\" style=\"width: 20px; height: 20px;background-color: rgb(50, 250, 250);\"></td><td title=\"Index: [4, 1]&#10;Color: (50, 250, 250)\" style=\"width: 20px; height: 20px;background-color: rgb(50, 250, 250);\"></td><td title=\"Index: [4, 2]&#10;Color: (50, 250, 250)\" style=\"width: 20px; height: 20px;background-color: rgb(50, 250, 250);\"></td><td title=\"Index: [4, 3]&#10;Color: (50, 250, 250)\" style=\"width: 20px; height: 20px;background-color: rgb(50, 250, 250);\"></td><td title=\"Index: [4, 4]&#10;Color: (50, 250, 250)\" style=\"width: 20px; height: 20px;background-color: rgb(50, 250, 250);\"></td><td title=\"Index: [4, 5]&#10;Color: (50, 250, 250)\" style=\"width: 20px; height: 20px;background-color: rgb(50, 250, 250);\"></td><td title=\"Index: [4, 6]&#10;Color: (50, 250, 250)\" style=\"width: 20px; height: 20px;background-color: rgb(50, 250, 250);\"></td><td title=\"Index: [4, 7]&#10;Color: (50, 250, 250)\" style=\"width: 20px; height: 20px;background-color: rgb(50, 250, 250);\"></td></tr><tr><td title=\"Index: [5, 0]&#10;Color: (50, 250, 250)\" style=\"width: 20px; height: 20px;background-color: rgb(50, 250, 250);\"></td><td title=\"Index: [5, 1]&#10;Color: (50, 250, 250)\" style=\"width: 20px; height: 20px;background-color: rgb(50, 250, 250);\"></td><td title=\"Index: [5, 2]&#10;Color: (50, 250, 250)\" style=\"width: 20px; height: 20px;background-color: rgb(50, 250, 250);\"></td><td title=\"Index: [5, 3]&#10;Color: (50, 250, 250)\" style=\"width: 20px; height: 20px;background-color: rgb(50, 250, 250);\"></td><td title=\"Index: [5, 4]&#10;Color: (50, 250, 250)\" style=\"width: 20px; height: 20px;background-color: rgb(50, 250, 250);\"></td><td title=\"Index: [5, 5]&#10;Color: (50, 250, 250)\" style=\"width: 20px; height: 20px;background-color: rgb(50, 250, 250);\"></td><td title=\"Index: [5, 6]&#10;Color: (50, 250, 250)\" style=\"width: 20px; height: 20px;background-color: rgb(50, 250, 250);\"></td><td title=\"Index: [5, 7]&#10;Color: (50, 250, 250)\" style=\"width: 20px; height: 20px;background-color: rgb(50, 250, 250);\"></td></tr><tr><td title=\"Index: [6, 0]&#10;Color: (50, 250, 250)\" style=\"width: 20px; height: 20px;background-color: rgb(50, 250, 250);\"></td><td title=\"Index: [6, 1]&#10;Color: (50, 250, 250)\" style=\"width: 20px; height: 20px;background-color: rgb(50, 250, 250);\"></td><td title=\"Index: [6, 2]&#10;Color: (50, 250, 250)\" style=\"width: 20px; height: 20px;background-color: rgb(50, 250, 250);\"></td><td title=\"Index: [6, 3]&#10;Color: (50, 250, 250)\" style=\"width: 20px; height: 20px;background-color: rgb(50, 250, 250);\"></td><td title=\"Index: [6, 4]&#10;Color: (50, 250, 250)\" style=\"width: 20px; height: 20px;background-color: rgb(50, 250, 250);\"></td><td title=\"Index: [6, 5]&#10;Color: (50, 250, 250)\" style=\"width: 20px; height: 20px;background-color: rgb(50, 250, 250);\"></td><td title=\"Index: [6, 6]&#10;Color: (50, 250, 250)\" style=\"width: 20px; height: 20px;background-color: rgb(50, 250, 250);\"></td><td title=\"Index: [6, 7]&#10;Color: (50, 250, 250)\" style=\"width: 20px; height: 20px;background-color: rgb(50, 250, 250);\"></td></tr><tr><td title=\"Index: [7, 0]&#10;Color: (50, 250, 250)\" style=\"width: 20px; height: 20px;background-color: rgb(50, 250, 250);\"></td><td title=\"Index: [7, 1]&#10;Color: (50, 250, 250)\" style=\"width: 20px; height: 20px;background-color: rgb(50, 250, 250);\"></td><td title=\"Index: [7, 2]&#10;Color: (50, 250, 250)\" style=\"width: 20px; height: 20px;background-color: rgb(50, 250, 250);\"></td><td title=\"Index: [7, 3]&#10;Color: (50, 250, 250)\" style=\"width: 20px; height: 20px;background-color: rgb(50, 250, 250);\"></td><td title=\"Index: [7, 4]&#10;Color: (50, 250, 250)\" style=\"width: 20px; height: 20px;background-color: rgb(50, 250, 250);\"></td><td title=\"Index: [7, 5]&#10;Color: (50, 250, 250)\" style=\"width: 20px; height: 20px;background-color: rgb(50, 250, 250);\"></td><td title=\"Index: [7, 6]&#10;Color: (50, 250, 250)\" style=\"width: 20px; height: 20px;background-color: rgb(50, 250, 250);\"></td><td title=\"Index: [7, 7]&#10;Color: (50, 250, 250)\" style=\"width: 20px; height: 20px;background-color: rgb(50, 250, 250);\"></td></tr></tbody></table>"
       ],
       "metadata": {},
       "output_type": "display_data",
       "text": [
        "<IPython.core.display.HTML at 0x10489db90>"
       ]
      },
      {
       "name": "stdout",
       "output_type": "stream",
       "stream": "stdout",
       "text": [
        "How many guesses do you want?4\n"
       ]
      },
      {
       "output_type": "stream",
       "stream": "stdout",
       "text": [
        "Turn 1\n"
       ]
      },
      {
       "name": "stdout",
       "output_type": "stream",
       "stream": "stdout",
       "text": [
        "Guess Row:1\n"
       ]
      },
      {
       "name": "stdout",
       "output_type": "stream",
       "stream": "stdout",
       "text": [
        "Guess Col:1\n"
       ]
      },
      {
       "output_type": "stream",
       "stream": "stdout",
       "text": [
        "You missed my battleship!\n",
        "You guessed that one already.\n"
       ]
      },
      {
       "html": [
        "<style type=\"text/css\">table.blockgrid {border: none;} .blockgrid tr {border: none;} .blockgrid td {padding: 0px;} #blocksbf7f7225-7f47-4b0a-9e7c-d7ebe4902309 td {border: 1px solid white;}</style><table id=\"blocksbf7f7225-7f47-4b0a-9e7c-d7ebe4902309\" class=\"blockgrid\"><tbody><tr><td title=\"Index: [0, 0]&#10;Color: (0, 255, 0)\" style=\"width: 20px; height: 20px;background-color: rgb(0, 255, 0);\"></td><td title=\"Index: [0, 1]&#10;Color: (50, 250, 250)\" style=\"width: 20px; height: 20px;background-color: rgb(50, 250, 250);\"></td><td title=\"Index: [0, 2]&#10;Color: (50, 250, 250)\" style=\"width: 20px; height: 20px;background-color: rgb(50, 250, 250);\"></td><td title=\"Index: [0, 3]&#10;Color: (50, 250, 250)\" style=\"width: 20px; height: 20px;background-color: rgb(50, 250, 250);\"></td><td title=\"Index: [0, 4]&#10;Color: (50, 250, 250)\" style=\"width: 20px; height: 20px;background-color: rgb(50, 250, 250);\"></td><td title=\"Index: [0, 5]&#10;Color: (50, 250, 250)\" style=\"width: 20px; height: 20px;background-color: rgb(50, 250, 250);\"></td><td title=\"Index: [0, 6]&#10;Color: (50, 250, 250)\" style=\"width: 20px; height: 20px;background-color: rgb(50, 250, 250);\"></td><td title=\"Index: [0, 7]&#10;Color: (50, 250, 250)\" style=\"width: 20px; height: 20px;background-color: rgb(50, 250, 250);\"></td></tr><tr><td title=\"Index: [1, 0]&#10;Color: (50, 250, 250)\" style=\"width: 20px; height: 20px;background-color: rgb(50, 250, 250);\"></td><td title=\"Index: [1, 1]&#10;Color: (50, 250, 250)\" style=\"width: 20px; height: 20px;background-color: rgb(50, 250, 250);\"></td><td title=\"Index: [1, 2]&#10;Color: (50, 250, 250)\" style=\"width: 20px; height: 20px;background-color: rgb(50, 250, 250);\"></td><td title=\"Index: [1, 3]&#10;Color: (50, 250, 250)\" style=\"width: 20px; height: 20px;background-color: rgb(50, 250, 250);\"></td><td title=\"Index: [1, 4]&#10;Color: (50, 250, 250)\" style=\"width: 20px; height: 20px;background-color: rgb(50, 250, 250);\"></td><td title=\"Index: [1, 5]&#10;Color: (50, 250, 250)\" style=\"width: 20px; height: 20px;background-color: rgb(50, 250, 250);\"></td><td title=\"Index: [1, 6]&#10;Color: (50, 250, 250)\" style=\"width: 20px; height: 20px;background-color: rgb(50, 250, 250);\"></td><td title=\"Index: [1, 7]&#10;Color: (50, 250, 250)\" style=\"width: 20px; height: 20px;background-color: rgb(50, 250, 250);\"></td></tr><tr><td title=\"Index: [2, 0]&#10;Color: (50, 250, 250)\" style=\"width: 20px; height: 20px;background-color: rgb(50, 250, 250);\"></td><td title=\"Index: [2, 1]&#10;Color: (50, 250, 250)\" style=\"width: 20px; height: 20px;background-color: rgb(50, 250, 250);\"></td><td title=\"Index: [2, 2]&#10;Color: (50, 250, 250)\" style=\"width: 20px; height: 20px;background-color: rgb(50, 250, 250);\"></td><td title=\"Index: [2, 3]&#10;Color: (50, 250, 250)\" style=\"width: 20px; height: 20px;background-color: rgb(50, 250, 250);\"></td><td title=\"Index: [2, 4]&#10;Color: (50, 250, 250)\" style=\"width: 20px; height: 20px;background-color: rgb(50, 250, 250);\"></td><td title=\"Index: [2, 5]&#10;Color: (50, 250, 250)\" style=\"width: 20px; height: 20px;background-color: rgb(50, 250, 250);\"></td><td title=\"Index: [2, 6]&#10;Color: (50, 250, 250)\" style=\"width: 20px; height: 20px;background-color: rgb(50, 250, 250);\"></td><td title=\"Index: [2, 7]&#10;Color: (50, 250, 250)\" style=\"width: 20px; height: 20px;background-color: rgb(50, 250, 250);\"></td></tr><tr><td title=\"Index: [3, 0]&#10;Color: (50, 250, 250)\" style=\"width: 20px; height: 20px;background-color: rgb(50, 250, 250);\"></td><td title=\"Index: [3, 1]&#10;Color: (50, 250, 250)\" style=\"width: 20px; height: 20px;background-color: rgb(50, 250, 250);\"></td><td title=\"Index: [3, 2]&#10;Color: (50, 250, 250)\" style=\"width: 20px; height: 20px;background-color: rgb(50, 250, 250);\"></td><td title=\"Index: [3, 3]&#10;Color: (50, 250, 250)\" style=\"width: 20px; height: 20px;background-color: rgb(50, 250, 250);\"></td><td title=\"Index: [3, 4]&#10;Color: (50, 250, 250)\" style=\"width: 20px; height: 20px;background-color: rgb(50, 250, 250);\"></td><td title=\"Index: [3, 5]&#10;Color: (50, 250, 250)\" style=\"width: 20px; height: 20px;background-color: rgb(50, 250, 250);\"></td><td title=\"Index: [3, 6]&#10;Color: (50, 250, 250)\" style=\"width: 20px; height: 20px;background-color: rgb(50, 250, 250);\"></td><td title=\"Index: [3, 7]&#10;Color: (50, 250, 250)\" style=\"width: 20px; height: 20px;background-color: rgb(50, 250, 250);\"></td></tr><tr><td title=\"Index: [4, 0]&#10;Color: (50, 250, 250)\" style=\"width: 20px; height: 20px;background-color: rgb(50, 250, 250);\"></td><td title=\"Index: [4, 1]&#10;Color: (50, 250, 250)\" style=\"width: 20px; height: 20px;background-color: rgb(50, 250, 250);\"></td><td title=\"Index: [4, 2]&#10;Color: (50, 250, 250)\" style=\"width: 20px; height: 20px;background-color: rgb(50, 250, 250);\"></td><td title=\"Index: [4, 3]&#10;Color: (50, 250, 250)\" style=\"width: 20px; height: 20px;background-color: rgb(50, 250, 250);\"></td><td title=\"Index: [4, 4]&#10;Color: (50, 250, 250)\" style=\"width: 20px; height: 20px;background-color: rgb(50, 250, 250);\"></td><td title=\"Index: [4, 5]&#10;Color: (50, 250, 250)\" style=\"width: 20px; height: 20px;background-color: rgb(50, 250, 250);\"></td><td title=\"Index: [4, 6]&#10;Color: (50, 250, 250)\" style=\"width: 20px; height: 20px;background-color: rgb(50, 250, 250);\"></td><td title=\"Index: [4, 7]&#10;Color: (50, 250, 250)\" style=\"width: 20px; height: 20px;background-color: rgb(50, 250, 250);\"></td></tr><tr><td title=\"Index: [5, 0]&#10;Color: (50, 250, 250)\" style=\"width: 20px; height: 20px;background-color: rgb(50, 250, 250);\"></td><td title=\"Index: [5, 1]&#10;Color: (50, 250, 250)\" style=\"width: 20px; height: 20px;background-color: rgb(50, 250, 250);\"></td><td title=\"Index: [5, 2]&#10;Color: (50, 250, 250)\" style=\"width: 20px; height: 20px;background-color: rgb(50, 250, 250);\"></td><td title=\"Index: [5, 3]&#10;Color: (50, 250, 250)\" style=\"width: 20px; height: 20px;background-color: rgb(50, 250, 250);\"></td><td title=\"Index: [5, 4]&#10;Color: (50, 250, 250)\" style=\"width: 20px; height: 20px;background-color: rgb(50, 250, 250);\"></td><td title=\"Index: [5, 5]&#10;Color: (50, 250, 250)\" style=\"width: 20px; height: 20px;background-color: rgb(50, 250, 250);\"></td><td title=\"Index: [5, 6]&#10;Color: (50, 250, 250)\" style=\"width: 20px; height: 20px;background-color: rgb(50, 250, 250);\"></td><td title=\"Index: [5, 7]&#10;Color: (50, 250, 250)\" style=\"width: 20px; height: 20px;background-color: rgb(50, 250, 250);\"></td></tr><tr><td title=\"Index: [6, 0]&#10;Color: (50, 250, 250)\" style=\"width: 20px; height: 20px;background-color: rgb(50, 250, 250);\"></td><td title=\"Index: [6, 1]&#10;Color: (50, 250, 250)\" style=\"width: 20px; height: 20px;background-color: rgb(50, 250, 250);\"></td><td title=\"Index: [6, 2]&#10;Color: (50, 250, 250)\" style=\"width: 20px; height: 20px;background-color: rgb(50, 250, 250);\"></td><td title=\"Index: [6, 3]&#10;Color: (50, 250, 250)\" style=\"width: 20px; height: 20px;background-color: rgb(50, 250, 250);\"></td><td title=\"Index: [6, 4]&#10;Color: (50, 250, 250)\" style=\"width: 20px; height: 20px;background-color: rgb(50, 250, 250);\"></td><td title=\"Index: [6, 5]&#10;Color: (50, 250, 250)\" style=\"width: 20px; height: 20px;background-color: rgb(50, 250, 250);\"></td><td title=\"Index: [6, 6]&#10;Color: (50, 250, 250)\" style=\"width: 20px; height: 20px;background-color: rgb(50, 250, 250);\"></td><td title=\"Index: [6, 7]&#10;Color: (50, 250, 250)\" style=\"width: 20px; height: 20px;background-color: rgb(50, 250, 250);\"></td></tr><tr><td title=\"Index: [7, 0]&#10;Color: (50, 250, 250)\" style=\"width: 20px; height: 20px;background-color: rgb(50, 250, 250);\"></td><td title=\"Index: [7, 1]&#10;Color: (50, 250, 250)\" style=\"width: 20px; height: 20px;background-color: rgb(50, 250, 250);\"></td><td title=\"Index: [7, 2]&#10;Color: (50, 250, 250)\" style=\"width: 20px; height: 20px;background-color: rgb(50, 250, 250);\"></td><td title=\"Index: [7, 3]&#10;Color: (50, 250, 250)\" style=\"width: 20px; height: 20px;background-color: rgb(50, 250, 250);\"></td><td title=\"Index: [7, 4]&#10;Color: (50, 250, 250)\" style=\"width: 20px; height: 20px;background-color: rgb(50, 250, 250);\"></td><td title=\"Index: [7, 5]&#10;Color: (50, 250, 250)\" style=\"width: 20px; height: 20px;background-color: rgb(50, 250, 250);\"></td><td title=\"Index: [7, 6]&#10;Color: (50, 250, 250)\" style=\"width: 20px; height: 20px;background-color: rgb(50, 250, 250);\"></td><td title=\"Index: [7, 7]&#10;Color: (50, 250, 250)\" style=\"width: 20px; height: 20px;background-color: rgb(50, 250, 250);\"></td></tr></tbody></table>"
       ],
       "metadata": {},
       "output_type": "display_data",
       "text": [
        "<IPython.core.display.HTML at 0x1048749d0>"
       ]
      },
      {
       "output_type": "stream",
       "stream": "stdout",
       "text": [
        "Turn 2\n"
       ]
      },
      {
       "name": "stdout",
       "output_type": "stream",
       "stream": "stdout",
       "text": [
        "Guess Row:2\n"
       ]
      },
      {
       "name": "stdout",
       "output_type": "stream",
       "stream": "stdout",
       "text": [
        "Guess Col:2\n"
       ]
      },
      {
       "output_type": "stream",
       "stream": "stdout",
       "text": [
        "You missed my battleship!\n",
        "You guessed that one already.\n"
       ]
      },
      {
       "html": [
        "<style type=\"text/css\">table.blockgrid {border: none;} .blockgrid tr {border: none;} .blockgrid td {padding: 0px;} #blocks3b6b1aa5-914c-4352-9c09-76ecc4491586 td {border: 1px solid white;}</style><table id=\"blocks3b6b1aa5-914c-4352-9c09-76ecc4491586\" class=\"blockgrid\"><tbody><tr><td title=\"Index: [0, 0]&#10;Color: (0, 255, 0)\" style=\"width: 20px; height: 20px;background-color: rgb(0, 255, 0);\"></td><td title=\"Index: [0, 1]&#10;Color: (50, 250, 250)\" style=\"width: 20px; height: 20px;background-color: rgb(50, 250, 250);\"></td><td title=\"Index: [0, 2]&#10;Color: (50, 250, 250)\" style=\"width: 20px; height: 20px;background-color: rgb(50, 250, 250);\"></td><td title=\"Index: [0, 3]&#10;Color: (50, 250, 250)\" style=\"width: 20px; height: 20px;background-color: rgb(50, 250, 250);\"></td><td title=\"Index: [0, 4]&#10;Color: (50, 250, 250)\" style=\"width: 20px; height: 20px;background-color: rgb(50, 250, 250);\"></td><td title=\"Index: [0, 5]&#10;Color: (50, 250, 250)\" style=\"width: 20px; height: 20px;background-color: rgb(50, 250, 250);\"></td><td title=\"Index: [0, 6]&#10;Color: (50, 250, 250)\" style=\"width: 20px; height: 20px;background-color: rgb(50, 250, 250);\"></td><td title=\"Index: [0, 7]&#10;Color: (50, 250, 250)\" style=\"width: 20px; height: 20px;background-color: rgb(50, 250, 250);\"></td></tr><tr><td title=\"Index: [1, 0]&#10;Color: (50, 250, 250)\" style=\"width: 20px; height: 20px;background-color: rgb(50, 250, 250);\"></td><td title=\"Index: [1, 1]&#10;Color: (0, 255, 0)\" style=\"width: 20px; height: 20px;background-color: rgb(0, 255, 0);\"></td><td title=\"Index: [1, 2]&#10;Color: (50, 250, 250)\" style=\"width: 20px; height: 20px;background-color: rgb(50, 250, 250);\"></td><td title=\"Index: [1, 3]&#10;Color: (50, 250, 250)\" style=\"width: 20px; height: 20px;background-color: rgb(50, 250, 250);\"></td><td title=\"Index: [1, 4]&#10;Color: (50, 250, 250)\" style=\"width: 20px; height: 20px;background-color: rgb(50, 250, 250);\"></td><td title=\"Index: [1, 5]&#10;Color: (50, 250, 250)\" style=\"width: 20px; height: 20px;background-color: rgb(50, 250, 250);\"></td><td title=\"Index: [1, 6]&#10;Color: (50, 250, 250)\" style=\"width: 20px; height: 20px;background-color: rgb(50, 250, 250);\"></td><td title=\"Index: [1, 7]&#10;Color: (50, 250, 250)\" style=\"width: 20px; height: 20px;background-color: rgb(50, 250, 250);\"></td></tr><tr><td title=\"Index: [2, 0]&#10;Color: (50, 250, 250)\" style=\"width: 20px; height: 20px;background-color: rgb(50, 250, 250);\"></td><td title=\"Index: [2, 1]&#10;Color: (50, 250, 250)\" style=\"width: 20px; height: 20px;background-color: rgb(50, 250, 250);\"></td><td title=\"Index: [2, 2]&#10;Color: (50, 250, 250)\" style=\"width: 20px; height: 20px;background-color: rgb(50, 250, 250);\"></td><td title=\"Index: [2, 3]&#10;Color: (50, 250, 250)\" style=\"width: 20px; height: 20px;background-color: rgb(50, 250, 250);\"></td><td title=\"Index: [2, 4]&#10;Color: (50, 250, 250)\" style=\"width: 20px; height: 20px;background-color: rgb(50, 250, 250);\"></td><td title=\"Index: [2, 5]&#10;Color: (50, 250, 250)\" style=\"width: 20px; height: 20px;background-color: rgb(50, 250, 250);\"></td><td title=\"Index: [2, 6]&#10;Color: (50, 250, 250)\" style=\"width: 20px; height: 20px;background-color: rgb(50, 250, 250);\"></td><td title=\"Index: [2, 7]&#10;Color: (50, 250, 250)\" style=\"width: 20px; height: 20px;background-color: rgb(50, 250, 250);\"></td></tr><tr><td title=\"Index: [3, 0]&#10;Color: (50, 250, 250)\" style=\"width: 20px; height: 20px;background-color: rgb(50, 250, 250);\"></td><td title=\"Index: [3, 1]&#10;Color: (50, 250, 250)\" style=\"width: 20px; height: 20px;background-color: rgb(50, 250, 250);\"></td><td title=\"Index: [3, 2]&#10;Color: (50, 250, 250)\" style=\"width: 20px; height: 20px;background-color: rgb(50, 250, 250);\"></td><td title=\"Index: [3, 3]&#10;Color: (50, 250, 250)\" style=\"width: 20px; height: 20px;background-color: rgb(50, 250, 250);\"></td><td title=\"Index: [3, 4]&#10;Color: (50, 250, 250)\" style=\"width: 20px; height: 20px;background-color: rgb(50, 250, 250);\"></td><td title=\"Index: [3, 5]&#10;Color: (50, 250, 250)\" style=\"width: 20px; height: 20px;background-color: rgb(50, 250, 250);\"></td><td title=\"Index: [3, 6]&#10;Color: (50, 250, 250)\" style=\"width: 20px; height: 20px;background-color: rgb(50, 250, 250);\"></td><td title=\"Index: [3, 7]&#10;Color: (50, 250, 250)\" style=\"width: 20px; height: 20px;background-color: rgb(50, 250, 250);\"></td></tr><tr><td title=\"Index: [4, 0]&#10;Color: (50, 250, 250)\" style=\"width: 20px; height: 20px;background-color: rgb(50, 250, 250);\"></td><td title=\"Index: [4, 1]&#10;Color: (50, 250, 250)\" style=\"width: 20px; height: 20px;background-color: rgb(50, 250, 250);\"></td><td title=\"Index: [4, 2]&#10;Color: (50, 250, 250)\" style=\"width: 20px; height: 20px;background-color: rgb(50, 250, 250);\"></td><td title=\"Index: [4, 3]&#10;Color: (50, 250, 250)\" style=\"width: 20px; height: 20px;background-color: rgb(50, 250, 250);\"></td><td title=\"Index: [4, 4]&#10;Color: (50, 250, 250)\" style=\"width: 20px; height: 20px;background-color: rgb(50, 250, 250);\"></td><td title=\"Index: [4, 5]&#10;Color: (50, 250, 250)\" style=\"width: 20px; height: 20px;background-color: rgb(50, 250, 250);\"></td><td title=\"Index: [4, 6]&#10;Color: (50, 250, 250)\" style=\"width: 20px; height: 20px;background-color: rgb(50, 250, 250);\"></td><td title=\"Index: [4, 7]&#10;Color: (50, 250, 250)\" style=\"width: 20px; height: 20px;background-color: rgb(50, 250, 250);\"></td></tr><tr><td title=\"Index: [5, 0]&#10;Color: (50, 250, 250)\" style=\"width: 20px; height: 20px;background-color: rgb(50, 250, 250);\"></td><td title=\"Index: [5, 1]&#10;Color: (50, 250, 250)\" style=\"width: 20px; height: 20px;background-color: rgb(50, 250, 250);\"></td><td title=\"Index: [5, 2]&#10;Color: (50, 250, 250)\" style=\"width: 20px; height: 20px;background-color: rgb(50, 250, 250);\"></td><td title=\"Index: [5, 3]&#10;Color: (50, 250, 250)\" style=\"width: 20px; height: 20px;background-color: rgb(50, 250, 250);\"></td><td title=\"Index: [5, 4]&#10;Color: (50, 250, 250)\" style=\"width: 20px; height: 20px;background-color: rgb(50, 250, 250);\"></td><td title=\"Index: [5, 5]&#10;Color: (50, 250, 250)\" style=\"width: 20px; height: 20px;background-color: rgb(50, 250, 250);\"></td><td title=\"Index: [5, 6]&#10;Color: (50, 250, 250)\" style=\"width: 20px; height: 20px;background-color: rgb(50, 250, 250);\"></td><td title=\"Index: [5, 7]&#10;Color: (50, 250, 250)\" style=\"width: 20px; height: 20px;background-color: rgb(50, 250, 250);\"></td></tr><tr><td title=\"Index: [6, 0]&#10;Color: (50, 250, 250)\" style=\"width: 20px; height: 20px;background-color: rgb(50, 250, 250);\"></td><td title=\"Index: [6, 1]&#10;Color: (50, 250, 250)\" style=\"width: 20px; height: 20px;background-color: rgb(50, 250, 250);\"></td><td title=\"Index: [6, 2]&#10;Color: (50, 250, 250)\" style=\"width: 20px; height: 20px;background-color: rgb(50, 250, 250);\"></td><td title=\"Index: [6, 3]&#10;Color: (50, 250, 250)\" style=\"width: 20px; height: 20px;background-color: rgb(50, 250, 250);\"></td><td title=\"Index: [6, 4]&#10;Color: (50, 250, 250)\" style=\"width: 20px; height: 20px;background-color: rgb(50, 250, 250);\"></td><td title=\"Index: [6, 5]&#10;Color: (50, 250, 250)\" style=\"width: 20px; height: 20px;background-color: rgb(50, 250, 250);\"></td><td title=\"Index: [6, 6]&#10;Color: (50, 250, 250)\" style=\"width: 20px; height: 20px;background-color: rgb(50, 250, 250);\"></td><td title=\"Index: [6, 7]&#10;Color: (50, 250, 250)\" style=\"width: 20px; height: 20px;background-color: rgb(50, 250, 250);\"></td></tr><tr><td title=\"Index: [7, 0]&#10;Color: (50, 250, 250)\" style=\"width: 20px; height: 20px;background-color: rgb(50, 250, 250);\"></td><td title=\"Index: [7, 1]&#10;Color: (50, 250, 250)\" style=\"width: 20px; height: 20px;background-color: rgb(50, 250, 250);\"></td><td title=\"Index: [7, 2]&#10;Color: (50, 250, 250)\" style=\"width: 20px; height: 20px;background-color: rgb(50, 250, 250);\"></td><td title=\"Index: [7, 3]&#10;Color: (50, 250, 250)\" style=\"width: 20px; height: 20px;background-color: rgb(50, 250, 250);\"></td><td title=\"Index: [7, 4]&#10;Color: (50, 250, 250)\" style=\"width: 20px; height: 20px;background-color: rgb(50, 250, 250);\"></td><td title=\"Index: [7, 5]&#10;Color: (50, 250, 250)\" style=\"width: 20px; height: 20px;background-color: rgb(50, 250, 250);\"></td><td title=\"Index: [7, 6]&#10;Color: (50, 250, 250)\" style=\"width: 20px; height: 20px;background-color: rgb(50, 250, 250);\"></td><td title=\"Index: [7, 7]&#10;Color: (50, 250, 250)\" style=\"width: 20px; height: 20px;background-color: rgb(50, 250, 250);\"></td></tr></tbody></table>"
       ],
       "metadata": {},
       "output_type": "display_data",
       "text": [
        "<IPython.core.display.HTML at 0x1048749d0>"
       ]
      },
      {
       "output_type": "stream",
       "stream": "stdout",
       "text": [
        "Turn 3\n"
       ]
      },
      {
       "name": "stdout",
       "output_type": "stream",
       "stream": "stdout",
       "text": [
        "Guess Row:4\n"
       ]
      },
      {
       "name": "stdout",
       "output_type": "stream",
       "stream": "stdout",
       "text": [
        "Guess Col:4\n"
       ]
      },
      {
       "output_type": "stream",
       "stream": "stdout",
       "text": [
        "You missed my battleship!\n",
        "You guessed that one already.\n"
       ]
      },
      {
       "html": [
        "<style type=\"text/css\">table.blockgrid {border: none;} .blockgrid tr {border: none;} .blockgrid td {padding: 0px;} #blocks497978d3-2700-430e-87e8-629ee21bd20c td {border: 1px solid white;}</style><table id=\"blocks497978d3-2700-430e-87e8-629ee21bd20c\" class=\"blockgrid\"><tbody><tr><td title=\"Index: [0, 0]&#10;Color: (0, 255, 0)\" style=\"width: 20px; height: 20px;background-color: rgb(0, 255, 0);\"></td><td title=\"Index: [0, 1]&#10;Color: (50, 250, 250)\" style=\"width: 20px; height: 20px;background-color: rgb(50, 250, 250);\"></td><td title=\"Index: [0, 2]&#10;Color: (50, 250, 250)\" style=\"width: 20px; height: 20px;background-color: rgb(50, 250, 250);\"></td><td title=\"Index: [0, 3]&#10;Color: (50, 250, 250)\" style=\"width: 20px; height: 20px;background-color: rgb(50, 250, 250);\"></td><td title=\"Index: [0, 4]&#10;Color: (50, 250, 250)\" style=\"width: 20px; height: 20px;background-color: rgb(50, 250, 250);\"></td><td title=\"Index: [0, 5]&#10;Color: (50, 250, 250)\" style=\"width: 20px; height: 20px;background-color: rgb(50, 250, 250);\"></td><td title=\"Index: [0, 6]&#10;Color: (50, 250, 250)\" style=\"width: 20px; height: 20px;background-color: rgb(50, 250, 250);\"></td><td title=\"Index: [0, 7]&#10;Color: (50, 250, 250)\" style=\"width: 20px; height: 20px;background-color: rgb(50, 250, 250);\"></td></tr><tr><td title=\"Index: [1, 0]&#10;Color: (50, 250, 250)\" style=\"width: 20px; height: 20px;background-color: rgb(50, 250, 250);\"></td><td title=\"Index: [1, 1]&#10;Color: (0, 255, 0)\" style=\"width: 20px; height: 20px;background-color: rgb(0, 255, 0);\"></td><td title=\"Index: [1, 2]&#10;Color: (50, 250, 250)\" style=\"width: 20px; height: 20px;background-color: rgb(50, 250, 250);\"></td><td title=\"Index: [1, 3]&#10;Color: (50, 250, 250)\" style=\"width: 20px; height: 20px;background-color: rgb(50, 250, 250);\"></td><td title=\"Index: [1, 4]&#10;Color: (50, 250, 250)\" style=\"width: 20px; height: 20px;background-color: rgb(50, 250, 250);\"></td><td title=\"Index: [1, 5]&#10;Color: (50, 250, 250)\" style=\"width: 20px; height: 20px;background-color: rgb(50, 250, 250);\"></td><td title=\"Index: [1, 6]&#10;Color: (50, 250, 250)\" style=\"width: 20px; height: 20px;background-color: rgb(50, 250, 250);\"></td><td title=\"Index: [1, 7]&#10;Color: (50, 250, 250)\" style=\"width: 20px; height: 20px;background-color: rgb(50, 250, 250);\"></td></tr><tr><td title=\"Index: [2, 0]&#10;Color: (50, 250, 250)\" style=\"width: 20px; height: 20px;background-color: rgb(50, 250, 250);\"></td><td title=\"Index: [2, 1]&#10;Color: (50, 250, 250)\" style=\"width: 20px; height: 20px;background-color: rgb(50, 250, 250);\"></td><td title=\"Index: [2, 2]&#10;Color: (50, 250, 250)\" style=\"width: 20px; height: 20px;background-color: rgb(50, 250, 250);\"></td><td title=\"Index: [2, 3]&#10;Color: (50, 250, 250)\" style=\"width: 20px; height: 20px;background-color: rgb(50, 250, 250);\"></td><td title=\"Index: [2, 4]&#10;Color: (50, 250, 250)\" style=\"width: 20px; height: 20px;background-color: rgb(50, 250, 250);\"></td><td title=\"Index: [2, 5]&#10;Color: (50, 250, 250)\" style=\"width: 20px; height: 20px;background-color: rgb(50, 250, 250);\"></td><td title=\"Index: [2, 6]&#10;Color: (50, 250, 250)\" style=\"width: 20px; height: 20px;background-color: rgb(50, 250, 250);\"></td><td title=\"Index: [2, 7]&#10;Color: (50, 250, 250)\" style=\"width: 20px; height: 20px;background-color: rgb(50, 250, 250);\"></td></tr><tr><td title=\"Index: [3, 0]&#10;Color: (50, 250, 250)\" style=\"width: 20px; height: 20px;background-color: rgb(50, 250, 250);\"></td><td title=\"Index: [3, 1]&#10;Color: (50, 250, 250)\" style=\"width: 20px; height: 20px;background-color: rgb(50, 250, 250);\"></td><td title=\"Index: [3, 2]&#10;Color: (50, 250, 250)\" style=\"width: 20px; height: 20px;background-color: rgb(50, 250, 250);\"></td><td title=\"Index: [3, 3]&#10;Color: (0, 255, 0)\" style=\"width: 20px; height: 20px;background-color: rgb(0, 255, 0);\"></td><td title=\"Index: [3, 4]&#10;Color: (50, 250, 250)\" style=\"width: 20px; height: 20px;background-color: rgb(50, 250, 250);\"></td><td title=\"Index: [3, 5]&#10;Color: (50, 250, 250)\" style=\"width: 20px; height: 20px;background-color: rgb(50, 250, 250);\"></td><td title=\"Index: [3, 6]&#10;Color: (50, 250, 250)\" style=\"width: 20px; height: 20px;background-color: rgb(50, 250, 250);\"></td><td title=\"Index: [3, 7]&#10;Color: (50, 250, 250)\" style=\"width: 20px; height: 20px;background-color: rgb(50, 250, 250);\"></td></tr><tr><td title=\"Index: [4, 0]&#10;Color: (50, 250, 250)\" style=\"width: 20px; height: 20px;background-color: rgb(50, 250, 250);\"></td><td title=\"Index: [4, 1]&#10;Color: (50, 250, 250)\" style=\"width: 20px; height: 20px;background-color: rgb(50, 250, 250);\"></td><td title=\"Index: [4, 2]&#10;Color: (50, 250, 250)\" style=\"width: 20px; height: 20px;background-color: rgb(50, 250, 250);\"></td><td title=\"Index: [4, 3]&#10;Color: (50, 250, 250)\" style=\"width: 20px; height: 20px;background-color: rgb(50, 250, 250);\"></td><td title=\"Index: [4, 4]&#10;Color: (50, 250, 250)\" style=\"width: 20px; height: 20px;background-color: rgb(50, 250, 250);\"></td><td title=\"Index: [4, 5]&#10;Color: (50, 250, 250)\" style=\"width: 20px; height: 20px;background-color: rgb(50, 250, 250);\"></td><td title=\"Index: [4, 6]&#10;Color: (50, 250, 250)\" style=\"width: 20px; height: 20px;background-color: rgb(50, 250, 250);\"></td><td title=\"Index: [4, 7]&#10;Color: (50, 250, 250)\" style=\"width: 20px; height: 20px;background-color: rgb(50, 250, 250);\"></td></tr><tr><td title=\"Index: [5, 0]&#10;Color: (50, 250, 250)\" style=\"width: 20px; height: 20px;background-color: rgb(50, 250, 250);\"></td><td title=\"Index: [5, 1]&#10;Color: (50, 250, 250)\" style=\"width: 20px; height: 20px;background-color: rgb(50, 250, 250);\"></td><td title=\"Index: [5, 2]&#10;Color: (50, 250, 250)\" style=\"width: 20px; height: 20px;background-color: rgb(50, 250, 250);\"></td><td title=\"Index: [5, 3]&#10;Color: (50, 250, 250)\" style=\"width: 20px; height: 20px;background-color: rgb(50, 250, 250);\"></td><td title=\"Index: [5, 4]&#10;Color: (50, 250, 250)\" style=\"width: 20px; height: 20px;background-color: rgb(50, 250, 250);\"></td><td title=\"Index: [5, 5]&#10;Color: (50, 250, 250)\" style=\"width: 20px; height: 20px;background-color: rgb(50, 250, 250);\"></td><td title=\"Index: [5, 6]&#10;Color: (50, 250, 250)\" style=\"width: 20px; height: 20px;background-color: rgb(50, 250, 250);\"></td><td title=\"Index: [5, 7]&#10;Color: (50, 250, 250)\" style=\"width: 20px; height: 20px;background-color: rgb(50, 250, 250);\"></td></tr><tr><td title=\"Index: [6, 0]&#10;Color: (50, 250, 250)\" style=\"width: 20px; height: 20px;background-color: rgb(50, 250, 250);\"></td><td title=\"Index: [6, 1]&#10;Color: (50, 250, 250)\" style=\"width: 20px; height: 20px;background-color: rgb(50, 250, 250);\"></td><td title=\"Index: [6, 2]&#10;Color: (50, 250, 250)\" style=\"width: 20px; height: 20px;background-color: rgb(50, 250, 250);\"></td><td title=\"Index: [6, 3]&#10;Color: (50, 250, 250)\" style=\"width: 20px; height: 20px;background-color: rgb(50, 250, 250);\"></td><td title=\"Index: [6, 4]&#10;Color: (50, 250, 250)\" style=\"width: 20px; height: 20px;background-color: rgb(50, 250, 250);\"></td><td title=\"Index: [6, 5]&#10;Color: (50, 250, 250)\" style=\"width: 20px; height: 20px;background-color: rgb(50, 250, 250);\"></td><td title=\"Index: [6, 6]&#10;Color: (50, 250, 250)\" style=\"width: 20px; height: 20px;background-color: rgb(50, 250, 250);\"></td><td title=\"Index: [6, 7]&#10;Color: (50, 250, 250)\" style=\"width: 20px; height: 20px;background-color: rgb(50, 250, 250);\"></td></tr><tr><td title=\"Index: [7, 0]&#10;Color: (50, 250, 250)\" style=\"width: 20px; height: 20px;background-color: rgb(50, 250, 250);\"></td><td title=\"Index: [7, 1]&#10;Color: (50, 250, 250)\" style=\"width: 20px; height: 20px;background-color: rgb(50, 250, 250);\"></td><td title=\"Index: [7, 2]&#10;Color: (50, 250, 250)\" style=\"width: 20px; height: 20px;background-color: rgb(50, 250, 250);\"></td><td title=\"Index: [7, 3]&#10;Color: (50, 250, 250)\" style=\"width: 20px; height: 20px;background-color: rgb(50, 250, 250);\"></td><td title=\"Index: [7, 4]&#10;Color: (50, 250, 250)\" style=\"width: 20px; height: 20px;background-color: rgb(50, 250, 250);\"></td><td title=\"Index: [7, 5]&#10;Color: (50, 250, 250)\" style=\"width: 20px; height: 20px;background-color: rgb(50, 250, 250);\"></td><td title=\"Index: [7, 6]&#10;Color: (50, 250, 250)\" style=\"width: 20px; height: 20px;background-color: rgb(50, 250, 250);\"></td><td title=\"Index: [7, 7]&#10;Color: (50, 250, 250)\" style=\"width: 20px; height: 20px;background-color: rgb(50, 250, 250);\"></td></tr></tbody></table>"
       ],
       "metadata": {},
       "output_type": "display_data",
       "text": [
        "<IPython.core.display.HTML at 0x1048749d0>"
       ]
      },
      {
       "output_type": "stream",
       "stream": "stdout",
       "text": [
        "Turn 4\n"
       ]
      },
      {
       "name": "stdout",
       "output_type": "stream",
       "stream": "stdout",
       "text": [
        "Guess Row:6\n"
       ]
      },
      {
       "name": "stdout",
       "output_type": "stream",
       "stream": "stdout",
       "text": [
        "Guess Col:8\n"
       ]
      },
      {
       "output_type": "stream",
       "stream": "stdout",
       "text": [
        "You missed my battleship!\n",
        "You guessed that one already.\n",
        "Game Over\n",
        "The ship was located from  8 , 3 to 8 , 7\n"
       ]
      },
      {
       "html": [
        "<style type=\"text/css\">table.blockgrid {border: none;} .blockgrid tr {border: none;} .blockgrid td {padding: 0px;} #blocks3c799797-7fa6-451a-a06c-6ed3e3241d83 td {border: 1px solid white;}</style><table id=\"blocks3c799797-7fa6-451a-a06c-6ed3e3241d83\" class=\"blockgrid\"><tbody><tr><td title=\"Index: [0, 0]&#10;Color: (0, 255, 0)\" style=\"width: 20px; height: 20px;background-color: rgb(0, 255, 0);\"></td><td title=\"Index: [0, 1]&#10;Color: (50, 250, 250)\" style=\"width: 20px; height: 20px;background-color: rgb(50, 250, 250);\"></td><td title=\"Index: [0, 2]&#10;Color: (50, 250, 250)\" style=\"width: 20px; height: 20px;background-color: rgb(50, 250, 250);\"></td><td title=\"Index: [0, 3]&#10;Color: (50, 250, 250)\" style=\"width: 20px; height: 20px;background-color: rgb(50, 250, 250);\"></td><td title=\"Index: [0, 4]&#10;Color: (50, 250, 250)\" style=\"width: 20px; height: 20px;background-color: rgb(50, 250, 250);\"></td><td title=\"Index: [0, 5]&#10;Color: (50, 250, 250)\" style=\"width: 20px; height: 20px;background-color: rgb(50, 250, 250);\"></td><td title=\"Index: [0, 6]&#10;Color: (50, 250, 250)\" style=\"width: 20px; height: 20px;background-color: rgb(50, 250, 250);\"></td><td title=\"Index: [0, 7]&#10;Color: (50, 250, 250)\" style=\"width: 20px; height: 20px;background-color: rgb(50, 250, 250);\"></td></tr><tr><td title=\"Index: [1, 0]&#10;Color: (50, 250, 250)\" style=\"width: 20px; height: 20px;background-color: rgb(50, 250, 250);\"></td><td title=\"Index: [1, 1]&#10;Color: (0, 255, 0)\" style=\"width: 20px; height: 20px;background-color: rgb(0, 255, 0);\"></td><td title=\"Index: [1, 2]&#10;Color: (50, 250, 250)\" style=\"width: 20px; height: 20px;background-color: rgb(50, 250, 250);\"></td><td title=\"Index: [1, 3]&#10;Color: (50, 250, 250)\" style=\"width: 20px; height: 20px;background-color: rgb(50, 250, 250);\"></td><td title=\"Index: [1, 4]&#10;Color: (50, 250, 250)\" style=\"width: 20px; height: 20px;background-color: rgb(50, 250, 250);\"></td><td title=\"Index: [1, 5]&#10;Color: (50, 250, 250)\" style=\"width: 20px; height: 20px;background-color: rgb(50, 250, 250);\"></td><td title=\"Index: [1, 6]&#10;Color: (50, 250, 250)\" style=\"width: 20px; height: 20px;background-color: rgb(50, 250, 250);\"></td><td title=\"Index: [1, 7]&#10;Color: (50, 250, 250)\" style=\"width: 20px; height: 20px;background-color: rgb(50, 250, 250);\"></td></tr><tr><td title=\"Index: [2, 0]&#10;Color: (50, 250, 250)\" style=\"width: 20px; height: 20px;background-color: rgb(50, 250, 250);\"></td><td title=\"Index: [2, 1]&#10;Color: (50, 250, 250)\" style=\"width: 20px; height: 20px;background-color: rgb(50, 250, 250);\"></td><td title=\"Index: [2, 2]&#10;Color: (50, 250, 250)\" style=\"width: 20px; height: 20px;background-color: rgb(50, 250, 250);\"></td><td title=\"Index: [2, 3]&#10;Color: (50, 250, 250)\" style=\"width: 20px; height: 20px;background-color: rgb(50, 250, 250);\"></td><td title=\"Index: [2, 4]&#10;Color: (50, 250, 250)\" style=\"width: 20px; height: 20px;background-color: rgb(50, 250, 250);\"></td><td title=\"Index: [2, 5]&#10;Color: (50, 250, 250)\" style=\"width: 20px; height: 20px;background-color: rgb(50, 250, 250);\"></td><td title=\"Index: [2, 6]&#10;Color: (50, 250, 250)\" style=\"width: 20px; height: 20px;background-color: rgb(50, 250, 250);\"></td><td title=\"Index: [2, 7]&#10;Color: (50, 250, 250)\" style=\"width: 20px; height: 20px;background-color: rgb(50, 250, 250);\"></td></tr><tr><td title=\"Index: [3, 0]&#10;Color: (50, 250, 250)\" style=\"width: 20px; height: 20px;background-color: rgb(50, 250, 250);\"></td><td title=\"Index: [3, 1]&#10;Color: (50, 250, 250)\" style=\"width: 20px; height: 20px;background-color: rgb(50, 250, 250);\"></td><td title=\"Index: [3, 2]&#10;Color: (50, 250, 250)\" style=\"width: 20px; height: 20px;background-color: rgb(50, 250, 250);\"></td><td title=\"Index: [3, 3]&#10;Color: (0, 255, 0)\" style=\"width: 20px; height: 20px;background-color: rgb(0, 255, 0);\"></td><td title=\"Index: [3, 4]&#10;Color: (50, 250, 250)\" style=\"width: 20px; height: 20px;background-color: rgb(50, 250, 250);\"></td><td title=\"Index: [3, 5]&#10;Color: (50, 250, 250)\" style=\"width: 20px; height: 20px;background-color: rgb(50, 250, 250);\"></td><td title=\"Index: [3, 6]&#10;Color: (50, 250, 250)\" style=\"width: 20px; height: 20px;background-color: rgb(50, 250, 250);\"></td><td title=\"Index: [3, 7]&#10;Color: (50, 250, 250)\" style=\"width: 20px; height: 20px;background-color: rgb(50, 250, 250);\"></td></tr><tr><td title=\"Index: [4, 0]&#10;Color: (50, 250, 250)\" style=\"width: 20px; height: 20px;background-color: rgb(50, 250, 250);\"></td><td title=\"Index: [4, 1]&#10;Color: (50, 250, 250)\" style=\"width: 20px; height: 20px;background-color: rgb(50, 250, 250);\"></td><td title=\"Index: [4, 2]&#10;Color: (50, 250, 250)\" style=\"width: 20px; height: 20px;background-color: rgb(50, 250, 250);\"></td><td title=\"Index: [4, 3]&#10;Color: (50, 250, 250)\" style=\"width: 20px; height: 20px;background-color: rgb(50, 250, 250);\"></td><td title=\"Index: [4, 4]&#10;Color: (50, 250, 250)\" style=\"width: 20px; height: 20px;background-color: rgb(50, 250, 250);\"></td><td title=\"Index: [4, 5]&#10;Color: (50, 250, 250)\" style=\"width: 20px; height: 20px;background-color: rgb(50, 250, 250);\"></td><td title=\"Index: [4, 6]&#10;Color: (50, 250, 250)\" style=\"width: 20px; height: 20px;background-color: rgb(50, 250, 250);\"></td><td title=\"Index: [4, 7]&#10;Color: (50, 250, 250)\" style=\"width: 20px; height: 20px;background-color: rgb(50, 250, 250);\"></td></tr><tr><td title=\"Index: [5, 0]&#10;Color: (50, 250, 250)\" style=\"width: 20px; height: 20px;background-color: rgb(50, 250, 250);\"></td><td title=\"Index: [5, 1]&#10;Color: (50, 250, 250)\" style=\"width: 20px; height: 20px;background-color: rgb(50, 250, 250);\"></td><td title=\"Index: [5, 2]&#10;Color: (50, 250, 250)\" style=\"width: 20px; height: 20px;background-color: rgb(50, 250, 250);\"></td><td title=\"Index: [5, 3]&#10;Color: (50, 250, 250)\" style=\"width: 20px; height: 20px;background-color: rgb(50, 250, 250);\"></td><td title=\"Index: [5, 4]&#10;Color: (50, 250, 250)\" style=\"width: 20px; height: 20px;background-color: rgb(50, 250, 250);\"></td><td title=\"Index: [5, 5]&#10;Color: (50, 250, 250)\" style=\"width: 20px; height: 20px;background-color: rgb(50, 250, 250);\"></td><td title=\"Index: [5, 6]&#10;Color: (50, 250, 250)\" style=\"width: 20px; height: 20px;background-color: rgb(50, 250, 250);\"></td><td title=\"Index: [5, 7]&#10;Color: (0, 255, 0)\" style=\"width: 20px; height: 20px;background-color: rgb(0, 255, 0);\"></td></tr><tr><td title=\"Index: [6, 0]&#10;Color: (50, 250, 250)\" style=\"width: 20px; height: 20px;background-color: rgb(50, 250, 250);\"></td><td title=\"Index: [6, 1]&#10;Color: (50, 250, 250)\" style=\"width: 20px; height: 20px;background-color: rgb(50, 250, 250);\"></td><td title=\"Index: [6, 2]&#10;Color: (50, 250, 250)\" style=\"width: 20px; height: 20px;background-color: rgb(50, 250, 250);\"></td><td title=\"Index: [6, 3]&#10;Color: (50, 250, 250)\" style=\"width: 20px; height: 20px;background-color: rgb(50, 250, 250);\"></td><td title=\"Index: [6, 4]&#10;Color: (50, 250, 250)\" style=\"width: 20px; height: 20px;background-color: rgb(50, 250, 250);\"></td><td title=\"Index: [6, 5]&#10;Color: (50, 250, 250)\" style=\"width: 20px; height: 20px;background-color: rgb(50, 250, 250);\"></td><td title=\"Index: [6, 6]&#10;Color: (50, 250, 250)\" style=\"width: 20px; height: 20px;background-color: rgb(50, 250, 250);\"></td><td title=\"Index: [6, 7]&#10;Color: (50, 250, 250)\" style=\"width: 20px; height: 20px;background-color: rgb(50, 250, 250);\"></td></tr><tr><td title=\"Index: [7, 0]&#10;Color: (50, 250, 250)\" style=\"width: 20px; height: 20px;background-color: rgb(50, 250, 250);\"></td><td title=\"Index: [7, 1]&#10;Color: (50, 250, 250)\" style=\"width: 20px; height: 20px;background-color: rgb(50, 250, 250);\"></td><td title=\"Index: [7, 2]&#10;Color: (255, 0, 0)\" style=\"width: 20px; height: 20px;background-color: rgb(255, 0, 0);\"></td><td title=\"Index: [7, 3]&#10;Color: (255, 0, 0)\" style=\"width: 20px; height: 20px;background-color: rgb(255, 0, 0);\"></td><td title=\"Index: [7, 4]&#10;Color: (255, 0, 0)\" style=\"width: 20px; height: 20px;background-color: rgb(255, 0, 0);\"></td><td title=\"Index: [7, 5]&#10;Color: (255, 0, 0)\" style=\"width: 20px; height: 20px;background-color: rgb(255, 0, 0);\"></td><td title=\"Index: [7, 6]&#10;Color: (50, 250, 250)\" style=\"width: 20px; height: 20px;background-color: rgb(50, 250, 250);\"></td><td title=\"Index: [7, 7]&#10;Color: (50, 250, 250)\" style=\"width: 20px; height: 20px;background-color: rgb(50, 250, 250);\"></td></tr></tbody></table>"
       ],
       "metadata": {},
       "output_type": "display_data",
       "text": [
        "<IPython.core.display.HTML at 0x1048749d0>"
       ]
      }
     ],
     "prompt_number": 43
    },
    {
     "cell_type": "code",
     "collapsed": false,
     "input": [],
     "language": "python",
     "metadata": {},
     "outputs": []
    }
   ],
   "metadata": {}
  }
 ]
}