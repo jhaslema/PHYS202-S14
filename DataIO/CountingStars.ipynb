{
 "metadata": {
  "name": "",
  "signature": "sha256:c1275809bb6c1bdf13cf0095cb6bf33ab3037d563b68f5c05a088ecfb6eb6793"
 },
 "nbformat": 3,
 "nbformat_minor": 0,
 "worksheets": []
}