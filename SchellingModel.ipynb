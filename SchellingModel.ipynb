{
 "metadata": {
  "name": "",
  "signature": "sha256:528073bb75d7be278219c1c20bfb9ef897d4aa3780f6a7e95e6ba6891ab77e47"
 },
 "nbformat": 3,
 "nbformat_minor": 0,
 "worksheets": [
  {
   "cells": [
    {
     "cell_type": "code",
     "collapsed": false,
     "input": [
      "%pylab inline\n",
      "from IPython.html import widgets\n",
      "from IPython.display import display\n",
      "from ipythonblocks import BlockGrid\n",
      "from IPython.display import clear_output\n",
      "import time as tm"
     ],
     "language": "python",
     "metadata": {},
     "outputs": [
      {
       "output_type": "stream",
       "stream": "stdout",
       "text": [
        "Populating the interactive namespace from numpy and matplotlib\n"
       ]
      }
     ],
     "prompt_number": 418
    },
    {
     "cell_type": "code",
     "collapsed": false,
     "input": [
      "#Set the wanted Grid Size from user\n",
      "gridSize = widgets.IntSliderWidget(min = 1,max = 40,stepsize=1,description = \"Grid Size\")\n",
      "display(gridSize)\n",
      "#Set the wanted Similarity Threshold\n",
      "threshold = widgets.IntSliderWidget(min = 0,max = 100,stepsize=1,description = \"Threshold\")\n",
      "display(threshold)\n",
      "#Set the wanted Population Density(%)\n",
      "density = widgets.IntSliderWidget(min = 1,max = 99,stepsize=1,description = \"Density\")\n",
      "display(density)\n",
      "#Set the wanted Relative Concentration\n",
      "concentration = widgets.IntSliderWidget(min = 0,max = 100,stepsize=1,description = \"Concentration\")\n",
      "display(concentration)"
     ],
     "language": "python",
     "metadata": {},
     "outputs": [],
     "prompt_number": 207
    },
    {
     "cell_type": "code",
     "collapsed": false,
     "input": [
      "grid = initializeGrid(gridSize,density,concentration)\n",
      "grid.show()"
     ],
     "language": "python",
     "metadata": {},
     "outputs": [
      {
       "output_type": "stream",
       "stream": "stdout",
       "text": [
        "25 Purple blocks\n",
        "25 Blue blocks\n"
       ]
      },
      {
       "html": [
        "<style type=\"text/css\">table.blockgrid {border: none;} .blockgrid tr {border: none;} .blockgrid td {padding: 0px;} #blockse863847c-fcbf-4da4-858a-d68b9f2aa67e td {border: 1px solid white;}</style><table id=\"blockse863847c-fcbf-4da4-858a-d68b9f2aa67e\" class=\"blockgrid\"><tbody><tr><td title=\"Index: [0, 0]&#10;Color: (220, 220, 220)\" style=\"width: 20px; height: 20px;background-color: rgb(220, 220, 220);\"></td><td title=\"Index: [0, 1]&#10;Color: (220, 220, 220)\" style=\"width: 20px; height: 20px;background-color: rgb(220, 220, 220);\"></td><td title=\"Index: [0, 2]&#10;Color: (100, 220, 220)\" style=\"width: 20px; height: 20px;background-color: rgb(100, 220, 220);\"></td><td title=\"Index: [0, 3]&#10;Color: (100, 220, 220)\" style=\"width: 20px; height: 20px;background-color: rgb(100, 220, 220);\"></td><td title=\"Index: [0, 4]&#10;Color: (100, 220, 220)\" style=\"width: 20px; height: 20px;background-color: rgb(100, 220, 220);\"></td><td title=\"Index: [0, 5]&#10;Color: (220, 220, 220)\" style=\"width: 20px; height: 20px;background-color: rgb(220, 220, 220);\"></td><td title=\"Index: [0, 6]&#10;Color: (220, 100, 200)\" style=\"width: 20px; height: 20px;background-color: rgb(220, 100, 200);\"></td><td title=\"Index: [0, 7]&#10;Color: (220, 220, 220)\" style=\"width: 20px; height: 20px;background-color: rgb(220, 220, 220);\"></td><td title=\"Index: [0, 8]&#10;Color: (100, 220, 220)\" style=\"width: 20px; height: 20px;background-color: rgb(100, 220, 220);\"></td><td title=\"Index: [0, 9]&#10;Color: (100, 220, 220)\" style=\"width: 20px; height: 20px;background-color: rgb(100, 220, 220);\"></td></tr><tr><td title=\"Index: [1, 0]&#10;Color: (220, 100, 200)\" style=\"width: 20px; height: 20px;background-color: rgb(220, 100, 200);\"></td><td title=\"Index: [1, 1]&#10;Color: (220, 220, 220)\" style=\"width: 20px; height: 20px;background-color: rgb(220, 220, 220);\"></td><td title=\"Index: [1, 2]&#10;Color: (220, 220, 220)\" style=\"width: 20px; height: 20px;background-color: rgb(220, 220, 220);\"></td><td title=\"Index: [1, 3]&#10;Color: (220, 220, 220)\" style=\"width: 20px; height: 20px;background-color: rgb(220, 220, 220);\"></td><td title=\"Index: [1, 4]&#10;Color: (220, 220, 220)\" style=\"width: 20px; height: 20px;background-color: rgb(220, 220, 220);\"></td><td title=\"Index: [1, 5]&#10;Color: (220, 100, 200)\" style=\"width: 20px; height: 20px;background-color: rgb(220, 100, 200);\"></td><td title=\"Index: [1, 6]&#10;Color: (100, 220, 220)\" style=\"width: 20px; height: 20px;background-color: rgb(100, 220, 220);\"></td><td title=\"Index: [1, 7]&#10;Color: (100, 220, 220)\" style=\"width: 20px; height: 20px;background-color: rgb(100, 220, 220);\"></td><td title=\"Index: [1, 8]&#10;Color: (220, 220, 220)\" style=\"width: 20px; height: 20px;background-color: rgb(220, 220, 220);\"></td><td title=\"Index: [1, 9]&#10;Color: (220, 220, 220)\" style=\"width: 20px; height: 20px;background-color: rgb(220, 220, 220);\"></td></tr><tr><td title=\"Index: [2, 0]&#10;Color: (220, 220, 220)\" style=\"width: 20px; height: 20px;background-color: rgb(220, 220, 220);\"></td><td title=\"Index: [2, 1]&#10;Color: (220, 220, 220)\" style=\"width: 20px; height: 20px;background-color: rgb(220, 220, 220);\"></td><td title=\"Index: [2, 2]&#10;Color: (100, 220, 220)\" style=\"width: 20px; height: 20px;background-color: rgb(100, 220, 220);\"></td><td title=\"Index: [2, 3]&#10;Color: (220, 220, 220)\" style=\"width: 20px; height: 20px;background-color: rgb(220, 220, 220);\"></td><td title=\"Index: [2, 4]&#10;Color: (100, 220, 220)\" style=\"width: 20px; height: 20px;background-color: rgb(100, 220, 220);\"></td><td title=\"Index: [2, 5]&#10;Color: (220, 220, 220)\" style=\"width: 20px; height: 20px;background-color: rgb(220, 220, 220);\"></td><td title=\"Index: [2, 6]&#10;Color: (100, 220, 220)\" style=\"width: 20px; height: 20px;background-color: rgb(100, 220, 220);\"></td><td title=\"Index: [2, 7]&#10;Color: (100, 220, 220)\" style=\"width: 20px; height: 20px;background-color: rgb(100, 220, 220);\"></td><td title=\"Index: [2, 8]&#10;Color: (220, 220, 220)\" style=\"width: 20px; height: 20px;background-color: rgb(220, 220, 220);\"></td><td title=\"Index: [2, 9]&#10;Color: (220, 100, 200)\" style=\"width: 20px; height: 20px;background-color: rgb(220, 100, 200);\"></td></tr><tr><td title=\"Index: [3, 0]&#10;Color: (220, 220, 220)\" style=\"width: 20px; height: 20px;background-color: rgb(220, 220, 220);\"></td><td title=\"Index: [3, 1]&#10;Color: (220, 220, 220)\" style=\"width: 20px; height: 20px;background-color: rgb(220, 220, 220);\"></td><td title=\"Index: [3, 2]&#10;Color: (220, 100, 200)\" style=\"width: 20px; height: 20px;background-color: rgb(220, 100, 200);\"></td><td title=\"Index: [3, 3]&#10;Color: (220, 220, 220)\" style=\"width: 20px; height: 20px;background-color: rgb(220, 220, 220);\"></td><td title=\"Index: [3, 4]&#10;Color: (220, 220, 220)\" style=\"width: 20px; height: 20px;background-color: rgb(220, 220, 220);\"></td><td title=\"Index: [3, 5]&#10;Color: (220, 100, 200)\" style=\"width: 20px; height: 20px;background-color: rgb(220, 100, 200);\"></td><td title=\"Index: [3, 6]&#10;Color: (100, 220, 220)\" style=\"width: 20px; height: 20px;background-color: rgb(100, 220, 220);\"></td><td title=\"Index: [3, 7]&#10;Color: (220, 100, 200)\" style=\"width: 20px; height: 20px;background-color: rgb(220, 100, 200);\"></td><td title=\"Index: [3, 8]&#10;Color: (100, 220, 220)\" style=\"width: 20px; height: 20px;background-color: rgb(100, 220, 220);\"></td><td title=\"Index: [3, 9]&#10;Color: (220, 220, 220)\" style=\"width: 20px; height: 20px;background-color: rgb(220, 220, 220);\"></td></tr><tr><td title=\"Index: [4, 0]&#10;Color: (100, 220, 220)\" style=\"width: 20px; height: 20px;background-color: rgb(100, 220, 220);\"></td><td title=\"Index: [4, 1]&#10;Color: (220, 220, 220)\" style=\"width: 20px; height: 20px;background-color: rgb(220, 220, 220);\"></td><td title=\"Index: [4, 2]&#10;Color: (100, 220, 220)\" style=\"width: 20px; height: 20px;background-color: rgb(100, 220, 220);\"></td><td title=\"Index: [4, 3]&#10;Color: (220, 220, 220)\" style=\"width: 20px; height: 20px;background-color: rgb(220, 220, 220);\"></td><td title=\"Index: [4, 4]&#10;Color: (220, 220, 220)\" style=\"width: 20px; height: 20px;background-color: rgb(220, 220, 220);\"></td><td title=\"Index: [4, 5]&#10;Color: (220, 220, 220)\" style=\"width: 20px; height: 20px;background-color: rgb(220, 220, 220);\"></td><td title=\"Index: [4, 6]&#10;Color: (220, 220, 220)\" style=\"width: 20px; height: 20px;background-color: rgb(220, 220, 220);\"></td><td title=\"Index: [4, 7]&#10;Color: (220, 220, 220)\" style=\"width: 20px; height: 20px;background-color: rgb(220, 220, 220);\"></td><td title=\"Index: [4, 8]&#10;Color: (220, 220, 220)\" style=\"width: 20px; height: 20px;background-color: rgb(220, 220, 220);\"></td><td title=\"Index: [4, 9]&#10;Color: (220, 220, 220)\" style=\"width: 20px; height: 20px;background-color: rgb(220, 220, 220);\"></td></tr><tr><td title=\"Index: [5, 0]&#10;Color: (220, 100, 200)\" style=\"width: 20px; height: 20px;background-color: rgb(220, 100, 200);\"></td><td title=\"Index: [5, 1]&#10;Color: (220, 220, 220)\" style=\"width: 20px; height: 20px;background-color: rgb(220, 220, 220);\"></td><td title=\"Index: [5, 2]&#10;Color: (220, 100, 200)\" style=\"width: 20px; height: 20px;background-color: rgb(220, 100, 200);\"></td><td title=\"Index: [5, 3]&#10;Color: (220, 220, 220)\" style=\"width: 20px; height: 20px;background-color: rgb(220, 220, 220);\"></td><td title=\"Index: [5, 4]&#10;Color: (220, 220, 220)\" style=\"width: 20px; height: 20px;background-color: rgb(220, 220, 220);\"></td><td title=\"Index: [5, 5]&#10;Color: (220, 100, 200)\" style=\"width: 20px; height: 20px;background-color: rgb(220, 100, 200);\"></td><td title=\"Index: [5, 6]&#10;Color: (220, 100, 200)\" style=\"width: 20px; height: 20px;background-color: rgb(220, 100, 200);\"></td><td title=\"Index: [5, 7]&#10;Color: (220, 220, 220)\" style=\"width: 20px; height: 20px;background-color: rgb(220, 220, 220);\"></td><td title=\"Index: [5, 8]&#10;Color: (220, 220, 220)\" style=\"width: 20px; height: 20px;background-color: rgb(220, 220, 220);\"></td><td title=\"Index: [5, 9]&#10;Color: (220, 100, 200)\" style=\"width: 20px; height: 20px;background-color: rgb(220, 100, 200);\"></td></tr><tr><td title=\"Index: [6, 0]&#10;Color: (100, 220, 220)\" style=\"width: 20px; height: 20px;background-color: rgb(100, 220, 220);\"></td><td title=\"Index: [6, 1]&#10;Color: (220, 220, 220)\" style=\"width: 20px; height: 20px;background-color: rgb(220, 220, 220);\"></td><td title=\"Index: [6, 2]&#10;Color: (100, 220, 220)\" style=\"width: 20px; height: 20px;background-color: rgb(100, 220, 220);\"></td><td title=\"Index: [6, 3]&#10;Color: (220, 220, 220)\" style=\"width: 20px; height: 20px;background-color: rgb(220, 220, 220);\"></td><td title=\"Index: [6, 4]&#10;Color: (220, 100, 200)\" style=\"width: 20px; height: 20px;background-color: rgb(220, 100, 200);\"></td><td title=\"Index: [6, 5]&#10;Color: (220, 220, 220)\" style=\"width: 20px; height: 20px;background-color: rgb(220, 220, 220);\"></td><td title=\"Index: [6, 6]&#10;Color: (100, 220, 220)\" style=\"width: 20px; height: 20px;background-color: rgb(100, 220, 220);\"></td><td title=\"Index: [6, 7]&#10;Color: (220, 100, 200)\" style=\"width: 20px; height: 20px;background-color: rgb(220, 100, 200);\"></td><td title=\"Index: [6, 8]&#10;Color: (100, 220, 220)\" style=\"width: 20px; height: 20px;background-color: rgb(100, 220, 220);\"></td><td title=\"Index: [6, 9]&#10;Color: (220, 220, 220)\" style=\"width: 20px; height: 20px;background-color: rgb(220, 220, 220);\"></td></tr><tr><td title=\"Index: [7, 0]&#10;Color: (100, 220, 220)\" style=\"width: 20px; height: 20px;background-color: rgb(100, 220, 220);\"></td><td title=\"Index: [7, 1]&#10;Color: (220, 220, 220)\" style=\"width: 20px; height: 20px;background-color: rgb(220, 220, 220);\"></td><td title=\"Index: [7, 2]&#10;Color: (220, 220, 220)\" style=\"width: 20px; height: 20px;background-color: rgb(220, 220, 220);\"></td><td title=\"Index: [7, 3]&#10;Color: (220, 100, 200)\" style=\"width: 20px; height: 20px;background-color: rgb(220, 100, 200);\"></td><td title=\"Index: [7, 4]&#10;Color: (220, 100, 200)\" style=\"width: 20px; height: 20px;background-color: rgb(220, 100, 200);\"></td><td title=\"Index: [7, 5]&#10;Color: (220, 220, 220)\" style=\"width: 20px; height: 20px;background-color: rgb(220, 220, 220);\"></td><td title=\"Index: [7, 6]&#10;Color: (220, 100, 200)\" style=\"width: 20px; height: 20px;background-color: rgb(220, 100, 200);\"></td><td title=\"Index: [7, 7]&#10;Color: (220, 220, 220)\" style=\"width: 20px; height: 20px;background-color: rgb(220, 220, 220);\"></td><td title=\"Index: [7, 8]&#10;Color: (220, 220, 220)\" style=\"width: 20px; height: 20px;background-color: rgb(220, 220, 220);\"></td><td title=\"Index: [7, 9]&#10;Color: (220, 100, 200)\" style=\"width: 20px; height: 20px;background-color: rgb(220, 100, 200);\"></td></tr><tr><td title=\"Index: [8, 0]&#10;Color: (220, 100, 200)\" style=\"width: 20px; height: 20px;background-color: rgb(220, 100, 200);\"></td><td title=\"Index: [8, 1]&#10;Color: (220, 100, 200)\" style=\"width: 20px; height: 20px;background-color: rgb(220, 100, 200);\"></td><td title=\"Index: [8, 2]&#10;Color: (220, 220, 220)\" style=\"width: 20px; height: 20px;background-color: rgb(220, 220, 220);\"></td><td title=\"Index: [8, 3]&#10;Color: (220, 220, 220)\" style=\"width: 20px; height: 20px;background-color: rgb(220, 220, 220);\"></td><td title=\"Index: [8, 4]&#10;Color: (220, 220, 220)\" style=\"width: 20px; height: 20px;background-color: rgb(220, 220, 220);\"></td><td title=\"Index: [8, 5]&#10;Color: (100, 220, 220)\" style=\"width: 20px; height: 20px;background-color: rgb(100, 220, 220);\"></td><td title=\"Index: [8, 6]&#10;Color: (220, 220, 220)\" style=\"width: 20px; height: 20px;background-color: rgb(220, 220, 220);\"></td><td title=\"Index: [8, 7]&#10;Color: (220, 100, 200)\" style=\"width: 20px; height: 20px;background-color: rgb(220, 100, 200);\"></td><td title=\"Index: [8, 8]&#10;Color: (220, 220, 220)\" style=\"width: 20px; height: 20px;background-color: rgb(220, 220, 220);\"></td><td title=\"Index: [8, 9]&#10;Color: (220, 220, 220)\" style=\"width: 20px; height: 20px;background-color: rgb(220, 220, 220);\"></td></tr><tr><td title=\"Index: [9, 0]&#10;Color: (220, 220, 220)\" style=\"width: 20px; height: 20px;background-color: rgb(220, 220, 220);\"></td><td title=\"Index: [9, 1]&#10;Color: (220, 220, 220)\" style=\"width: 20px; height: 20px;background-color: rgb(220, 220, 220);\"></td><td title=\"Index: [9, 2]&#10;Color: (100, 220, 220)\" style=\"width: 20px; height: 20px;background-color: rgb(100, 220, 220);\"></td><td title=\"Index: [9, 3]&#10;Color: (220, 100, 200)\" style=\"width: 20px; height: 20px;background-color: rgb(220, 100, 200);\"></td><td title=\"Index: [9, 4]&#10;Color: (220, 100, 200)\" style=\"width: 20px; height: 20px;background-color: rgb(220, 100, 200);\"></td><td title=\"Index: [9, 5]&#10;Color: (100, 220, 220)\" style=\"width: 20px; height: 20px;background-color: rgb(100, 220, 220);\"></td><td title=\"Index: [9, 6]&#10;Color: (220, 100, 200)\" style=\"width: 20px; height: 20px;background-color: rgb(220, 100, 200);\"></td><td title=\"Index: [9, 7]&#10;Color: (100, 220, 220)\" style=\"width: 20px; height: 20px;background-color: rgb(100, 220, 220);\"></td><td title=\"Index: [9, 8]&#10;Color: (100, 220, 220)\" style=\"width: 20px; height: 20px;background-color: rgb(100, 220, 220);\"></td><td title=\"Index: [9, 9]&#10;Color: (220, 100, 200)\" style=\"width: 20px; height: 20px;background-color: rgb(220, 100, 200);\"></td></tr></tbody></table>"
       ],
       "metadata": {},
       "output_type": "display_data",
       "text": [
        "<IPython.core.display.HTML at 0x106510ad0>"
       ]
      }
     ],
     "prompt_number": 98
    },
    {
     "cell_type": "code",
     "collapsed": false,
     "input": [
      "def initializeGrid(size,dens,conc):\n",
      "    \"\"\"Initializes the grid with a certain size, density, and concentration of blue squares and returns the grid \"\"\"\n",
      "    grid = BlockGrid(size.value,size.value,fill =(220, 220, 220),lines_on = True)\n",
      "    numberOfBlocks = int(dens.value/100. * size.value ** 2)\n",
      "    purple = 0\n",
      "    blue = 0\n",
      "    for i in range(numberOfBlocks):\n",
      "        if( i < conc.value/100.*numberOfBlocks ):\n",
      "            x, y = findRandomPosition(grid,size)\n",
      "            grid[y,x] = (100,220,220)\n",
      "            blue+=1\n",
      "        else:\n",
      "            x, y = findRandomPosition(grid,size)\n",
      "            grid[y,x] = (220,100,200)\n",
      "            purple +=1\n",
      "    print str(purple) + \" Purple blocks\"\n",
      "    print str(blue) + \" Blue blocks\"\n",
      "    return grid\n",
      "\n",
      "def findRandomPosition(grid,size):\n",
      "    \"\"\"Finds a Random OPEN Position on the Grid\"\"\"\n",
      "    while 1 < 2:\n",
      "        x = int(np.random.rand(1)*size.value)\n",
      "        y = int(np.random.rand(1)*size.value)\n",
      "        if (grid[y,x].red,grid[y,x].green,grid[y,x].blue) == (220,220,220):\n",
      "            return x,y\n",
      "\n",
      "def meetsThreshold(grid,size,thresh,x,y):\n",
      "    count = 0.\n",
      "    neighbors = 0.\n",
      "    a = (grid[y,x].red,grid[y,x].green,grid[y,x].blue)\n",
      "    if a == (220,220,220):\n",
      "        return True\n",
      "    \n",
      "    #checks the point to the left of coordinates unless it is at x = 0\n",
      "    if x != 0:\n",
      "        if((grid[y,x-1].red,grid[y,x-1].green,grid[y,x-1].blue) == a):\n",
      "            count += 1\n",
      "            neighbors += 1\n",
      "        elif(grid[y,x-1].red,grid[y,x-1].green,grid[y,x-1].blue) != (220,220,220):\n",
      "            neighbors += 1\n",
      "    \n",
      "    #checks the point to the upper-left of coordinates unless it is at x = 0 or y = 0\n",
      "    if x!= 0 and y != 0:\n",
      "        if((grid[y-1,x-1].red,grid[y-1,x-1].green,grid[y-1,x-1].blue) == a):\n",
      "            count += 1\n",
      "            neighbors += 1\n",
      "        elif(grid[y-1,x-1].red,grid[y-1,x-1].green,grid[y-1,x-1].blue) != (220,220,220):\n",
      "            neighbors += 1\n",
      "    \n",
      "    #checks the point above of coordinates unless it is at y = 0\n",
      "    if y != 0:\n",
      "        if((grid[y-1,x].red,grid[y-1,x].green,grid[y-1,x].blue) == a):\n",
      "            count += 1\n",
      "            neighbors += 1\n",
      "        elif(grid[y-1,x].red,grid[y-1,x].green,grid[y-1,x].blue) != (220,220,220):\n",
      "            neighbors += 1\n",
      "    \n",
      "    #checks the point to the upper right of coordinates unless it is at y = 0 and x = size of grid\n",
      "    if x!= (size.value-1)and y!= 0:\n",
      "        if((grid[y-1,x+1].red,grid[y-1,x+1].green,grid[y-1,x+1].blue) == a):\n",
      "            count += 1\n",
      "            neighbors += 1\n",
      "        elif(grid[y-1,x+1].red,grid[y-1,x+1].green,grid[y-1,x+1].blue) != (220,220,220):\n",
      "            neighbors += 1\n",
      "        \n",
      "    #checks the point to the right of coordinates x = size of grid\n",
      "    if x != size.value-1:\n",
      "        if((grid[y,x+1].red,grid[y,x+1].green,grid[y,x+1].blue) == a):\n",
      "            count += 1\n",
      "            neighbors += 1\n",
      "        elif(grid[y,x+1].red,grid[y,x+1].green,grid[y,x+1].blue) != (220,220,220):\n",
      "            neighbors += 1\n",
      "        \n",
      "    #checks the point to the lower right of coordinates unless it is at y = 0 and x = size of grid\n",
      "    if x != size.value-1 and y != size.value-1:\n",
      "        if((grid[y+1,x+1].red,grid[y+1,x+1].green,grid[y+1,x+1].blue) == a):\n",
      "            count += 1\n",
      "            neighbors += 1\n",
      "        elif(grid[y+1,x+1].red,grid[y+1,x+1].green,grid[y+1,x+1].blue) != (220,220,220):\n",
      "            neighbors += 1\n",
      "        \n",
      "    #checks the point below of coordinates unless it is at y = 0 and x = size of grid\n",
      "    if y!= size.value-1:\n",
      "        if((grid[y+1,x].red,grid[y+1,x].green,grid[y+1,x].blue) == a):\n",
      "            count += 1\n",
      "            neighbors += 1\n",
      "        elif(grid[y+1,x].red,grid[y+1,x].green,grid[y+1,x].blue) != (220,220,220):\n",
      "            neighbors += 1\n",
      "        \n",
      "    #checks the point to the bottom left of coordinates unless it is at y = 0 and x = size of grid\n",
      "    if y != size.value-1:\n",
      "        if((grid[y+1,x].red,grid[y+1,x].green,grid[y+1,x].blue) == a):\n",
      "            count += 1\n",
      "            neighbors += 1\n",
      "        elif(grid[y+1,x].red,grid[y+1,x].green,grid[y+1,x].blue) != (220,220,220):\n",
      "            neighbors += 1\n",
      "        \n",
      "    #checks the point to the bottom left of coordinates unless it is at y = size of grid and x = 0\n",
      "    if x!= 0 and y != size.value-1:\n",
      "        if((grid[y+1,x-1].red,grid[y+1,x-1].green,grid[y+1,x-1].blue) == a):\n",
      "            count += 1\n",
      "            neighbors += 1\n",
      "        elif(grid[y+1,x-1].red,grid[y+1,x-1].green,grid[y+1,x-1].blue) != (220,220,220):\n",
      "            neighbors += 1\n",
      "    if neighbors != 0:\n",
      "        if(count/neighbors >= thresh.value/100.):\n",
      "            return True\n",
      "        else:\n",
      "            return False\n",
      "    else:\n",
      "        return True"
     ],
     "language": "python",
     "metadata": {},
     "outputs": [],
     "prompt_number": 429
    },
    {
     "cell_type": "code",
     "collapsed": false,
     "input": [
      "def changeSpot(grid,size,x,y):\n",
      "    a = grid[y,x].red,grid[y,x].green,grid[y,x].blue\n",
      "    b = (220,220,220)\n",
      "    newx,newy = findRandomPosition(grid,size)\n",
      "    grid[y,x] = b\n",
      "    grid[newy,newx] = a"
     ],
     "language": "python",
     "metadata": {},
     "outputs": [],
     "prompt_number": 430
    },
    {
     "cell_type": "code",
     "collapsed": false,
     "input": [
      "def moveOnce(grid,size,thresh):\n",
      "    xcoord=[]\n",
      "    ycoord=[]\n",
      "    movements = 0\n",
      "    time = .005*size.value+.15\n",
      "    #finds all of the positions that are unsatisfied and puts them into an array\n",
      "    for x in range(size.value):\n",
      "        for y in range(size.value):\n",
      "            if(meetsThreshold(grid,size,thresh,x,y)==False):\n",
      "                xcoord.append(x)\n",
      "                ycoord.append(y)\n",
      "    for i in range(len(xcoord)-1):\n",
      "        changeSpot(grid,size,xcoord[i],ycoord[i])\n",
      "        movements += 1\n",
      "        #grid.flash(display_time = time)\n",
      "        clear_output()\n",
      "        grid.show()\n",
      "        tm.sleep(time)\n",
      "    return movements"
     ],
     "language": "python",
     "metadata": {},
     "outputs": []
    },
    {
     "cell_type": "code",
     "collapsed": true,
     "input": [
      "def totalMoves(grid,size,thresh):\n",
      "    movementsFinal = 0\n",
      "    movementsTest=1\n",
      "    steps = 0\n",
      "    grid.show()\n",
      "    while movementsTest!=movementsFinal:\n",
      "        movementsTest=movementsFinal\n",
      "        movementsFinal += moveOnce(grid,size,thresh)\n",
      "        steps+=1\n",
      "    print \"In order to reach equilibrum there needed to be \" + str(steps) + \" steps, with \" + str(movementsFinal) + \" movements\" "
     ],
     "language": "python",
     "metadata": {},
     "outputs": [],
     "prompt_number": 433
    },
    {
     "cell_type": "code",
     "collapsed": false,
     "input": [
      "grid = initializeGrid(gridSize,density,concentration)"
     ],
     "language": "python",
     "metadata": {},
     "outputs": [
      {
       "output_type": "stream",
       "stream": "stdout",
       "text": [
        "28 Purple blocks\n",
        "84 Blue blocks\n"
       ]
      }
     ],
     "prompt_number": 434
    },
    {
     "cell_type": "code",
     "collapsed": false,
     "input": [
      "totalMoves(grid,gridSize,threshold)"
     ],
     "language": "python",
     "metadata": {},
     "outputs": [
      {
       "html": [
        "<style type=\"text/css\">table.blockgrid {border: none;} .blockgrid tr {border: none;} .blockgrid td {padding: 0px;} #blocks5c186c53-bf05-427f-bcfa-1ab7e17ba5eb td {border: 1px solid white;}</style><table id=\"blocks5c186c53-bf05-427f-bcfa-1ab7e17ba5eb\" class=\"blockgrid\"><tbody><tr><td title=\"Index: [0, 0]&#10;Color: (220, 220, 220)\" style=\"width: 20px; height: 20px;background-color: rgb(220, 220, 220);\"></td><td title=\"Index: [0, 1]&#10;Color: (220, 220, 220)\" style=\"width: 20px; height: 20px;background-color: rgb(220, 220, 220);\"></td><td title=\"Index: [0, 2]&#10;Color: (100, 220, 220)\" style=\"width: 20px; height: 20px;background-color: rgb(100, 220, 220);\"></td><td title=\"Index: [0, 3]&#10;Color: (100, 220, 220)\" style=\"width: 20px; height: 20px;background-color: rgb(100, 220, 220);\"></td><td title=\"Index: [0, 4]&#10;Color: (220, 220, 220)\" style=\"width: 20px; height: 20px;background-color: rgb(220, 220, 220);\"></td><td title=\"Index: [0, 5]&#10;Color: (100, 220, 220)\" style=\"width: 20px; height: 20px;background-color: rgb(100, 220, 220);\"></td><td title=\"Index: [0, 6]&#10;Color: (220, 220, 220)\" style=\"width: 20px; height: 20px;background-color: rgb(220, 220, 220);\"></td><td title=\"Index: [0, 7]&#10;Color: (220, 220, 220)\" style=\"width: 20px; height: 20px;background-color: rgb(220, 220, 220);\"></td><td title=\"Index: [0, 8]&#10;Color: (100, 220, 220)\" style=\"width: 20px; height: 20px;background-color: rgb(100, 220, 220);\"></td><td title=\"Index: [0, 9]&#10;Color: (100, 220, 220)\" style=\"width: 20px; height: 20px;background-color: rgb(100, 220, 220);\"></td><td title=\"Index: [0, 10]&#10;Color: (220, 220, 220)\" style=\"width: 20px; height: 20px;background-color: rgb(220, 220, 220);\"></td><td title=\"Index: [0, 11]&#10;Color: (220, 220, 220)\" style=\"width: 20px; height: 20px;background-color: rgb(220, 220, 220);\"></td><td title=\"Index: [0, 12]&#10;Color: (100, 220, 220)\" style=\"width: 20px; height: 20px;background-color: rgb(100, 220, 220);\"></td><td title=\"Index: [0, 13]&#10;Color: (220, 220, 220)\" style=\"width: 20px; height: 20px;background-color: rgb(220, 220, 220);\"></td><td title=\"Index: [0, 14]&#10;Color: (220, 100, 200)\" style=\"width: 20px; height: 20px;background-color: rgb(220, 100, 200);\"></td></tr><tr><td title=\"Index: [1, 0]&#10;Color: (220, 220, 220)\" style=\"width: 20px; height: 20px;background-color: rgb(220, 220, 220);\"></td><td title=\"Index: [1, 1]&#10;Color: (100, 220, 220)\" style=\"width: 20px; height: 20px;background-color: rgb(100, 220, 220);\"></td><td title=\"Index: [1, 2]&#10;Color: (100, 220, 220)\" style=\"width: 20px; height: 20px;background-color: rgb(100, 220, 220);\"></td><td title=\"Index: [1, 3]&#10;Color: (220, 220, 220)\" style=\"width: 20px; height: 20px;background-color: rgb(220, 220, 220);\"></td><td title=\"Index: [1, 4]&#10;Color: (100, 220, 220)\" style=\"width: 20px; height: 20px;background-color: rgb(100, 220, 220);\"></td><td title=\"Index: [1, 5]&#10;Color: (220, 220, 220)\" style=\"width: 20px; height: 20px;background-color: rgb(220, 220, 220);\"></td><td title=\"Index: [1, 6]&#10;Color: (220, 220, 220)\" style=\"width: 20px; height: 20px;background-color: rgb(220, 220, 220);\"></td><td title=\"Index: [1, 7]&#10;Color: (100, 220, 220)\" style=\"width: 20px; height: 20px;background-color: rgb(100, 220, 220);\"></td><td title=\"Index: [1, 8]&#10;Color: (100, 220, 220)\" style=\"width: 20px; height: 20px;background-color: rgb(100, 220, 220);\"></td><td title=\"Index: [1, 9]&#10;Color: (100, 220, 220)\" style=\"width: 20px; height: 20px;background-color: rgb(100, 220, 220);\"></td><td title=\"Index: [1, 10]&#10;Color: (100, 220, 220)\" style=\"width: 20px; height: 20px;background-color: rgb(100, 220, 220);\"></td><td title=\"Index: [1, 11]&#10;Color: (100, 220, 220)\" style=\"width: 20px; height: 20px;background-color: rgb(100, 220, 220);\"></td><td title=\"Index: [1, 12]&#10;Color: (220, 220, 220)\" style=\"width: 20px; height: 20px;background-color: rgb(220, 220, 220);\"></td><td title=\"Index: [1, 13]&#10;Color: (220, 220, 220)\" style=\"width: 20px; height: 20px;background-color: rgb(220, 220, 220);\"></td><td title=\"Index: [1, 14]&#10;Color: (220, 220, 220)\" style=\"width: 20px; height: 20px;background-color: rgb(220, 220, 220);\"></td></tr><tr><td title=\"Index: [2, 0]&#10;Color: (220, 220, 220)\" style=\"width: 20px; height: 20px;background-color: rgb(220, 220, 220);\"></td><td title=\"Index: [2, 1]&#10;Color: (100, 220, 220)\" style=\"width: 20px; height: 20px;background-color: rgb(100, 220, 220);\"></td><td title=\"Index: [2, 2]&#10;Color: (220, 220, 220)\" style=\"width: 20px; height: 20px;background-color: rgb(220, 220, 220);\"></td><td title=\"Index: [2, 3]&#10;Color: (220, 220, 220)\" style=\"width: 20px; height: 20px;background-color: rgb(220, 220, 220);\"></td><td title=\"Index: [2, 4]&#10;Color: (220, 220, 220)\" style=\"width: 20px; height: 20px;background-color: rgb(220, 220, 220);\"></td><td title=\"Index: [2, 5]&#10;Color: (220, 220, 220)\" style=\"width: 20px; height: 20px;background-color: rgb(220, 220, 220);\"></td><td title=\"Index: [2, 6]&#10;Color: (220, 220, 220)\" style=\"width: 20px; height: 20px;background-color: rgb(220, 220, 220);\"></td><td title=\"Index: [2, 7]&#10;Color: (100, 220, 220)\" style=\"width: 20px; height: 20px;background-color: rgb(100, 220, 220);\"></td><td title=\"Index: [2, 8]&#10;Color: (100, 220, 220)\" style=\"width: 20px; height: 20px;background-color: rgb(100, 220, 220);\"></td><td title=\"Index: [2, 9]&#10;Color: (100, 220, 220)\" style=\"width: 20px; height: 20px;background-color: rgb(100, 220, 220);\"></td><td title=\"Index: [2, 10]&#10;Color: (100, 220, 220)\" style=\"width: 20px; height: 20px;background-color: rgb(100, 220, 220);\"></td><td title=\"Index: [2, 11]&#10;Color: (100, 220, 220)\" style=\"width: 20px; height: 20px;background-color: rgb(100, 220, 220);\"></td><td title=\"Index: [2, 12]&#10;Color: (220, 220, 220)\" style=\"width: 20px; height: 20px;background-color: rgb(220, 220, 220);\"></td><td title=\"Index: [2, 13]&#10;Color: (100, 220, 220)\" style=\"width: 20px; height: 20px;background-color: rgb(100, 220, 220);\"></td><td title=\"Index: [2, 14]&#10;Color: (100, 220, 220)\" style=\"width: 20px; height: 20px;background-color: rgb(100, 220, 220);\"></td></tr><tr><td title=\"Index: [3, 0]&#10;Color: (220, 220, 220)\" style=\"width: 20px; height: 20px;background-color: rgb(220, 220, 220);\"></td><td title=\"Index: [3, 1]&#10;Color: (100, 220, 220)\" style=\"width: 20px; height: 20px;background-color: rgb(100, 220, 220);\"></td><td title=\"Index: [3, 2]&#10;Color: (220, 220, 220)\" style=\"width: 20px; height: 20px;background-color: rgb(220, 220, 220);\"></td><td title=\"Index: [3, 3]&#10;Color: (100, 220, 220)\" style=\"width: 20px; height: 20px;background-color: rgb(100, 220, 220);\"></td><td title=\"Index: [3, 4]&#10;Color: (220, 220, 220)\" style=\"width: 20px; height: 20px;background-color: rgb(220, 220, 220);\"></td><td title=\"Index: [3, 5]&#10;Color: (220, 220, 220)\" style=\"width: 20px; height: 20px;background-color: rgb(220, 220, 220);\"></td><td title=\"Index: [3, 6]&#10;Color: (220, 220, 220)\" style=\"width: 20px; height: 20px;background-color: rgb(220, 220, 220);\"></td><td title=\"Index: [3, 7]&#10;Color: (220, 220, 220)\" style=\"width: 20px; height: 20px;background-color: rgb(220, 220, 220);\"></td><td title=\"Index: [3, 8]&#10;Color: (220, 220, 220)\" style=\"width: 20px; height: 20px;background-color: rgb(220, 220, 220);\"></td><td title=\"Index: [3, 9]&#10;Color: (100, 220, 220)\" style=\"width: 20px; height: 20px;background-color: rgb(100, 220, 220);\"></td><td title=\"Index: [3, 10]&#10;Color: (220, 220, 220)\" style=\"width: 20px; height: 20px;background-color: rgb(220, 220, 220);\"></td><td title=\"Index: [3, 11]&#10;Color: (100, 220, 220)\" style=\"width: 20px; height: 20px;background-color: rgb(100, 220, 220);\"></td><td title=\"Index: [3, 12]&#10;Color: (220, 220, 220)\" style=\"width: 20px; height: 20px;background-color: rgb(220, 220, 220);\"></td><td title=\"Index: [3, 13]&#10;Color: (220, 220, 220)\" style=\"width: 20px; height: 20px;background-color: rgb(220, 220, 220);\"></td><td title=\"Index: [3, 14]&#10;Color: (100, 220, 220)\" style=\"width: 20px; height: 20px;background-color: rgb(100, 220, 220);\"></td></tr><tr><td title=\"Index: [4, 0]&#10;Color: (100, 220, 220)\" style=\"width: 20px; height: 20px;background-color: rgb(100, 220, 220);\"></td><td title=\"Index: [4, 1]&#10;Color: (220, 220, 220)\" style=\"width: 20px; height: 20px;background-color: rgb(220, 220, 220);\"></td><td title=\"Index: [4, 2]&#10;Color: (100, 220, 220)\" style=\"width: 20px; height: 20px;background-color: rgb(100, 220, 220);\"></td><td title=\"Index: [4, 3]&#10;Color: (220, 220, 220)\" style=\"width: 20px; height: 20px;background-color: rgb(220, 220, 220);\"></td><td title=\"Index: [4, 4]&#10;Color: (100, 220, 220)\" style=\"width: 20px; height: 20px;background-color: rgb(100, 220, 220);\"></td><td title=\"Index: [4, 5]&#10;Color: (220, 220, 220)\" style=\"width: 20px; height: 20px;background-color: rgb(220, 220, 220);\"></td><td title=\"Index: [4, 6]&#10;Color: (100, 220, 220)\" style=\"width: 20px; height: 20px;background-color: rgb(100, 220, 220);\"></td><td title=\"Index: [4, 7]&#10;Color: (100, 220, 220)\" style=\"width: 20px; height: 20px;background-color: rgb(100, 220, 220);\"></td><td title=\"Index: [4, 8]&#10;Color: (220, 220, 220)\" style=\"width: 20px; height: 20px;background-color: rgb(220, 220, 220);\"></td><td title=\"Index: [4, 9]&#10;Color: (100, 220, 220)\" style=\"width: 20px; height: 20px;background-color: rgb(100, 220, 220);\"></td><td title=\"Index: [4, 10]&#10;Color: (100, 220, 220)\" style=\"width: 20px; height: 20px;background-color: rgb(100, 220, 220);\"></td><td title=\"Index: [4, 11]&#10;Color: (220, 220, 220)\" style=\"width: 20px; height: 20px;background-color: rgb(220, 220, 220);\"></td><td title=\"Index: [4, 12]&#10;Color: (220, 220, 220)\" style=\"width: 20px; height: 20px;background-color: rgb(220, 220, 220);\"></td><td title=\"Index: [4, 13]&#10;Color: (220, 100, 200)\" style=\"width: 20px; height: 20px;background-color: rgb(220, 100, 200);\"></td><td title=\"Index: [4, 14]&#10;Color: (220, 220, 220)\" style=\"width: 20px; height: 20px;background-color: rgb(220, 220, 220);\"></td></tr><tr><td title=\"Index: [5, 0]&#10;Color: (100, 220, 220)\" style=\"width: 20px; height: 20px;background-color: rgb(100, 220, 220);\"></td><td title=\"Index: [5, 1]&#10;Color: (100, 220, 220)\" style=\"width: 20px; height: 20px;background-color: rgb(100, 220, 220);\"></td><td title=\"Index: [5, 2]&#10;Color: (100, 220, 220)\" style=\"width: 20px; height: 20px;background-color: rgb(100, 220, 220);\"></td><td title=\"Index: [5, 3]&#10;Color: (220, 220, 220)\" style=\"width: 20px; height: 20px;background-color: rgb(220, 220, 220);\"></td><td title=\"Index: [5, 4]&#10;Color: (100, 220, 220)\" style=\"width: 20px; height: 20px;background-color: rgb(100, 220, 220);\"></td><td title=\"Index: [5, 5]&#10;Color: (220, 220, 220)\" style=\"width: 20px; height: 20px;background-color: rgb(220, 220, 220);\"></td><td title=\"Index: [5, 6]&#10;Color: (220, 220, 220)\" style=\"width: 20px; height: 20px;background-color: rgb(220, 220, 220);\"></td><td title=\"Index: [5, 7]&#10;Color: (220, 220, 220)\" style=\"width: 20px; height: 20px;background-color: rgb(220, 220, 220);\"></td><td title=\"Index: [5, 8]&#10;Color: (100, 220, 220)\" style=\"width: 20px; height: 20px;background-color: rgb(100, 220, 220);\"></td><td title=\"Index: [5, 9]&#10;Color: (100, 220, 220)\" style=\"width: 20px; height: 20px;background-color: rgb(100, 220, 220);\"></td><td title=\"Index: [5, 10]&#10;Color: (220, 220, 220)\" style=\"width: 20px; height: 20px;background-color: rgb(220, 220, 220);\"></td><td title=\"Index: [5, 11]&#10;Color: (100, 220, 220)\" style=\"width: 20px; height: 20px;background-color: rgb(100, 220, 220);\"></td><td title=\"Index: [5, 12]&#10;Color: (100, 220, 220)\" style=\"width: 20px; height: 20px;background-color: rgb(100, 220, 220);\"></td><td title=\"Index: [5, 13]&#10;Color: (220, 220, 220)\" style=\"width: 20px; height: 20px;background-color: rgb(220, 220, 220);\"></td><td title=\"Index: [5, 14]&#10;Color: (220, 100, 200)\" style=\"width: 20px; height: 20px;background-color: rgb(220, 100, 200);\"></td></tr><tr><td title=\"Index: [6, 0]&#10;Color: (220, 220, 220)\" style=\"width: 20px; height: 20px;background-color: rgb(220, 220, 220);\"></td><td title=\"Index: [6, 1]&#10;Color: (100, 220, 220)\" style=\"width: 20px; height: 20px;background-color: rgb(100, 220, 220);\"></td><td title=\"Index: [6, 2]&#10;Color: (100, 220, 220)\" style=\"width: 20px; height: 20px;background-color: rgb(100, 220, 220);\"></td><td title=\"Index: [6, 3]&#10;Color: (220, 220, 220)\" style=\"width: 20px; height: 20px;background-color: rgb(220, 220, 220);\"></td><td title=\"Index: [6, 4]&#10;Color: (100, 220, 220)\" style=\"width: 20px; height: 20px;background-color: rgb(100, 220, 220);\"></td><td title=\"Index: [6, 5]&#10;Color: (100, 220, 220)\" style=\"width: 20px; height: 20px;background-color: rgb(100, 220, 220);\"></td><td title=\"Index: [6, 6]&#10;Color: (220, 220, 220)\" style=\"width: 20px; height: 20px;background-color: rgb(220, 220, 220);\"></td><td title=\"Index: [6, 7]&#10;Color: (220, 100, 200)\" style=\"width: 20px; height: 20px;background-color: rgb(220, 100, 200);\"></td><td title=\"Index: [6, 8]&#10;Color: (220, 220, 220)\" style=\"width: 20px; height: 20px;background-color: rgb(220, 220, 220);\"></td><td title=\"Index: [6, 9]&#10;Color: (100, 220, 220)\" style=\"width: 20px; height: 20px;background-color: rgb(100, 220, 220);\"></td><td title=\"Index: [6, 10]&#10;Color: (100, 220, 220)\" style=\"width: 20px; height: 20px;background-color: rgb(100, 220, 220);\"></td><td title=\"Index: [6, 11]&#10;Color: (100, 220, 220)\" style=\"width: 20px; height: 20px;background-color: rgb(100, 220, 220);\"></td><td title=\"Index: [6, 12]&#10;Color: (100, 220, 220)\" style=\"width: 20px; height: 20px;background-color: rgb(100, 220, 220);\"></td><td title=\"Index: [6, 13]&#10;Color: (220, 220, 220)\" style=\"width: 20px; height: 20px;background-color: rgb(220, 220, 220);\"></td><td title=\"Index: [6, 14]&#10;Color: (220, 100, 200)\" style=\"width: 20px; height: 20px;background-color: rgb(220, 100, 200);\"></td></tr><tr><td title=\"Index: [7, 0]&#10;Color: (220, 100, 200)\" style=\"width: 20px; height: 20px;background-color: rgb(220, 100, 200);\"></td><td title=\"Index: [7, 1]&#10;Color: (220, 100, 200)\" style=\"width: 20px; height: 20px;background-color: rgb(220, 100, 200);\"></td><td title=\"Index: [7, 2]&#10;Color: (100, 220, 220)\" style=\"width: 20px; height: 20px;background-color: rgb(100, 220, 220);\"></td><td title=\"Index: [7, 3]&#10;Color: (100, 220, 220)\" style=\"width: 20px; height: 20px;background-color: rgb(100, 220, 220);\"></td><td title=\"Index: [7, 4]&#10;Color: (220, 220, 220)\" style=\"width: 20px; height: 20px;background-color: rgb(220, 220, 220);\"></td><td title=\"Index: [7, 5]&#10;Color: (220, 220, 220)\" style=\"width: 20px; height: 20px;background-color: rgb(220, 220, 220);\"></td><td title=\"Index: [7, 6]&#10;Color: (220, 100, 200)\" style=\"width: 20px; height: 20px;background-color: rgb(220, 100, 200);\"></td><td title=\"Index: [7, 7]&#10;Color: (220, 100, 200)\" style=\"width: 20px; height: 20px;background-color: rgb(220, 100, 200);\"></td><td title=\"Index: [7, 8]&#10;Color: (220, 220, 220)\" style=\"width: 20px; height: 20px;background-color: rgb(220, 220, 220);\"></td><td title=\"Index: [7, 9]&#10;Color: (100, 220, 220)\" style=\"width: 20px; height: 20px;background-color: rgb(100, 220, 220);\"></td><td title=\"Index: [7, 10]&#10;Color: (100, 220, 220)\" style=\"width: 20px; height: 20px;background-color: rgb(100, 220, 220);\"></td><td title=\"Index: [7, 11]&#10;Color: (100, 220, 220)\" style=\"width: 20px; height: 20px;background-color: rgb(100, 220, 220);\"></td><td title=\"Index: [7, 12]&#10;Color: (220, 220, 220)\" style=\"width: 20px; height: 20px;background-color: rgb(220, 220, 220);\"></td><td title=\"Index: [7, 13]&#10;Color: (220, 220, 220)\" style=\"width: 20px; height: 20px;background-color: rgb(220, 220, 220);\"></td><td title=\"Index: [7, 14]&#10;Color: (220, 100, 200)\" style=\"width: 20px; height: 20px;background-color: rgb(220, 100, 200);\"></td></tr><tr><td title=\"Index: [8, 0]&#10;Color: (220, 220, 220)\" style=\"width: 20px; height: 20px;background-color: rgb(220, 220, 220);\"></td><td title=\"Index: [8, 1]&#10;Color: (220, 100, 200)\" style=\"width: 20px; height: 20px;background-color: rgb(220, 100, 200);\"></td><td title=\"Index: [8, 2]&#10;Color: (220, 220, 220)\" style=\"width: 20px; height: 20px;background-color: rgb(220, 220, 220);\"></td><td title=\"Index: [8, 3]&#10;Color: (100, 220, 220)\" style=\"width: 20px; height: 20px;background-color: rgb(100, 220, 220);\"></td><td title=\"Index: [8, 4]&#10;Color: (220, 220, 220)\" style=\"width: 20px; height: 20px;background-color: rgb(220, 220, 220);\"></td><td title=\"Index: [8, 5]&#10;Color: (220, 220, 220)\" style=\"width: 20px; height: 20px;background-color: rgb(220, 220, 220);\"></td><td title=\"Index: [8, 6]&#10;Color: (220, 100, 200)\" style=\"width: 20px; height: 20px;background-color: rgb(220, 100, 200);\"></td><td title=\"Index: [8, 7]&#10;Color: (220, 220, 220)\" style=\"width: 20px; height: 20px;background-color: rgb(220, 220, 220);\"></td><td title=\"Index: [8, 8]&#10;Color: (220, 220, 220)\" style=\"width: 20px; height: 20px;background-color: rgb(220, 220, 220);\"></td><td title=\"Index: [8, 9]&#10;Color: (220, 220, 220)\" style=\"width: 20px; height: 20px;background-color: rgb(220, 220, 220);\"></td><td title=\"Index: [8, 10]&#10;Color: (220, 220, 220)\" style=\"width: 20px; height: 20px;background-color: rgb(220, 220, 220);\"></td><td title=\"Index: [8, 11]&#10;Color: (100, 220, 220)\" style=\"width: 20px; height: 20px;background-color: rgb(100, 220, 220);\"></td><td title=\"Index: [8, 12]&#10;Color: (220, 220, 220)\" style=\"width: 20px; height: 20px;background-color: rgb(220, 220, 220);\"></td><td title=\"Index: [8, 13]&#10;Color: (220, 220, 220)\" style=\"width: 20px; height: 20px;background-color: rgb(220, 220, 220);\"></td><td title=\"Index: [8, 14]&#10;Color: (220, 100, 200)\" style=\"width: 20px; height: 20px;background-color: rgb(220, 100, 200);\"></td></tr><tr><td title=\"Index: [9, 0]&#10;Color: (220, 220, 220)\" style=\"width: 20px; height: 20px;background-color: rgb(220, 220, 220);\"></td><td title=\"Index: [9, 1]&#10;Color: (220, 100, 200)\" style=\"width: 20px; height: 20px;background-color: rgb(220, 100, 200);\"></td><td title=\"Index: [9, 2]&#10;Color: (220, 220, 220)\" style=\"width: 20px; height: 20px;background-color: rgb(220, 220, 220);\"></td><td title=\"Index: [9, 3]&#10;Color: (220, 220, 220)\" style=\"width: 20px; height: 20px;background-color: rgb(220, 220, 220);\"></td><td title=\"Index: [9, 4]&#10;Color: (220, 220, 220)\" style=\"width: 20px; height: 20px;background-color: rgb(220, 220, 220);\"></td><td title=\"Index: [9, 5]&#10;Color: (220, 220, 220)\" style=\"width: 20px; height: 20px;background-color: rgb(220, 220, 220);\"></td><td title=\"Index: [9, 6]&#10;Color: (220, 100, 200)\" style=\"width: 20px; height: 20px;background-color: rgb(220, 100, 200);\"></td><td title=\"Index: [9, 7]&#10;Color: (220, 220, 220)\" style=\"width: 20px; height: 20px;background-color: rgb(220, 220, 220);\"></td><td title=\"Index: [9, 8]&#10;Color: (220, 220, 220)\" style=\"width: 20px; height: 20px;background-color: rgb(220, 220, 220);\"></td><td title=\"Index: [9, 9]&#10;Color: (220, 220, 220)\" style=\"width: 20px; height: 20px;background-color: rgb(220, 220, 220);\"></td><td title=\"Index: [9, 10]&#10;Color: (100, 220, 220)\" style=\"width: 20px; height: 20px;background-color: rgb(100, 220, 220);\"></td><td title=\"Index: [9, 11]&#10;Color: (100, 220, 220)\" style=\"width: 20px; height: 20px;background-color: rgb(100, 220, 220);\"></td><td title=\"Index: [9, 12]&#10;Color: (220, 220, 220)\" style=\"width: 20px; height: 20px;background-color: rgb(220, 220, 220);\"></td><td title=\"Index: [9, 13]&#10;Color: (220, 100, 200)\" style=\"width: 20px; height: 20px;background-color: rgb(220, 100, 200);\"></td><td title=\"Index: [9, 14]&#10;Color: (220, 100, 200)\" style=\"width: 20px; height: 20px;background-color: rgb(220, 100, 200);\"></td></tr><tr><td title=\"Index: [10, 0]&#10;Color: (220, 100, 200)\" style=\"width: 20px; height: 20px;background-color: rgb(220, 100, 200);\"></td><td title=\"Index: [10, 1]&#10;Color: (220, 100, 200)\" style=\"width: 20px; height: 20px;background-color: rgb(220, 100, 200);\"></td><td title=\"Index: [10, 2]&#10;Color: (220, 220, 220)\" style=\"width: 20px; height: 20px;background-color: rgb(220, 220, 220);\"></td><td title=\"Index: [10, 3]&#10;Color: (100, 220, 220)\" style=\"width: 20px; height: 20px;background-color: rgb(100, 220, 220);\"></td><td title=\"Index: [10, 4]&#10;Color: (100, 220, 220)\" style=\"width: 20px; height: 20px;background-color: rgb(100, 220, 220);\"></td><td title=\"Index: [10, 5]&#10;Color: (220, 220, 220)\" style=\"width: 20px; height: 20px;background-color: rgb(220, 220, 220);\"></td><td title=\"Index: [10, 6]&#10;Color: (220, 220, 220)\" style=\"width: 20px; height: 20px;background-color: rgb(220, 220, 220);\"></td><td title=\"Index: [10, 7]&#10;Color: (220, 220, 220)\" style=\"width: 20px; height: 20px;background-color: rgb(220, 220, 220);\"></td><td title=\"Index: [10, 8]&#10;Color: (220, 220, 220)\" style=\"width: 20px; height: 20px;background-color: rgb(220, 220, 220);\"></td><td title=\"Index: [10, 9]&#10;Color: (220, 220, 220)\" style=\"width: 20px; height: 20px;background-color: rgb(220, 220, 220);\"></td><td title=\"Index: [10, 10]&#10;Color: (100, 220, 220)\" style=\"width: 20px; height: 20px;background-color: rgb(100, 220, 220);\"></td><td title=\"Index: [10, 11]&#10;Color: (100, 220, 220)\" style=\"width: 20px; height: 20px;background-color: rgb(100, 220, 220);\"></td><td title=\"Index: [10, 12]&#10;Color: (100, 220, 220)\" style=\"width: 20px; height: 20px;background-color: rgb(100, 220, 220);\"></td><td title=\"Index: [10, 13]&#10;Color: (220, 100, 200)\" style=\"width: 20px; height: 20px;background-color: rgb(220, 100, 200);\"></td><td title=\"Index: [10, 14]&#10;Color: (220, 100, 200)\" style=\"width: 20px; height: 20px;background-color: rgb(220, 100, 200);\"></td></tr><tr><td title=\"Index: [11, 0]&#10;Color: (220, 100, 200)\" style=\"width: 20px; height: 20px;background-color: rgb(220, 100, 200);\"></td><td title=\"Index: [11, 1]&#10;Color: (220, 220, 220)\" style=\"width: 20px; height: 20px;background-color: rgb(220, 220, 220);\"></td><td title=\"Index: [11, 2]&#10;Color: (220, 220, 220)\" style=\"width: 20px; height: 20px;background-color: rgb(220, 220, 220);\"></td><td title=\"Index: [11, 3]&#10;Color: (220, 220, 220)\" style=\"width: 20px; height: 20px;background-color: rgb(220, 220, 220);\"></td><td title=\"Index: [11, 4]&#10;Color: (220, 220, 220)\" style=\"width: 20px; height: 20px;background-color: rgb(220, 220, 220);\"></td><td title=\"Index: [11, 5]&#10;Color: (220, 220, 220)\" style=\"width: 20px; height: 20px;background-color: rgb(220, 220, 220);\"></td><td title=\"Index: [11, 6]&#10;Color: (220, 220, 220)\" style=\"width: 20px; height: 20px;background-color: rgb(220, 220, 220);\"></td><td title=\"Index: [11, 7]&#10;Color: (100, 220, 220)\" style=\"width: 20px; height: 20px;background-color: rgb(100, 220, 220);\"></td><td title=\"Index: [11, 8]&#10;Color: (220, 220, 220)\" style=\"width: 20px; height: 20px;background-color: rgb(220, 220, 220);\"></td><td title=\"Index: [11, 9]&#10;Color: (220, 220, 220)\" style=\"width: 20px; height: 20px;background-color: rgb(220, 220, 220);\"></td><td title=\"Index: [11, 10]&#10;Color: (100, 220, 220)\" style=\"width: 20px; height: 20px;background-color: rgb(100, 220, 220);\"></td><td title=\"Index: [11, 11]&#10;Color: (100, 220, 220)\" style=\"width: 20px; height: 20px;background-color: rgb(100, 220, 220);\"></td><td title=\"Index: [11, 12]&#10;Color: (220, 220, 220)\" style=\"width: 20px; height: 20px;background-color: rgb(220, 220, 220);\"></td><td title=\"Index: [11, 13]&#10;Color: (220, 100, 200)\" style=\"width: 20px; height: 20px;background-color: rgb(220, 100, 200);\"></td><td title=\"Index: [11, 14]&#10;Color: (220, 100, 200)\" style=\"width: 20px; height: 20px;background-color: rgb(220, 100, 200);\"></td></tr><tr><td title=\"Index: [12, 0]&#10;Color: (220, 220, 220)\" style=\"width: 20px; height: 20px;background-color: rgb(220, 220, 220);\"></td><td title=\"Index: [12, 1]&#10;Color: (220, 220, 220)\" style=\"width: 20px; height: 20px;background-color: rgb(220, 220, 220);\"></td><td title=\"Index: [12, 2]&#10;Color: (220, 220, 220)\" style=\"width: 20px; height: 20px;background-color: rgb(220, 220, 220);\"></td><td title=\"Index: [12, 3]&#10;Color: (100, 220, 220)\" style=\"width: 20px; height: 20px;background-color: rgb(100, 220, 220);\"></td><td title=\"Index: [12, 4]&#10;Color: (220, 220, 220)\" style=\"width: 20px; height: 20px;background-color: rgb(220, 220, 220);\"></td><td title=\"Index: [12, 5]&#10;Color: (220, 220, 220)\" style=\"width: 20px; height: 20px;background-color: rgb(220, 220, 220);\"></td><td title=\"Index: [12, 6]&#10;Color: (220, 220, 220)\" style=\"width: 20px; height: 20px;background-color: rgb(220, 220, 220);\"></td><td title=\"Index: [12, 7]&#10;Color: (220, 220, 220)\" style=\"width: 20px; height: 20px;background-color: rgb(220, 220, 220);\"></td><td title=\"Index: [12, 8]&#10;Color: (100, 220, 220)\" style=\"width: 20px; height: 20px;background-color: rgb(100, 220, 220);\"></td><td title=\"Index: [12, 9]&#10;Color: (220, 220, 220)\" style=\"width: 20px; height: 20px;background-color: rgb(220, 220, 220);\"></td><td title=\"Index: [12, 10]&#10;Color: (220, 220, 220)\" style=\"width: 20px; height: 20px;background-color: rgb(220, 220, 220);\"></td><td title=\"Index: [12, 11]&#10;Color: (100, 220, 220)\" style=\"width: 20px; height: 20px;background-color: rgb(100, 220, 220);\"></td><td title=\"Index: [12, 12]&#10;Color: (220, 220, 220)\" style=\"width: 20px; height: 20px;background-color: rgb(220, 220, 220);\"></td><td title=\"Index: [12, 13]&#10;Color: (220, 220, 220)\" style=\"width: 20px; height: 20px;background-color: rgb(220, 220, 220);\"></td><td title=\"Index: [12, 14]&#10;Color: (220, 100, 200)\" style=\"width: 20px; height: 20px;background-color: rgb(220, 100, 200);\"></td></tr><tr><td title=\"Index: [13, 0]&#10;Color: (100, 220, 220)\" style=\"width: 20px; height: 20px;background-color: rgb(100, 220, 220);\"></td><td title=\"Index: [13, 1]&#10;Color: (100, 220, 220)\" style=\"width: 20px; height: 20px;background-color: rgb(100, 220, 220);\"></td><td title=\"Index: [13, 2]&#10;Color: (100, 220, 220)\" style=\"width: 20px; height: 20px;background-color: rgb(100, 220, 220);\"></td><td title=\"Index: [13, 3]&#10;Color: (100, 220, 220)\" style=\"width: 20px; height: 20px;background-color: rgb(100, 220, 220);\"></td><td title=\"Index: [13, 4]&#10;Color: (100, 220, 220)\" style=\"width: 20px; height: 20px;background-color: rgb(100, 220, 220);\"></td><td title=\"Index: [13, 5]&#10;Color: (100, 220, 220)\" style=\"width: 20px; height: 20px;background-color: rgb(100, 220, 220);\"></td><td title=\"Index: [13, 6]&#10;Color: (100, 220, 220)\" style=\"width: 20px; height: 20px;background-color: rgb(100, 220, 220);\"></td><td title=\"Index: [13, 7]&#10;Color: (220, 220, 220)\" style=\"width: 20px; height: 20px;background-color: rgb(220, 220, 220);\"></td><td title=\"Index: [13, 8]&#10;Color: (100, 220, 220)\" style=\"width: 20px; height: 20px;background-color: rgb(100, 220, 220);\"></td><td title=\"Index: [13, 9]&#10;Color: (100, 220, 220)\" style=\"width: 20px; height: 20px;background-color: rgb(100, 220, 220);\"></td><td title=\"Index: [13, 10]&#10;Color: (220, 220, 220)\" style=\"width: 20px; height: 20px;background-color: rgb(220, 220, 220);\"></td><td title=\"Index: [13, 11]&#10;Color: (220, 220, 220)\" style=\"width: 20px; height: 20px;background-color: rgb(220, 220, 220);\"></td><td title=\"Index: [13, 12]&#10;Color: (220, 220, 220)\" style=\"width: 20px; height: 20px;background-color: rgb(220, 220, 220);\"></td><td title=\"Index: [13, 13]&#10;Color: (220, 220, 220)\" style=\"width: 20px; height: 20px;background-color: rgb(220, 220, 220);\"></td><td title=\"Index: [13, 14]&#10;Color: (220, 100, 200)\" style=\"width: 20px; height: 20px;background-color: rgb(220, 100, 200);\"></td></tr><tr><td title=\"Index: [14, 0]&#10;Color: (100, 220, 220)\" style=\"width: 20px; height: 20px;background-color: rgb(100, 220, 220);\"></td><td title=\"Index: [14, 1]&#10;Color: (220, 220, 220)\" style=\"width: 20px; height: 20px;background-color: rgb(220, 220, 220);\"></td><td title=\"Index: [14, 2]&#10;Color: (220, 220, 220)\" style=\"width: 20px; height: 20px;background-color: rgb(220, 220, 220);\"></td><td title=\"Index: [14, 3]&#10;Color: (220, 220, 220)\" style=\"width: 20px; height: 20px;background-color: rgb(220, 220, 220);\"></td><td title=\"Index: [14, 4]&#10;Color: (100, 220, 220)\" style=\"width: 20px; height: 20px;background-color: rgb(100, 220, 220);\"></td><td title=\"Index: [14, 5]&#10;Color: (100, 220, 220)\" style=\"width: 20px; height: 20px;background-color: rgb(100, 220, 220);\"></td><td title=\"Index: [14, 6]&#10;Color: (100, 220, 220)\" style=\"width: 20px; height: 20px;background-color: rgb(100, 220, 220);\"></td><td title=\"Index: [14, 7]&#10;Color: (100, 220, 220)\" style=\"width: 20px; height: 20px;background-color: rgb(100, 220, 220);\"></td><td title=\"Index: [14, 8]&#10;Color: (220, 220, 220)\" style=\"width: 20px; height: 20px;background-color: rgb(220, 220, 220);\"></td><td title=\"Index: [14, 9]&#10;Color: (220, 220, 220)\" style=\"width: 20px; height: 20px;background-color: rgb(220, 220, 220);\"></td><td title=\"Index: [14, 10]&#10;Color: (220, 220, 220)\" style=\"width: 20px; height: 20px;background-color: rgb(220, 220, 220);\"></td><td title=\"Index: [14, 11]&#10;Color: (220, 220, 220)\" style=\"width: 20px; height: 20px;background-color: rgb(220, 220, 220);\"></td><td title=\"Index: [14, 12]&#10;Color: (220, 220, 220)\" style=\"width: 20px; height: 20px;background-color: rgb(220, 220, 220);\"></td><td title=\"Index: [14, 13]&#10;Color: (220, 100, 200)\" style=\"width: 20px; height: 20px;background-color: rgb(220, 100, 200);\"></td><td title=\"Index: [14, 14]&#10;Color: (220, 100, 200)\" style=\"width: 20px; height: 20px;background-color: rgb(220, 100, 200);\"></td></tr></tbody></table>"
       ],
       "metadata": {},
       "output_type": "display_data",
       "text": [
        "<IPython.core.display.HTML at 0x106a4b510>"
       ]
      },
      {
       "output_type": "stream",
       "stream": "stdout",
       "text": [
        "In order to reach equilibrum there needed to be 8 steps, with 60 movements\n"
       ]
      }
     ],
     "prompt_number": 436
    },
    {
     "cell_type": "code",
     "collapsed": false,
     "input": [],
     "language": "python",
     "metadata": {},
     "outputs": []
    }
   ],
   "metadata": {}
  }
 ]
}