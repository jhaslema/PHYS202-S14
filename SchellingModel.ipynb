{
 "metadata": {
  "name": "",
  "signature": "sha256:ef81f50f88caa36fd89bc1bf824253a6e07443843f108b386f21e70b069db8cc"
 },
 "nbformat": 3,
 "nbformat_minor": 0,
 "worksheets": [
  {
   "cells": [
    {
     "cell_type": "code",
     "collapsed": false,
     "input": [
      "%pylab inline\n",
      "from IPython.html import widgets\n",
      "from IPython.display import display\n",
      "from ipythonblocks import BlockGrid"
     ],
     "language": "python",
     "metadata": {},
     "outputs": [
      {
       "output_type": "stream",
       "stream": "stdout",
       "text": [
        "Populating the interactive namespace from numpy and matplotlib\n"
       ]
      }
     ],
     "prompt_number": 26
    },
    {
     "cell_type": "code",
     "collapsed": false,
     "input": [
      "print \"Grid Size\" #Set the wanted Grid Size from user\n",
      "gridSize = widgets.IntSliderWidget(min = 1,max = 40,stepsize=1,name = \"Grid Size\")\n",
      "display(gridSize)"
     ],
     "language": "python",
     "metadata": {},
     "outputs": [
      {
       "output_type": "stream",
       "stream": "stdout",
       "text": [
        "Grid Size\n"
       ]
      }
     ],
     "prompt_number": 36
    },
    {
     "cell_type": "code",
     "collapsed": false,
     "input": [
      "print \"Similarity Threshhold (Number of same neighbors)\" #Set the wanted Similarity Threshold\n",
      "threshold = widgets.IntSliderWidget(min = 0,max = 8,stepsize=1,name = \"Grid Size\")\n",
      "display(threshold)"
     ],
     "language": "python",
     "metadata": {},
     "outputs": [
      {
       "output_type": "stream",
       "stream": "stdout",
       "text": [
        "Similarity Threshhold (Number of same neighbors)\n"
       ]
      }
     ],
     "prompt_number": 37
    },
    {
     "cell_type": "code",
     "collapsed": false,
     "input": [
      "print \"Population Density (Amount of white space)\" #Set the wanted Population Density(%)\n",
      "density = widgets.IntSliderWidget(min = 0,max = 100,stepsize=1,name = \"Grid Size\")\n",
      "display(density)"
     ],
     "language": "python",
     "metadata": {},
     "outputs": [
      {
       "output_type": "stream",
       "stream": "stdout",
       "text": [
        "Population Density (Amount of white space)\n"
       ]
      }
     ],
     "prompt_number": 39
    },
    {
     "cell_type": "code",
     "collapsed": false,
     "input": [
      "print \"Starting Relative Concentration Of Blue\" #Set the wanted Relative Concentration\n",
      "concentration = widgets.IntSliderWidget(min = 0,max = 100,stepsize=1,name = \"Grid Size\")\n",
      "display(concentration)"
     ],
     "language": "python",
     "metadata": {},
     "outputs": [
      {
       "output_type": "stream",
       "stream": "stdout",
       "text": [
        "Starting Relative Concentration Of Blue\n"
       ]
      }
     ],
     "prompt_number": 64
    },
    {
     "cell_type": "code",
     "collapsed": false,
     "input": [
      "print gridSize.value\n",
      "grid = initializeGrid(gridSize,density,concentration)\n",
      "grid.show()"
     ],
     "language": "python",
     "metadata": {},
     "outputs": [
      {
       "output_type": "stream",
       "stream": "stdout",
       "text": [
        "10\n"
       ]
      },
      {
       "html": [
        "<style type=\"text/css\">table.blockgrid {border: none;} .blockgrid tr {border: none;} .blockgrid td {padding: 0px;} #blocksbd4925d8-889f-4101-a550-a18d3703e6c1 td {border: 1px solid white;}</style><table id=\"blocksbd4925d8-889f-4101-a550-a18d3703e6c1\" class=\"blockgrid\"><tbody><tr><td title=\"Index: [0, 0]&#10;Color: (220, 220, 220)\" style=\"width: 20px; height: 20px;background-color: rgb(220, 220, 220);\"></td><td title=\"Index: [0, 1]&#10;Color: (220, 220, 220)\" style=\"width: 20px; height: 20px;background-color: rgb(220, 220, 220);\"></td><td title=\"Index: [0, 2]&#10;Color: (220, 220, 220)\" style=\"width: 20px; height: 20px;background-color: rgb(220, 220, 220);\"></td><td title=\"Index: [0, 3]&#10;Color: (220, 220, 220)\" style=\"width: 20px; height: 20px;background-color: rgb(220, 220, 220);\"></td><td title=\"Index: [0, 4]&#10;Color: (220, 220, 220)\" style=\"width: 20px; height: 20px;background-color: rgb(220, 220, 220);\"></td><td title=\"Index: [0, 5]&#10;Color: (220, 220, 220)\" style=\"width: 20px; height: 20px;background-color: rgb(220, 220, 220);\"></td><td title=\"Index: [0, 6]&#10;Color: (220, 220, 220)\" style=\"width: 20px; height: 20px;background-color: rgb(220, 220, 220);\"></td><td title=\"Index: [0, 7]&#10;Color: (220, 220, 220)\" style=\"width: 20px; height: 20px;background-color: rgb(220, 220, 220);\"></td><td title=\"Index: [0, 8]&#10;Color: (220, 220, 220)\" style=\"width: 20px; height: 20px;background-color: rgb(220, 220, 220);\"></td><td title=\"Index: [0, 9]&#10;Color: (220, 220, 220)\" style=\"width: 20px; height: 20px;background-color: rgb(220, 220, 220);\"></td></tr><tr><td title=\"Index: [1, 0]&#10;Color: (220, 220, 220)\" style=\"width: 20px; height: 20px;background-color: rgb(220, 220, 220);\"></td><td title=\"Index: [1, 1]&#10;Color: (220, 220, 220)\" style=\"width: 20px; height: 20px;background-color: rgb(220, 220, 220);\"></td><td title=\"Index: [1, 2]&#10;Color: (220, 220, 220)\" style=\"width: 20px; height: 20px;background-color: rgb(220, 220, 220);\"></td><td title=\"Index: [1, 3]&#10;Color: (220, 220, 220)\" style=\"width: 20px; height: 20px;background-color: rgb(220, 220, 220);\"></td><td title=\"Index: [1, 4]&#10;Color: (220, 220, 220)\" style=\"width: 20px; height: 20px;background-color: rgb(220, 220, 220);\"></td><td title=\"Index: [1, 5]&#10;Color: (220, 220, 220)\" style=\"width: 20px; height: 20px;background-color: rgb(220, 220, 220);\"></td><td title=\"Index: [1, 6]&#10;Color: (220, 220, 220)\" style=\"width: 20px; height: 20px;background-color: rgb(220, 220, 220);\"></td><td title=\"Index: [1, 7]&#10;Color: (220, 220, 220)\" style=\"width: 20px; height: 20px;background-color: rgb(220, 220, 220);\"></td><td title=\"Index: [1, 8]&#10;Color: (220, 220, 220)\" style=\"width: 20px; height: 20px;background-color: rgb(220, 220, 220);\"></td><td title=\"Index: [1, 9]&#10;Color: (220, 220, 220)\" style=\"width: 20px; height: 20px;background-color: rgb(220, 220, 220);\"></td></tr><tr><td title=\"Index: [2, 0]&#10;Color: (220, 220, 220)\" style=\"width: 20px; height: 20px;background-color: rgb(220, 220, 220);\"></td><td title=\"Index: [2, 1]&#10;Color: (220, 220, 220)\" style=\"width: 20px; height: 20px;background-color: rgb(220, 220, 220);\"></td><td title=\"Index: [2, 2]&#10;Color: (220, 220, 220)\" style=\"width: 20px; height: 20px;background-color: rgb(220, 220, 220);\"></td><td title=\"Index: [2, 3]&#10;Color: (220, 220, 220)\" style=\"width: 20px; height: 20px;background-color: rgb(220, 220, 220);\"></td><td title=\"Index: [2, 4]&#10;Color: (220, 220, 220)\" style=\"width: 20px; height: 20px;background-color: rgb(220, 220, 220);\"></td><td title=\"Index: [2, 5]&#10;Color: (220, 220, 220)\" style=\"width: 20px; height: 20px;background-color: rgb(220, 220, 220);\"></td><td title=\"Index: [2, 6]&#10;Color: (220, 220, 220)\" style=\"width: 20px; height: 20px;background-color: rgb(220, 220, 220);\"></td><td title=\"Index: [2, 7]&#10;Color: (220, 220, 220)\" style=\"width: 20px; height: 20px;background-color: rgb(220, 220, 220);\"></td><td title=\"Index: [2, 8]&#10;Color: (220, 220, 220)\" style=\"width: 20px; height: 20px;background-color: rgb(220, 220, 220);\"></td><td title=\"Index: [2, 9]&#10;Color: (220, 220, 220)\" style=\"width: 20px; height: 20px;background-color: rgb(220, 220, 220);\"></td></tr><tr><td title=\"Index: [3, 0]&#10;Color: (220, 220, 220)\" style=\"width: 20px; height: 20px;background-color: rgb(220, 220, 220);\"></td><td title=\"Index: [3, 1]&#10;Color: (220, 220, 220)\" style=\"width: 20px; height: 20px;background-color: rgb(220, 220, 220);\"></td><td title=\"Index: [3, 2]&#10;Color: (220, 220, 220)\" style=\"width: 20px; height: 20px;background-color: rgb(220, 220, 220);\"></td><td title=\"Index: [3, 3]&#10;Color: (220, 220, 220)\" style=\"width: 20px; height: 20px;background-color: rgb(220, 220, 220);\"></td><td title=\"Index: [3, 4]&#10;Color: (220, 220, 220)\" style=\"width: 20px; height: 20px;background-color: rgb(220, 220, 220);\"></td><td title=\"Index: [3, 5]&#10;Color: (220, 220, 220)\" style=\"width: 20px; height: 20px;background-color: rgb(220, 220, 220);\"></td><td title=\"Index: [3, 6]&#10;Color: (220, 220, 220)\" style=\"width: 20px; height: 20px;background-color: rgb(220, 220, 220);\"></td><td title=\"Index: [3, 7]&#10;Color: (220, 220, 220)\" style=\"width: 20px; height: 20px;background-color: rgb(220, 220, 220);\"></td><td title=\"Index: [3, 8]&#10;Color: (220, 220, 220)\" style=\"width: 20px; height: 20px;background-color: rgb(220, 220, 220);\"></td><td title=\"Index: [3, 9]&#10;Color: (220, 220, 220)\" style=\"width: 20px; height: 20px;background-color: rgb(220, 220, 220);\"></td></tr><tr><td title=\"Index: [4, 0]&#10;Color: (220, 220, 220)\" style=\"width: 20px; height: 20px;background-color: rgb(220, 220, 220);\"></td><td title=\"Index: [4, 1]&#10;Color: (220, 220, 220)\" style=\"width: 20px; height: 20px;background-color: rgb(220, 220, 220);\"></td><td title=\"Index: [4, 2]&#10;Color: (220, 220, 220)\" style=\"width: 20px; height: 20px;background-color: rgb(220, 220, 220);\"></td><td title=\"Index: [4, 3]&#10;Color: (220, 220, 220)\" style=\"width: 20px; height: 20px;background-color: rgb(220, 220, 220);\"></td><td title=\"Index: [4, 4]&#10;Color: (220, 220, 220)\" style=\"width: 20px; height: 20px;background-color: rgb(220, 220, 220);\"></td><td title=\"Index: [4, 5]&#10;Color: (220, 220, 220)\" style=\"width: 20px; height: 20px;background-color: rgb(220, 220, 220);\"></td><td title=\"Index: [4, 6]&#10;Color: (220, 220, 220)\" style=\"width: 20px; height: 20px;background-color: rgb(220, 220, 220);\"></td><td title=\"Index: [4, 7]&#10;Color: (220, 220, 220)\" style=\"width: 20px; height: 20px;background-color: rgb(220, 220, 220);\"></td><td title=\"Index: [4, 8]&#10;Color: (220, 220, 220)\" style=\"width: 20px; height: 20px;background-color: rgb(220, 220, 220);\"></td><td title=\"Index: [4, 9]&#10;Color: (220, 220, 220)\" style=\"width: 20px; height: 20px;background-color: rgb(220, 220, 220);\"></td></tr><tr><td title=\"Index: [5, 0]&#10;Color: (220, 220, 220)\" style=\"width: 20px; height: 20px;background-color: rgb(220, 220, 220);\"></td><td title=\"Index: [5, 1]&#10;Color: (220, 220, 220)\" style=\"width: 20px; height: 20px;background-color: rgb(220, 220, 220);\"></td><td title=\"Index: [5, 2]&#10;Color: (220, 220, 220)\" style=\"width: 20px; height: 20px;background-color: rgb(220, 220, 220);\"></td><td title=\"Index: [5, 3]&#10;Color: (220, 220, 220)\" style=\"width: 20px; height: 20px;background-color: rgb(220, 220, 220);\"></td><td title=\"Index: [5, 4]&#10;Color: (220, 220, 220)\" style=\"width: 20px; height: 20px;background-color: rgb(220, 220, 220);\"></td><td title=\"Index: [5, 5]&#10;Color: (220, 220, 220)\" style=\"width: 20px; height: 20px;background-color: rgb(220, 220, 220);\"></td><td title=\"Index: [5, 6]&#10;Color: (220, 220, 220)\" style=\"width: 20px; height: 20px;background-color: rgb(220, 220, 220);\"></td><td title=\"Index: [5, 7]&#10;Color: (220, 220, 220)\" style=\"width: 20px; height: 20px;background-color: rgb(220, 220, 220);\"></td><td title=\"Index: [5, 8]&#10;Color: (220, 220, 220)\" style=\"width: 20px; height: 20px;background-color: rgb(220, 220, 220);\"></td><td title=\"Index: [5, 9]&#10;Color: (220, 220, 220)\" style=\"width: 20px; height: 20px;background-color: rgb(220, 220, 220);\"></td></tr><tr><td title=\"Index: [6, 0]&#10;Color: (220, 220, 220)\" style=\"width: 20px; height: 20px;background-color: rgb(220, 220, 220);\"></td><td title=\"Index: [6, 1]&#10;Color: (220, 220, 220)\" style=\"width: 20px; height: 20px;background-color: rgb(220, 220, 220);\"></td><td title=\"Index: [6, 2]&#10;Color: (220, 220, 220)\" style=\"width: 20px; height: 20px;background-color: rgb(220, 220, 220);\"></td><td title=\"Index: [6, 3]&#10;Color: (220, 220, 220)\" style=\"width: 20px; height: 20px;background-color: rgb(220, 220, 220);\"></td><td title=\"Index: [6, 4]&#10;Color: (220, 220, 220)\" style=\"width: 20px; height: 20px;background-color: rgb(220, 220, 220);\"></td><td title=\"Index: [6, 5]&#10;Color: (220, 220, 220)\" style=\"width: 20px; height: 20px;background-color: rgb(220, 220, 220);\"></td><td title=\"Index: [6, 6]&#10;Color: (220, 220, 220)\" style=\"width: 20px; height: 20px;background-color: rgb(220, 220, 220);\"></td><td title=\"Index: [6, 7]&#10;Color: (220, 220, 220)\" style=\"width: 20px; height: 20px;background-color: rgb(220, 220, 220);\"></td><td title=\"Index: [6, 8]&#10;Color: (220, 220, 220)\" style=\"width: 20px; height: 20px;background-color: rgb(220, 220, 220);\"></td><td title=\"Index: [6, 9]&#10;Color: (220, 220, 220)\" style=\"width: 20px; height: 20px;background-color: rgb(220, 220, 220);\"></td></tr><tr><td title=\"Index: [7, 0]&#10;Color: (220, 220, 220)\" style=\"width: 20px; height: 20px;background-color: rgb(220, 220, 220);\"></td><td title=\"Index: [7, 1]&#10;Color: (220, 220, 220)\" style=\"width: 20px; height: 20px;background-color: rgb(220, 220, 220);\"></td><td title=\"Index: [7, 2]&#10;Color: (220, 220, 220)\" style=\"width: 20px; height: 20px;background-color: rgb(220, 220, 220);\"></td><td title=\"Index: [7, 3]&#10;Color: (220, 220, 220)\" style=\"width: 20px; height: 20px;background-color: rgb(220, 220, 220);\"></td><td title=\"Index: [7, 4]&#10;Color: (220, 220, 220)\" style=\"width: 20px; height: 20px;background-color: rgb(220, 220, 220);\"></td><td title=\"Index: [7, 5]&#10;Color: (220, 220, 220)\" style=\"width: 20px; height: 20px;background-color: rgb(220, 220, 220);\"></td><td title=\"Index: [7, 6]&#10;Color: (220, 220, 220)\" style=\"width: 20px; height: 20px;background-color: rgb(220, 220, 220);\"></td><td title=\"Index: [7, 7]&#10;Color: (220, 220, 220)\" style=\"width: 20px; height: 20px;background-color: rgb(220, 220, 220);\"></td><td title=\"Index: [7, 8]&#10;Color: (220, 220, 220)\" style=\"width: 20px; height: 20px;background-color: rgb(220, 220, 220);\"></td><td title=\"Index: [7, 9]&#10;Color: (220, 220, 220)\" style=\"width: 20px; height: 20px;background-color: rgb(220, 220, 220);\"></td></tr><tr><td title=\"Index: [8, 0]&#10;Color: (220, 220, 220)\" style=\"width: 20px; height: 20px;background-color: rgb(220, 220, 220);\"></td><td title=\"Index: [8, 1]&#10;Color: (220, 220, 220)\" style=\"width: 20px; height: 20px;background-color: rgb(220, 220, 220);\"></td><td title=\"Index: [8, 2]&#10;Color: (220, 220, 220)\" style=\"width: 20px; height: 20px;background-color: rgb(220, 220, 220);\"></td><td title=\"Index: [8, 3]&#10;Color: (220, 220, 220)\" style=\"width: 20px; height: 20px;background-color: rgb(220, 220, 220);\"></td><td title=\"Index: [8, 4]&#10;Color: (220, 220, 220)\" style=\"width: 20px; height: 20px;background-color: rgb(220, 220, 220);\"></td><td title=\"Index: [8, 5]&#10;Color: (220, 220, 220)\" style=\"width: 20px; height: 20px;background-color: rgb(220, 220, 220);\"></td><td title=\"Index: [8, 6]&#10;Color: (220, 220, 220)\" style=\"width: 20px; height: 20px;background-color: rgb(220, 220, 220);\"></td><td title=\"Index: [8, 7]&#10;Color: (220, 220, 220)\" style=\"width: 20px; height: 20px;background-color: rgb(220, 220, 220);\"></td><td title=\"Index: [8, 8]&#10;Color: (220, 220, 220)\" style=\"width: 20px; height: 20px;background-color: rgb(220, 220, 220);\"></td><td title=\"Index: [8, 9]&#10;Color: (220, 220, 220)\" style=\"width: 20px; height: 20px;background-color: rgb(220, 220, 220);\"></td></tr><tr><td title=\"Index: [9, 0]&#10;Color: (220, 220, 220)\" style=\"width: 20px; height: 20px;background-color: rgb(220, 220, 220);\"></td><td title=\"Index: [9, 1]&#10;Color: (220, 220, 220)\" style=\"width: 20px; height: 20px;background-color: rgb(220, 220, 220);\"></td><td title=\"Index: [9, 2]&#10;Color: (220, 220, 220)\" style=\"width: 20px; height: 20px;background-color: rgb(220, 220, 220);\"></td><td title=\"Index: [9, 3]&#10;Color: (220, 220, 220)\" style=\"width: 20px; height: 20px;background-color: rgb(220, 220, 220);\"></td><td title=\"Index: [9, 4]&#10;Color: (220, 220, 220)\" style=\"width: 20px; height: 20px;background-color: rgb(220, 220, 220);\"></td><td title=\"Index: [9, 5]&#10;Color: (220, 220, 220)\" style=\"width: 20px; height: 20px;background-color: rgb(220, 220, 220);\"></td><td title=\"Index: [9, 6]&#10;Color: (220, 220, 220)\" style=\"width: 20px; height: 20px;background-color: rgb(220, 220, 220);\"></td><td title=\"Index: [9, 7]&#10;Color: (220, 220, 220)\" style=\"width: 20px; height: 20px;background-color: rgb(220, 220, 220);\"></td><td title=\"Index: [9, 8]&#10;Color: (220, 220, 220)\" style=\"width: 20px; height: 20px;background-color: rgb(220, 220, 220);\"></td><td title=\"Index: [9, 9]&#10;Color: (220, 220, 220)\" style=\"width: 20px; height: 20px;background-color: rgb(220, 220, 220);\"></td></tr></tbody></table>"
       ],
       "metadata": {},
       "output_type": "display_data",
       "text": [
        "<IPython.core.display.HTML at 0x105ea3410>"
       ]
      }
     ],
     "prompt_number": 67
    },
    {
     "cell_type": "code",
     "collapsed": false,
     "input": [
      "def initializeGrid(size,dens,conc):\n",
      "    grid = BlockGrid(size.value,size.value,fill =(220, 220, 220),lines_on = True)\n",
      "    for i in range(dens/100.*size**2):\n",
      "        go\n",
      "    return grid\n",
      "\n",
      "def findRandomPosition(grid,size):\n",
      "    \"\"\"Finds a Random OPEN Position on the Grid\"\"\"\n",
      "    for i in range(size**2):\n",
      "        x = np.random.rand()"
     ],
     "language": "python",
     "metadata": {},
     "outputs": [],
     "prompt_number": 69
    },
    {
     "cell_type": "code",
     "collapsed": false,
     "input": [],
     "language": "python",
     "metadata": {},
     "outputs": []
    }
   ],
   "metadata": {}
  }
 ]
}