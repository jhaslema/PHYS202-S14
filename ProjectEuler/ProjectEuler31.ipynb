{
 "metadata": {
  "name": "",
  "signature": "sha256:26ea7c0c4be0a6a3250f76974ef82ddd1e0fb7d2e093b5b251d31b58e24d8309"
 },
 "nbformat": 3,
 "nbformat_minor": 0,
 "worksheets": [
  {
   "cells": [
    {
     "cell_type": "heading",
     "level": 1,
     "metadata": {},
     "source": [
      "Coin Sums"
     ]
    },
    {
     "cell_type": "heading",
     "level": 4,
     "metadata": {},
     "source": [
      "Problem 31"
     ]
    },
    {
     "cell_type": "markdown",
     "metadata": {},
     "source": [
      "In England the currency is made up of pound, \u00a3, and pence, p, and there are eight coins in general circulation:\n",
      "\n",
      "1p, 2p, 5p, 10p, 20p, 50p, \u00a31 (100p) and \u00a32 (200p).\n",
      "It is possible to make \u00a32 in the following way:\n",
      "\n",
      "1\u00a31 + 150p + 220p + 15p + 12p + 31p\n",
      "How many different ways can \u00a32 be made using any number of coins?"
     ]
    },
    {
     "cell_type": "code",
     "collapsed": false,
     "input": [
      "total = 0\n",
      "for x in range(2):\n",
      "    for y in range(3):\n",
      "        for z in range(5):\n",
      "            for a in range(11):\n",
      "                for b in range(21):\n",
      "                    for c in range(41):\n",
      "                        for d in range(101):\n",
      "                            for e in range(201):\n",
      "                                if 200*x + 100*y + 50*z + 20*a + 10*b + 5*c + 2*d + 1*e == 200:\n",
      "                                    total += 1\n",
      "print total"
     ],
     "language": "python",
     "metadata": {},
     "outputs": []
    },
    {
     "cell_type": "code",
     "collapsed": false,
     "input": [],
     "language": "python",
     "metadata": {},
     "outputs": []
    }
   ],
   "metadata": {}
  }
 ]
}