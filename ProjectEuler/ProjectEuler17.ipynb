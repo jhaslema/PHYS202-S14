{
 "metadata": {
  "name": "",
  "signature": "sha256:8e64d9cb246ecd6e53428768894281c30540d8f00074d0e4d737a3dcf8c70bae"
 },
 "nbformat": 3,
 "nbformat_minor": 0,
 "worksheets": [
  {
   "cells": [
    {
     "cell_type": "heading",
     "level": 1,
     "metadata": {},
     "source": [
      "Number Letter Counts\n",
      "Problem 17"
     ]
    },
    {
     "cell_type": "markdown",
     "metadata": {},
     "source": [
      "If the numbers 1 to 5 are written out in words: one, two, three, four, five, then there are 3 + 3 + 5 + 4 + 4 = 19 letters used in total.\n",
      "\n",
      "If all the numbers from 1 to 1000 (one thousand) inclusive were written out in words, how many letters would be used?\n",
      "\n",
      "\n",
      "NOTE: Do not count spaces or hyphens. For example, 342 (three hundred and forty-two) contains 23 letters and 115 (one hundred and fifteen) contains 20 letters. The use of \"and\" when writing out numbers is in compliance with British usage."
     ]
    },
    {
     "cell_type": "code",
     "collapsed": false,
     "input": [
      "def numberLetterCounts(maximum):\n",
      "    lengths19 = [0,3,3,5,4,4,3,5,5,4,3,6,6,8,8,7,7,9,8,8]\n",
      "    lengths20 = [0,3,6,6,5,5,5,7,6,6]\n",
      "    length100 = 7\n",
      "    length1000 = 8\n",
      "    total = 0\n",
      "    for i in range(1,maximum):\n",
      "        c = i % 10 # singles digit\n",
      "        b = ((i % 100) - c) / 10 # tens digit\n",
      "        a = ((i % 1000) - (b * 10) - c) / 100 # hundreds digit\n",
      "        if a != 0:\n",
      "            total += lengths19[a] + length100 # \"S[a] hundred\n",
      "            if b != 0 or c != 0: total += 3 # \"and\"\n",
      "        if b == 0 or b == 1: total += lengths19[b * 10 + c]\n",
      "        else: \n",
      "            total += lengths20[b] + lengths19[c]\n",
      "    total += lengths19[1] + length1000\n",
      "    print total"
     ],
     "language": "python",
     "metadata": {},
     "outputs": [],
     "prompt_number": 14
    },
    {
     "cell_type": "code",
     "collapsed": false,
     "input": [
      "numberLetterCounts(1000)"
     ],
     "language": "python",
     "metadata": {},
     "outputs": [
      {
       "output_type": "stream",
       "stream": "stdout",
       "text": [
        "21124\n"
       ]
      }
     ],
     "prompt_number": 15
    },
    {
     "cell_type": "code",
     "collapsed": false,
     "input": [],
     "language": "python",
     "metadata": {},
     "outputs": []
    }
   ],
   "metadata": {}
  }
 ]
}