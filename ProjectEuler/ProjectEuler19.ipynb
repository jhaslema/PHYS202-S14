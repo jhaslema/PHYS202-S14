{
 "metadata": {
  "name": "",
  "signature": "sha256:3e91feb47406bb2569352ffab3755c65339555f815e29506297367120094a338"
 },
 "nbformat": 3,
 "nbformat_minor": 0,
 "worksheets": [
  {
   "cells": [
    {
     "cell_type": "heading",
     "level": 1,
     "metadata": {},
     "source": [
      "Counting Sundays"
     ]
    },
    {
     "cell_type": "markdown",
     "metadata": {},
     "source": [
      "Problem #19"
     ]
    },
    {
     "cell_type": "markdown",
     "metadata": {},
     "source": [
      "You are given the following information, but you may prefer to do some research for yourself.\n",
      "\n",
      "1 Jan 1900 was a Monday.\n",
      "Thirty days has September,\n",
      "April, June and November.\n",
      "All the rest have thirty-one,\n",
      "Saving February alone,\n",
      "Which has twenty-eight, rain or shine.\n",
      "And on leap years, twenty-nine.\n",
      "A leap year occurs on any year evenly divisible by 4, but not on a century unless it is divisible by 400.\n",
      "How many Sundays fell on the first of the month during the twentieth century (1 Jan 1901 to 31 Dec 2000)?"
     ]
    },
    {
     "cell_type": "code",
     "collapsed": false,
     "input": [
      "def sundays():\n",
      "    lengths=[31,28,31,30,31,30,31,31,30,31,30,31]\n",
      "    d,number=0,0\n",
      "    for i in range(0,101):\n",
      "        #Accounts for when february is a leap year or not\n",
      "        if (not i%4==0 and i%100==0) or not (1900+i)%400==0:\n",
      "            lengths[1]=29\n",
      "        else:\n",
      "            lengths[1]=28\n",
      "        for t in lengths:             \n",
      "            if not (d-1)%7 and i>=1:\n",
      "                number+=1\n",
      "            d+=t\n",
      "    return number\n",
      "print sundays()"
     ],
     "language": "python",
     "metadata": {},
     "outputs": [
      {
       "output_type": "stream",
       "stream": "stdout",
       "text": [
        "171\n"
       ]
      }
     ],
     "prompt_number": 56
    },
    {
     "cell_type": "code",
     "collapsed": false,
     "input": [],
     "language": "python",
     "metadata": {},
     "outputs": []
    }
   ],
   "metadata": {}
  }
 ]
}