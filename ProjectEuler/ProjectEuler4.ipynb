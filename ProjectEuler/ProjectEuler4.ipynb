{
 "metadata": {
  "name": "",
  "signature": "sha256:b3c7c126c9c010ea74287c6d897d4dd14d5b4c9dde996013e8181918744be892"
 },
 "nbformat": 3,
 "nbformat_minor": 0,
 "worksheets": [
  {
   "cells": [
    {
     "cell_type": "heading",
     "level": 1,
     "metadata": {},
     "source": [
      "Largest Palindrome Product"
     ]
    },
    {
     "cell_type": "markdown",
     "metadata": {},
     "source": [
      "A palindromic number reads the same both ways. The largest palindrome made from the product of two 2-digit numbers is 9009 = 91 \u00d7 99.\n",
      "\n",
      "Find the largest palindrome made from the product of two 3-digit numbers."
     ]
    },
    {
     "cell_type": "code",
     "collapsed": false,
     "input": [
      "def isPalindrome(num):\n",
      "    if str(num)==str(num)[::-1]:\n",
      "        return True\n",
      "    else:\n",
      "        return False"
     ],
     "language": "python",
     "metadata": {},
     "outputs": [],
     "prompt_number": 5
    },
    {
     "cell_type": "code",
     "collapsed": false,
     "input": [
      "def findHighest(min=100,max=999):\n",
      "    maxP = 0\n",
      "    for a in range(min,max + 1):\n",
      "        for b in range(a + 1, max + 1):\n",
      "            product = a*b\n",
      "            if product > maxP and str(product)==(str(product)[::-1]):\n",
      "                maxP = product\n",
      "    return maxP"
     ],
     "language": "python",
     "metadata": {},
     "outputs": [],
     "prompt_number": 9
    },
    {
     "cell_type": "code",
     "collapsed": false,
     "input": [
      "print findHighest(100,999)"
     ],
     "language": "python",
     "metadata": {},
     "outputs": [
      {
       "output_type": "stream",
       "stream": "stdout",
       "text": [
        "906609\n"
       ]
      }
     ],
     "prompt_number": 10
    }
   ],
   "metadata": {}
  }
 ]
}