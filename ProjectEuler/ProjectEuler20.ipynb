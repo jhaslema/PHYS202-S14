{
 "metadata": {
  "name": "",
  "signature": "sha256:ca486c6cbdf345b4e09af9d5e2a678999c682e78e1dd13b0e5a8d788e699c408"
 },
 "nbformat": 3,
 "nbformat_minor": 0,
 "worksheets": [
  {
   "cells": [
    {
     "cell_type": "heading",
     "level": 1,
     "metadata": {},
     "source": [
      "Project Euler 20"
     ]
    },
    {
     "cell_type": "raw",
     "metadata": {},
     "source": [
      "n! means n \u00d7 (n \u2212 1) \u00d7 ... \u00d7 3 \u00d7 2 \u00d7 1\n",
      "\n",
      "For example, 10! = 10 \u00d7 9 \u00d7 ... \u00d7 3 \u00d7 2 \u00d7 1 = 3628800,\n",
      "and the sum of the digits in the number 10! is 3 + 6 + 2 + 8 + 8 + 0 + 0 = 27.\n",
      "\n",
      "Find the sum of the digits in the number 100!"
     ]
    },
    {
     "cell_type": "code",
     "collapsed": false,
     "input": [
      "def findSumOfDigits(number):\n",
      "    a=1\n",
      "    total = 0\n",
      "    for n in range(1,number+1):\n",
      "        a = a * n\n",
      "    for b in str(a):\n",
      "        total += int(b)\n",
      "    print total"
     ],
     "language": "python",
     "metadata": {},
     "outputs": [],
     "prompt_number": 35
    },
    {
     "cell_type": "code",
     "collapsed": false,
     "input": [
      "print findSumOfDigits(10)"
     ],
     "language": "python",
     "metadata": {},
     "outputs": [
      {
       "output_type": "stream",
       "stream": "stdout",
       "text": [
        "27\n",
        "None\n"
       ]
      }
     ],
     "prompt_number": 36
    },
    {
     "cell_type": "code",
     "collapsed": false,
     "input": [
      "print findSumOfDigits(100)"
     ],
     "language": "python",
     "metadata": {},
     "outputs": [
      {
       "output_type": "stream",
       "stream": "stdout",
       "text": [
        "648\n",
        "None\n"
       ]
      }
     ],
     "prompt_number": 37
    },
    {
     "cell_type": "code",
     "collapsed": false,
     "input": [],
     "language": "python",
     "metadata": {},
     "outputs": []
    }
   ],
   "metadata": {}
  }
 ]
}