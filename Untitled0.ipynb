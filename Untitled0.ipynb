{
 "metadata": {
  "name": "",
  "signature": "sha256:d8b23fbfc456b6900deb3795b2a956645bf4f783c74c44c0c9f6cd9b2e320085"
 },
 "nbformat": 3,
 "nbformat_minor": 0,
 "worksheets": []
}