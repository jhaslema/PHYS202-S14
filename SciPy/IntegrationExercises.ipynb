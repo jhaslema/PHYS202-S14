{
 "metadata": {
  "name": "",
  "signature": "sha256:1d3cb2d5333988ad5e57c52d487f406eb10f8fac4ddc2e826638501c847dc897"
 },
 "nbformat": 3,
 "nbformat_minor": 0,
 "worksheets": [
  {
   "cells": [
    {
     "cell_type": "heading",
     "level": 1,
     "metadata": {},
     "source": [
      "Integration Exercises"
     ]
    },
    {
     "cell_type": "markdown",
     "metadata": {},
     "source": [
      "Question 1\n",
      "(a) Write two functions trapz(func,a,b,N) and simps(func,a,b,N) to compute the integral of the function func over the variable x using the trapezoidal rule and Simpson's rule to a file called Integrators.py. Do not use the scipy.integrate built-in functions. Include docstrings with each function that describe what they do. Then import the module and use the functions to answer the following questions. To avoid namespace conflicts, import your module as myint and then call the functions from that namespace. i.e.\n",
      "    import integrators as myint\n",
      "    #...your code...here\n",
      "    I = myint.trapz(func,a,b,N)\n",
      "Also, be sure that you import any needed modules inside your Integrators.py file."
     ]
    },
    {
     "cell_type": "code",
     "collapsed": false,
     "input": [
      "%pylab inline\n",
      "import Integrators as myint\n",
      "import numpy as np"
     ],
     "language": "python",
     "metadata": {},
     "outputs": [
      {
       "output_type": "stream",
       "stream": "stdout",
       "text": [
        "Populating the interactive namespace from numpy and matplotlib\n"
       ]
      }
     ],
     "prompt_number": 1
    },
    {
     "cell_type": "code",
     "collapsed": false,
     "input": [
      "%%file Integrators.py\n",
      "\n",
      "import numpy as np\n",
      "\n",
      "def trapz(func,a,b,N):\n",
      "    \"Performs the trapezoidal integral of func through a and b with a certain number of trapezoids(accuracy, higher the N the more accurate) N\"\n",
      "    h = (b-a)/N\n",
      "    k = np.arange(1,N)\n",
      "    I = h*(0.5*func(a) + 0.5*func(b) + func(a+k*h).sum())\n",
      "    return I\n",
      "\n",
      "def simps(func,a,b,N):\n",
      "    \"Performs the Simpson's integral of func through a and b with a certain number of divisions(accuracy, higher the N the more accurate) N\"\n",
      "    h = (b-a)/N\n",
      "    k1 = np.arange(1,N/2+1)\n",
      "    k2 = np.arange(1,N/2)\n",
      "    I = (1./3.)*h*(func(a) + func(b) + 4.*func(a+(2*k1-1)*h).sum() + 2.*func(a+2*k2*h).sum())\n",
      "    return I\n",
      "\n",
      "def pe(calculated,actual):\n",
      "    \"Returns the percent error given the calculated value and the actual value\"\n",
      "    return (actual-calculated)/actual*100."
     ],
     "language": "python",
     "metadata": {},
     "outputs": [
      {
       "output_type": "stream",
       "stream": "stdout",
       "text": [
        "Overwriting Integrators.py\n"
       ]
      }
     ],
     "prompt_number": 2
    },
    {
     "cell_type": "markdown",
     "metadata": {},
     "source": [
      "\n",
      "(b) Use your trapz and simps functions from part (a) to calculate the integral of x4\u22122x+1 from x = 0 to x = 2 with N = 10, N = 100, and N = 1000. Then compare your result to the known correct value of 4.4. What is the percent error in each case?"
     ]
    },
    {
     "cell_type": "code",
     "collapsed": false,
     "input": [
      "func = lambda x: x**4 - 2*x + 1\n",
      "xmin = 0.\n",
      "xmax = 2.\n",
      "N1 = 10\n",
      "N2 = 100\n",
      "N3 = 1000\n",
      "print \"The trapezoidal integral of function with N = 10,100,1000,and its percent error\"\n",
      "x1 = myint.trapz(func,xmin,xmax,N1)\n",
      "y1 = myint.trapz(func,xmin,xmax,N2)\n",
      "z1 = myint.trapz(func,xmin,xmax,N3)\n",
      "print x1, myint.pe(x1,4.4),\"%\"\n",
      "print y1, myint.pe(y1,4.4),\"%\"\n",
      "print z1, myint.pe(z1,4.4),\"%\"\n",
      "print \"The Simpson's integral of function with N = 10,100,1000\"\n",
      "x2 = myint.simps(func,xmin,xmax,N1)\n",
      "y2 = myint.simps(func,xmin,xmax,N2)\n",
      "z2 = myint.simps(func,xmin,xmax,N3)\n",
      "print x2, myint.pe(x2,4.4),\"%\"\n",
      "print y2, myint.pe(y2,4.4),\"%\"\n",
      "print z2, myint.pe(z2,4.4),\"%\""
     ],
     "language": "python",
     "metadata": {},
     "outputs": [
      {
       "output_type": "stream",
       "stream": "stdout",
       "text": [
        "The trapezoidal integral of function with N = 10,100,1000,and its percent error\n",
        "4.50656 -2.42181818182 %\n",
        "4.401066656 -0.0242421818182 %\n",
        "4.40001066667 -0.000242424218175 %\n",
        "The Simpson's integral of function with N = 10,100,1000\n",
        "4.40042666667 -0.00969696969697 %\n",
        "4.40000004267 -9.69696969187e-07 %\n",
        "4.4 -9.69729347327e-11 %\n"
       ]
      }
     ],
     "prompt_number": 3
    },
    {
     "cell_type": "markdown",
     "metadata": {},
     "source": [
      "Question 2\n",
      "Consider the integral\n",
      "E(x)=\u222bx0e\u2212t2dt\n",
      "This is the error function, commonly seen in probability and statistics. There is no known way to perform this particular integral analytically, although the integrand can be expanded in a Taylor series and terms computed to arbitrary order. For most applications, numerical approaches are the only way forward.\n",
      "(a) Use scipy.integrate.cumtrapz to calculate E(x) for values of x from 0 to 3 in steps of 0.1. Print the result."
     ]
    },
    {
     "cell_type": "code",
     "collapsed": false,
     "input": [
      "import scipy.integrate as integrate\n",
      "from scipy.integrate import cumtrapz\n",
      "import matplotlib.pyplot as plt\n",
      "\n",
      "func = lambda x: (np.e)**(-(x**2))\n",
      "x = np.arange(0,3,.1)\n",
      "y = [func(b) for b in x]\n",
      "print integrate.cumtrapz(y,x,0.1,-1,0)"
     ],
     "language": "python",
     "metadata": {},
     "outputs": [
      {
       "output_type": "stream",
       "stream": "stdout",
       "text": [
        "[ 0.          0.09950249  0.19704446  0.29078049  0.37908424  0.46063146\n",
        "  0.53445532  0.59997046  0.6569664   0.70557392  0.7462108   0.77951463\n",
        "  0.80627088  0.82734325  0.84361215  0.85592503  0.86506023  0.87170427\n",
        "  0.87644128  0.87975207  0.88202044  0.88354398  0.88454709  0.88519453\n",
        "  0.88560418  0.88585826  0.88601274  0.88610482  0.88615862  0.88618943]\n"
       ]
      }
     ],
     "prompt_number": 4
    },
    {
     "cell_type": "markdown",
     "metadata": {},
     "source": [
      "(b) Plot the integrand as a function of t and E(x) as a function of x (both ranging from 0 to 3) on the same graph."
     ]
    },
    {
     "cell_type": "code",
     "collapsed": false,
     "input": [
      "x1 = np.arange(0,3,.1)\n",
      "y1 = integrate.cumtrapz(y,x,0.1,-1,0)\n",
      "plt.plot(x,y,color =\"red\", linewidth = 1.0, linestyle = \"-\", label = \"Integrand vs t\")\n",
      "plt.plot(x1,y1,color = \"green\",linewidth = 1.0, linestyle = \"-\", label = \"E(x) vs x\")\n",
      "plt.legend(loc = \"center right\")\n",
      "plt.grid()\n",
      "plt.show()"
     ],
     "language": "python",
     "metadata": {},
     "outputs": [
      {
       "metadata": {},
       "output_type": "display_data",
       "png": "[encoded data removed]",
       "text": [
        "<matplotlib.figure.Figure at 0x10631f510>"
       ]
      }
     ],
     "prompt_number": 5
    },
    {
     "cell_type": "markdown",
     "metadata": {},
     "source": [
      "Question 3\n",
      "Consider a particle in a one-dimensional box of width L. The probability of finding the particle between a and b is given by\n",
      "P(a,b)=\u222bba|\u03c8(x)|2dx\n",
      "where\n",
      "\u03c8(x)=2L\u203e\u203e\u203e\u221asin(n\u03c0xL)\n",
      "is the wavefunction.\n",
      "(a) What is the probability of finding the particle between L/3 and L/2 for the ground state (n = 1) and for the first excited state (n = 2)? Let L = 1. Perform the integral using both scipy.integrate.trapz and scipy.integrate.quad with an accuracy of 6 sig figs. How many slices did you need to use for scipy.integrate.trapz?"
     ]
    },
    {
     "cell_type": "code",
     "collapsed": false,
     "input": [
      "#needed to use 500 slices in order to get scipy.integrate.trapz to an accuracy\n",
      "from scipy.integrate import quad,trapz\n",
      "L = 1.\n",
      "a = L/3\n",
      "b = L/2\n",
      "func = lambda x: np.abs((np.sqrt(2/L)*np.sin(np.pi*x/L)))**2\n",
      "func2 = lambda x: np.abs((np.sqrt(2/L)*np.sin(2*np.pi*x/L)))**2\n",
      "func3= lambda x: np.abs((np.sqrt(2/L)*np.sin(3*np.pi*x/L)))**2\n",
      "print \"Quad integration Probability for finding particle between L/3 and L/2 for n = 1, and maximum error\"\n",
      "print integrate.quad(func,a,b)\n",
      "print \"Quad integration Probability for finding particle between L/3 and L/2 for n = 2, and maximum error\"\n",
      "print integrate.quad(func2,a,b)\n",
      "x = np.linspace(a,b,500)\n",
      "y = [func(b) for b in x]\n",
      "y2 = [func2(b) for b in x]\n",
      "print \"Trapezoidal integration Probability for finding particle between L/3 and L/2 for n = 1\"\n",
      "print integrate.trapz(y,x)\n",
      "print \"Trapezoidal integration Probability for finding particle between L/3 and L/2 for n = 2\"\n",
      "print integrate.trapz(y2,x)"
     ],
     "language": "python",
     "metadata": {},
     "outputs": [
      {
       "output_type": "stream",
       "stream": "stdout",
       "text": [
        "Quad integration Probability for finding particle between L/3 and L/2 for n = 1, and maximum error\n",
        "(0.3044988905221147, 3.380616792304666e-15)\n",
        "Quad integration Probability for finding particle between L/3 and L/2 for n = 2, and maximum error\n",
        "(0.09775055473894276, 1.0852491654105595e-15)\n",
        "Trapezoidal integration Probability for finding particle between L/3 and L/2 for n = 1"
       ]
      },
      {
       "output_type": "stream",
       "stream": "stdout",
       "text": [
        "\n",
        "0.304498839937\n",
        "Trapezoidal integration Probability for finding particle between L/3 and L/2 for n = 2\n",
        "0.0977506559099\n"
       ]
      }
     ],
     "prompt_number": 6
    },
    {
     "cell_type": "raw",
     "metadata": {},
     "source": [
      "(b) Make a plot of |\u03c8(x)|2 vs. x for the first two excited states with L=1."
     ]
    },
    {
     "cell_type": "code",
     "collapsed": false,
     "input": [
      "x = np.linspace(0,100,100)\n",
      "plt.plot(x,func2(x),label = \"First Excited State\")\n",
      "plt.plot(x,func3(x),label = \"Second Excited State\")\n",
      "plt.ylabel(\"|Psi(x)|^2\")\n",
      "plt.xlabel(\"x\")\n",
      "plt.title(\"|Psi(x)^2| vs. x\")\n",
      "plt.ylim(-.2,3.)\n",
      "plt.grid()\n",
      "plt.legend()\n",
      "plt.show()"
     ],
     "language": "python",
     "metadata": {},
     "outputs": [
      {
       "metadata": {},
       "output_type": "display_data",
       "png": "[encoded data removed]",
       "text": [
        "<matplotlib.figure.Figure at 0x1068b9f90>"
       ]
      }
     ],
     "prompt_number": 7
    },
    {
     "cell_type": "raw",
     "metadata": {},
     "source": [
      "Question 4\n",
      "Integrals of mass density lead to three interesting quantities:\n",
      "M=\u222b\u03c1dVr\u20d7 cm=(xcm,ycm,zcm)=1M\u222br\u20d7 \u03c1dVIcm=\u222b(r\u2212rcm)2\u03c1dV\n",
      "where M is the total mass (a scalar), r\u20d7 cm is the center of mass position (a vector of 3 components), Icm are the moments of inertia about the center of mass (diagonals of a 3x3 matrix), and the mass density, \u03c1, may be a function of the spatial variables.\n",
      "Consider a rectangular box: length (in x) = 0.2 m, width (in y) = 0.2 m, and height (in z) = 1.0 m centered on the origin, (0,0,0) and with a mass density, \u03c1(x,y,z) = (100 kg/m4)(y + 0.1) + (100 kg/m5)z2 for x, y, and z in meters.\n",
      "\n",
      "(a) Use numerical integration to find M, r\u20d7 cm, and Icm. Note that you need M to compute r\u20d7 cm and r\u20d7 cm to compute Icm. The moments of inertia Icm are Ixx, Iyy, and Izz, where e.g. Ixx=\u222b((y\u2212ycm)2+(z\u2212zcm)2)\u03c1dV, etc."
     ]
    },
    {
     "cell_type": "code",
     "collapsed": false,
     "input": [
      "#The mass of the Rectangle is computed below\n",
      "from scipy.integrate import tplquad,quad\n",
      "density = lambda z,y,x: (100.*(y+0.1) + 100.*z**2)#*x*y*z\n",
      "xmin = -.1\n",
      "xmax = .1\n",
      "ymin = lambda x:-0.1\n",
      "ymax = lambda x:0.1\n",
      "zmin = lambda x,y:-0.5\n",
      "zmax = lambda x,y:0.5\n",
      "mass, err = tplquad(density,xmin,xmax,ymin,ymax,zmin,zmax)\n",
      "print \"The Mass of the Rectangle is =\", mass"
     ],
     "language": "python",
     "metadata": {},
     "outputs": [
      {
       "output_type": "stream",
       "stream": "stdout",
       "text": [
        "The Mass of the Rectangle is = 0.733333333333\n"
       ]
      }
     ],
     "prompt_number": 95
    },
    {
     "cell_type": "code",
     "collapsed": false,
     "input": [
      "#xcm is computed below\n",
      "integrand = lambda z,y,x: density(z,y,x)*x#*x*y*z\n",
      "xcm, err = tplquad(integrand,xmin,xmax,ymin,ymax,zmin,zmax)\n",
      "xcmr = xcm / mass\n",
      "print \"The X Center of mass of the box is =\", xcmr\n",
      "#ycm is computed below\n",
      "integrand = lambda z,y,x: density(z,y,x)*y#*x*y*z\n",
      "ycm, err = tplquad(integrand,xmin,xmax,ymin,ymax,zmin,zmax)\n",
      "ycmr = ycm / mass\n",
      "print \"The Y center of mass of the box is =\", ycmr\n",
      "#zcm is computed below\n",
      "integrand = lambda z,y,x: density(z,y,x)*z#*x*y*z\n",
      "zcm, err = tplquad(integrand,xmin,xmax,ymin,ymax,zmin,zmax)\n",
      "zcmr = zcm/mass\n",
      "print \"The Z center of mass of the box is =\", zcmr\n",
      "Rcm = [xcmr,ycmr,zcmr]\n",
      "print \"The center of mass of the box is = \", Rcm"
     ],
     "language": "python",
     "metadata": {},
     "outputs": [
      {
       "output_type": "stream",
       "stream": "stdout",
       "text": [
        "The X Center of mass of the box is = 0.0\n",
        "The Y center of mass of the box is = 0.0181818181818\n",
        "The Z center of mass of the box is = 0.0\n",
        "The center of mass of the box is =  [0.0, 0.018181818181818184, 0.0]\n"
       ]
      }
     ],
     "prompt_number": 93
    },
    {
     "cell_type": "code",
     "collapsed": false,
     "input": [
      "#ICM is computed below\n",
      "#Ixx is computed below\n",
      "integrand = lambda z,y,x: ((y-ycmr)**2+(z-zcmr)**2)*density(z,y,x)\n",
      "Ixx, err = tplquad(integrand,xmin,xmax,ymin,ymax,zmin,zmax)\n",
      "print \"X moment of intertia =\",Ixx\n",
      "#Iyy is computed below\n",
      "integrand = lambda z,y,x: ((x-xcmr)**2+(z-zcmr)**2)*density(z,y,x)\n",
      "Iyy, err = tplquad(integrand,xmin,xmax,ymin,ymax,zmin,zmax)\n",
      "print \"Y moment of intertia =\",Iyy\n",
      "#Izz is computed below\n",
      "integrand = lambda z,y,x: ((y-ycmr)**2+(x-xcmr)**2)*density(z,y,x)\n",
      "Izz, err = tplquad(integrand,xmin,xmax,ymin,ymax,zmin,zmax)\n",
      "print \"Z moment of intertia =\",Izz\n",
      "Icm = [Ixx,Iyy,Izz]\n",
      "print \"The moments of inertia of the box are =\", Icm"
     ],
     "language": "python",
     "metadata": {},
     "outputs": [
      {
       "output_type": "stream",
       "stream": "stdout",
       "text": [
        "X moment of intertia = 0.0855353535354\n",
        "Y moment of intertia = 0.0857777777778\n",
        "Z moment of intertia = 0.00464646464646\n",
        "The moments of inertia of the box are = [0.08553535353535353, 0.08577777777777779, 0.004646464646464648]\n"
       ]
      }
     ],
     "prompt_number": 94
    },
    {
     "cell_type": "raw",
     "metadata": {},
     "source": [
      "(b) The mass, center of mass, and moments of inertia can be easily computed analytically for a rectangular box of uniform density. (Compute them yourself or look them up). Verify your algorithm from part (a) works by having it compute the result for this test case. How accurate (how many sig figs?) is the numerical result?"
     ]
    },
    {
     "cell_type": "code",
     "collapsed": false,
     "input": [
      "# Analytical rectangular box of uniform density(1kg/m**3) and dimensions 1,1,1\n",
      "#has mass of 1kg\n",
      "#center of mass of [0,0,0]\n",
      "#and moment of inertia of[1/6,1/6,1/6]\n",
      "#using the above method these values are calculated below\n",
      "print 1./6"
     ],
     "language": "python",
     "metadata": {},
     "outputs": [
      {
       "output_type": "stream",
       "stream": "stdout",
       "text": [
        "0.166666666667\n"
       ]
      }
     ],
     "prompt_number": 101
    },
    {
     "cell_type": "code",
     "collapsed": false,
     "input": [
      "#The mass of the Rectangle is computed below\n",
      "from scipy.integrate import tplquad,quad\n",
      "density = lambda z,y,x: 1#*x*y*z\n",
      "xmin = -.5\n",
      "xmax = .5\n",
      "ymin = lambda x:-0.5\n",
      "ymax = lambda x:0.5\n",
      "zmin = lambda x,y:-0.5\n",
      "zmax = lambda x,y:0.5\n",
      "mass, err = tplquad(density,xmin,xmax,ymin,ymax,zmin,zmax)\n",
      "print \"The Mass of the Rectangle is =\", mass"
     ],
     "language": "python",
     "metadata": {},
     "outputs": [
      {
       "output_type": "stream",
       "stream": "stdout",
       "text": [
        "The Mass of the Rectangle is = 1.0\n"
       ]
      }
     ],
     "prompt_number": 97
    },
    {
     "cell_type": "code",
     "collapsed": false,
     "input": [
      "#Rcm is computed below\n",
      "#xcm is computed below\n",
      "integrand = lambda z,y,x: density(z,y,x)*x#*x*y*z\n",
      "xcm, err = tplquad(integrand,xmin,xmax,ymin,ymax,zmin,zmax)\n",
      "xcmr = xcm / mass\n",
      "print \"The X Center of mass of the box is =\", xcmr\n",
      "#ycm is computed below\n",
      "integrand = lambda z,y,x: density(z,y,x)*y#*x*y*z\n",
      "ycm, err = tplquad(integrand,xmin,xmax,ymin,ymax,zmin,zmax)\n",
      "ycmr = ycm / mass\n",
      "print \"The Y center of mass of the box is =\", ycmr\n",
      "#zcm is computed below\n",
      "integrand = lambda z,y,x: density(z,y,x)*z#*x*y*z\n",
      "zcm, err = tplquad(integrand,xmin,xmax,ymin,ymax,zmin,zmax)\n",
      "zcmr = zcm/mass\n",
      "print \"The Z center of mass of the box is =\", zcmr\n",
      "Rcm = [xcmr,ycmr,zcmr]\n",
      "print \"The center of mass of the box is = \", Rcm"
     ],
     "language": "python",
     "metadata": {},
     "outputs": [
      {
       "output_type": "stream",
       "stream": "stdout",
       "text": [
        "The X Center of mass of the box is = 0.0\n",
        "The Y center of mass of the box is = 0.0\n",
        "The Z center of mass of the box is = 0.0\n",
        "The center of mass of the box is =  [0.0, 0.0, 0.0]\n"
       ]
      }
     ],
     "prompt_number": 99
    },
    {
     "cell_type": "code",
     "collapsed": false,
     "input": [
      "#ICM is computed below\n",
      "#Ixx is computed below\n",
      "integrand = lambda z,y,x: ((y-ycmr)**2+(z-zcmr)**2)*density(z,y,x)\n",
      "Ixx, err = tplquad(integrand,xmin,xmax,ymin,ymax,zmin,zmax)\n",
      "print \"X moment of intertia =\",Ixx\n",
      "#Iyy is computed below\n",
      "integrand = lambda z,y,x: ((x-xcmr)**2+(z-zcmr)**2)*density(z,y,x)\n",
      "Iyy, err = tplquad(integrand,xmin,xmax,ymin,ymax,zmin,zmax)\n",
      "print \"Y moment of intertia =\",Iyy\n",
      "#Izz is computed below\n",
      "integrand = lambda z,y,x: ((y-ycmr)**2+(x-xcmr)**2)*density(z,y,x)\n",
      "Izz, err = tplquad(integrand,xmin,xmax,ymin,ymax,zmin,zmax)\n",
      "print \"Z moment of intertia =\",Izz\n",
      "Icm = [Ixx,Iyy,Izz]\n",
      "print \"The moments of inertia of the box are =\", Icm"
     ],
     "language": "python",
     "metadata": {},
     "outputs": [
      {
       "output_type": "stream",
       "stream": "stdout",
       "text": [
        "X moment of intertia = 0.166666666667\n",
        "Y moment of intertia = 0.166666666667\n",
        "Z moment of intertia = 0.166666666667\n",
        "The moments of inertia of the box are = [0.16666666666666669, 0.16666666666666666, 0.16666666666666666]\n"
       ]
      }
     ],
     "prompt_number": 102
    },
    {
     "cell_type": "code",
     "collapsed": false,
     "input": [
      "#The values matched as expected"
     ],
     "language": "python",
     "metadata": {},
     "outputs": [],
     "prompt_number": 106
    },
    {
     "cell_type": "raw",
     "metadata": {},
     "source": [
      "(c) Finally, change the density function to something of your choosing (different from that used in parts (a) and (b)) and recompute M, r\u20d7 cm and Icm for that case."
     ]
    },
    {
     "cell_type": "code",
     "collapsed": false,
     "input": [
      "#The mass of the Rectangle is computed below\n",
      "from scipy.integrate import tplquad,quad\n",
      "density = lambda z,y,x: (100.*(y+0.1) + 100.*z**2 + x**2)\n",
      "#*x*y*z\n",
      "xmin = -.5\n",
      "xmax = .5\n",
      "ymin = lambda x:-0.5\n",
      "ymax = lambda x:0.5\n",
      "zmin = lambda x,y:-0.5\n",
      "zmax = lambda x,y:0.5\n",
      "mass, err = tplquad(density,xmin,xmax,ymin,ymax,zmin,zmax)\n",
      "print \"The Mass of the Rectangle is =\", mass"
     ],
     "language": "python",
     "metadata": {},
     "outputs": [
      {
       "output_type": "stream",
       "stream": "stdout",
       "text": [
        "The Mass of the Rectangle is = 18.4166666667\n"
       ]
      }
     ],
     "prompt_number": 112
    },
    {
     "cell_type": "code",
     "collapsed": false,
     "input": [
      "#Rcm is computed below\n",
      "#xcm is computed below\n",
      "integrand = lambda z,y,x: density(z,y,x)*x#*x*y*z\n",
      "xcm, err = tplquad(integrand,xmin,xmax,ymin,ymax,zmin,zmax)\n",
      "xcmr = xcm / mass\n",
      "print \"The X Center of mass of the box is =\", xcmr\n",
      "#ycm is computed below\n",
      "integrand = lambda z,y,x: density(z,y,x)*y#*x*y*z\n",
      "ycm, err = tplquad(integrand,xmin,xmax,ymin,ymax,zmin,zmax)\n",
      "ycmr = ycm / mass\n",
      "print \"The Y center of mass of the box is =\", ycmr\n",
      "#zcm is computed below\n",
      "integrand = lambda z,y,x: density(z,y,x)*z#*x*y*z\n",
      "zcm, err = tplquad(integrand,xmin,xmax,ymin,ymax,zmin,zmax)\n",
      "zcmr = zcm/mass\n",
      "print \"The Z center of mass of the box is =\", zcmr\n",
      "Rcm = [xcmr,ycmr,zcmr]\n",
      "print \"The center of mass of the box is = \", Rcm"
     ],
     "language": "python",
     "metadata": {},
     "outputs": [
      {
       "output_type": "stream",
       "stream": "stdout",
       "text": [
        "The X Center of mass of the box is = 0.0\n",
        "The Y center of mass of the box is = 0.452488687783\n",
        "The Z center of mass of the box is = 0.0\n",
        "The center of mass of the box is =  [0.0, 0.45248868778280543, 0.0]\n"
       ]
      }
     ],
     "prompt_number": 113
    },
    {
     "cell_type": "code",
     "collapsed": false,
     "input": [
      "#ICM is computed below\n",
      "#Ixx is computed below\n",
      "integrand = lambda z,y,x: ((y-ycmr)**2+(z-zcmr)**2)*density(z,y,x)\n",
      "Ixx, err = tplquad(integrand,xmin,xmax,ymin,ymax,zmin,zmax)\n",
      "print \"X moment of intertia =\",Ixx\n",
      "#Iyy is computed below\n",
      "integrand = lambda z,y,x: ((x-xcmr)**2+(z-zcmr)**2)*density(z,y,x)\n",
      "Iyy, err = tplquad(integrand,xmin,xmax,ymin,ymax,zmin,zmax)\n",
      "print \"Y moment of intertia =\",Iyy\n",
      "#Izz is computed below\n",
      "integrand = lambda z,y,x: ((y-ycmr)**2+(x-xcmr)**2)*density(z,y,x)\n",
      "Izz, err = tplquad(integrand,xmin,xmax,ymin,ymax,zmin,zmax)\n",
      "print \"Z moment of intertia =\",Izz\n",
      "Icm = [Ixx,Iyy,Izz]\n",
      "print \"The moments of inertia of the box are =\", Icm"
     ],
     "language": "python",
     "metadata": {},
     "outputs": [
      {
       "output_type": "stream",
       "stream": "stdout",
       "text": [
        "X moment of intertia = -0.145739064857\n",
        "Y moment of intertia = 3.63055555556\n",
        "Z moment of intertia = -0.695739064857\n",
        "The moments of inertia of the box are = [-0.14573906485671168, 3.630555555555556, -0.6957390648567116]\n"
       ]
      }
     ],
     "prompt_number": 114
    }
   ],
   "metadata": {}
  }
 ]
}