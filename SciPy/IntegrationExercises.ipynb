{
 "metadata": {
  "name": "",
  "signature": "sha256:9c9b99426aa8905b12a91a3731960b1b4dd56cfc723a081c75df4b476d01b8b8"
 },
 "nbformat": 3,
 "nbformat_minor": 0,
 "worksheets": [
  {
   "cells": [
    {
     "cell_type": "heading",
     "level": 1,
     "metadata": {},
     "source": [
      "Integration Exercises"
     ]
    },
    {
     "cell_type": "markdown",
     "metadata": {},
     "source": [
      "Question 1\n",
      "(a) Write two functions trapz(func,a,b,N) and simps(func,a,b,N) to compute the integral of the function func over the variable x using the trapezoidal rule and Simpson's rule to a file called Integrators.py. Do not use the scipy.integrate built-in functions. Include docstrings with each function that describe what they do. Then import the module and use the functions to answer the following questions. To avoid namespace conflicts, import your module as myint and then call the functions from that namespace. i.e.\n",
      "    import integrators as myint\n",
      "    #...your code...here\n",
      "    I = myint.trapz(func,a,b,N)\n",
      "Also, be sure that you import any needed modules inside your Integrators.py file."
     ]
    },
    {
     "cell_type": "code",
     "collapsed": false,
     "input": [
      "%pylab inline\n",
      "import Integrators as myint\n",
      "import numpy as np"
     ],
     "language": "python",
     "metadata": {},
     "outputs": [
      {
       "output_type": "stream",
       "stream": "stdout",
       "text": [
        "Populating the interactive namespace from numpy and matplotlib\n"
       ]
      }
     ],
     "prompt_number": 1
    },
    {
     "cell_type": "code",
     "collapsed": false,
     "input": [
      "%%file Integrators.py\n",
      "\n",
      "import numpy as np\n",
      "\n",
      "def trapz(func,a,b,N):\n",
      "    \"Performs the trapezoidal integral of func through a and b with a certain number of trapezoids(accuracy, higher the N the more accurate) N\"\n",
      "    h = (b-a)/N\n",
      "    k = np.arange(1,N)\n",
      "    I = h*(0.5*func(a) + 0.5*func(b) + func(a+k*h).sum())\n",
      "    return I\n",
      "\n",
      "def simps(func,a,b,N):\n",
      "    \"Performs the Simpson's integral of func through a and b with a certain number of divisions(accuracy, higher the N the more accurate) N\"\n",
      "    h = (b-a)/N\n",
      "    k1 = np.arange(1,N/2+1)\n",
      "    k2 = np.arange(1,N/2)\n",
      "    I = (1./3.)*h*(func(a) + func(b) + 4.*func(a+(2*k1-1)*h).sum() + 2.*func(a+2*k2*h).sum())\n",
      "    return I\n",
      "\n",
      "def pe(calculated,actual):\n",
      "    \"Returns the percent error given the calculated value and the actual value\"\n",
      "    return (actual-calculated)/actual*100."
     ],
     "language": "python",
     "metadata": {},
     "outputs": [
      {
       "output_type": "stream",
       "stream": "stdout",
       "text": [
        "Overwriting Integrators.py\n"
       ]
      }
     ],
     "prompt_number": 2
    },
    {
     "cell_type": "markdown",
     "metadata": {},
     "source": [
      "\n",
      "(b) Use your trapz and simps functions from part (a) to calculate the integral of x4\u22122x+1 from x = 0 to x = 2 with N = 10, N = 100, and N = 1000. Then compare your result to the known correct value of 4.4. What is the percent error in each case?"
     ]
    },
    {
     "cell_type": "code",
     "collapsed": false,
     "input": [
      "func = lambda x: x**4 - 2*x + 1\n",
      "xmin = 0.\n",
      "xmax = 2.\n",
      "N1 = 10\n",
      "N2 = 100\n",
      "N3 = 1000\n",
      "print \"The trapezoidal integral of function with N = 10,100,1000,and its percent error\"\n",
      "x1 = myint.trapz(func,xmin,xmax,N1)\n",
      "y1 = myint.trapz(func,xmin,xmax,N2)\n",
      "z1 = myint.trapz(func,xmin,xmax,N3)\n",
      "print x1, myint.pe(x1,4.4),\"%\"\n",
      "print y1, myint.pe(y1,4.4),\"%\"\n",
      "print z1, myint.pe(z1,4.4),\"%\"\n",
      "print \"The Simpson's integral of function with N = 10,100,1000\"\n",
      "x2 = myint.simps(func,xmin,xmax,N1)\n",
      "y2 = myint.simps(func,xmin,xmax,N2)\n",
      "z2 = myint.simps(func,xmin,xmax,N3)\n",
      "print x2, myint.pe(x2,4.4),\"%\"\n",
      "print y2, myint.pe(y2,4.4),\"%\"\n",
      "print z2, myint.pe(z2,4.4),\"%\""
     ],
     "language": "python",
     "metadata": {},
     "outputs": [
      {
       "output_type": "stream",
       "stream": "stdout",
       "text": [
        "The trapezoidal integral of function with N = 10,100,1000,and its percent error\n",
        "4.50656 -2.42181818182 %\n",
        "4.401066656 -0.0242421818182 %\n",
        "4.40001066667 -0.000242424218175 %\n",
        "The Simpson's integral of function with N = 10,100,1000\n",
        "4.40042666667 -0.00969696969697 %\n",
        "4.40000004267 -9.69696969187e-07 %\n",
        "4.4 -9.69729347327e-11 %\n"
       ]
      }
     ],
     "prompt_number": 6
    },
    {
     "cell_type": "markdown",
     "metadata": {},
     "source": [
      "Question 2\n",
      "Consider the integral\n",
      "E(x)=\u222bx0e\u2212t2dt\n",
      "This is the error function, commonly seen in probability and statistics. There is no known way to perform this particular integral analytically, although the integrand can be expanded in a Taylor series and terms computed to arbitrary order. For most applications, numerical approaches are the only way forward.\n",
      "(a) Use scipy.integrate.cumtrapz to calculate E(x) for values of x from 0 to 3 in steps of 0.1. Print the result."
     ]
    },
    {
     "cell_type": "code",
     "collapsed": false,
     "input": [
      "import scipy.integrate as integrate\n",
      "from scipy.integrate import cumtrapz\n",
      "import matplotlib.pyplot as plt\n",
      "\n",
      "func = lambda x: (np.e)**(-(x**2))\n",
      "x = np.arange(0,3,.1)\n",
      "y = [func(b) for b in x]\n",
      "print integrate.cumtrapz(y,x,0.1,-1,0)"
     ],
     "language": "python",
     "metadata": {},
     "outputs": [
      {
       "output_type": "stream",
       "stream": "stdout",
       "text": [
        "[ 0.          0.09950249  0.19704446  0.29078049  0.37908424  0.46063146\n",
        "  0.53445532  0.59997046  0.6569664   0.70557392  0.7462108   0.77951463\n",
        "  0.80627088  0.82734325  0.84361215  0.85592503  0.86506023  0.87170427\n",
        "  0.87644128  0.87975207  0.88202044  0.88354398  0.88454709  0.88519453\n",
        "  0.88560418  0.88585826  0.88601274  0.88610482  0.88615862  0.88618943]\n"
       ]
      }
     ],
     "prompt_number": 58
    },
    {
     "cell_type": "markdown",
     "metadata": {},
     "source": [
      "(b) Plot the integrand as a function of t and E(x) as a function of x (both ranging from 0 to 3) on the same graph."
     ]
    },
    {
     "cell_type": "code",
     "collapsed": false,
     "input": [
      "x1 = np.arange(0,3,.1)\n",
      "y1 = integrate.cumtrapz(y,x,0.1,-1,0)\n",
      "plt.plot(x,y,color =\"red\", linewidth = 1.0, linestyle = \"-\", label = \"Integrand vs t\")\n",
      "plt.plot(x1,y1,color = \"green\",linewidth = 1.0, linestyle = \"-\", label = \"E(x) vs x\")\n",
      "plt.legend(loc = \"center right\")\n",
      "plt.grid()\n",
      "plt.show()"
     ],
     "language": "python",
     "metadata": {},
     "outputs": [
      {
       "metadata": {},
       "output_type": "display_data",
       "png": "[encoded data removed]",
       "text": [
        "<matplotlib.figure.Figure at 0x10645a650>"
       ]
      }
     ],
     "prompt_number": 60
    },
    {
     "cell_type": "code",
     "collapsed": false,
     "input": [
      "help(trapz)"
     ],
     "language": "python",
     "metadata": {},
     "outputs": [
      {
       "output_type": "stream",
       "stream": "stdout",
       "text": [
        "Help on function trapz in module numpy.lib.function_base:\n",
        "\n",
        "trapz(y, x=None, dx=1.0, axis=-1)\n",
        "    Integrate along the given axis using the composite trapezoidal rule.\n",
        "    \n",
        "    Integrate `y` (`x`) along given axis.\n",
        "    \n",
        "    Parameters\n",
        "    ----------\n",
        "    y : array_like\n",
        "        Input array to integrate.\n",
        "    x : array_like, optional\n",
        "        If `x` is None, then spacing between all `y` elements is `dx`.\n",
        "    dx : scalar, optional\n",
        "        If `x` is None, spacing given by `dx` is assumed. Default is 1.\n",
        "    axis : int, optional\n",
        "        Specify the axis.\n",
        "    \n",
        "    Returns\n",
        "    -------\n",
        "    trapz : float\n",
        "        Definite integral as approximated by trapezoidal rule.\n",
        "    \n",
        "    See Also\n",
        "    --------\n",
        "    sum, cumsum\n",
        "    \n",
        "    Notes\n",
        "    -----\n",
        "    Image [2]_ illustrates trapezoidal rule -- y-axis locations of points will\n",
        "    be taken from `y` array, by default x-axis distances between points will be\n",
        "    1.0, alternatively they can be provided with `x` array or with `dx` scalar.\n",
        "    Return value will be equal to combined area under the red lines.\n",
        "    \n",
        "    \n",
        "    References\n",
        "    ----------\n",
        "    .. [1] Wikipedia page: http://en.wikipedia.org/wiki/Trapezoidal_rule\n",
        "    \n",
        "    .. [2] Illustration image:\n",
        "           http://en.wikipedia.org/wiki/File:Composite_trapezoidal_rule_illustration.png\n",
        "    \n",
        "    Examples\n",
        "    --------\n",
        "    >>> np.trapz([1,2,3])\n",
        "    4.0\n",
        "    >>> np.trapz([1,2,3], x=[4,6,8])\n",
        "    8.0\n",
        "    >>> np.trapz([1,2,3], dx=2)\n",
        "    8.0\n",
        "    >>> a = np.arange(6).reshape(2, 3)\n",
        "    >>> a\n",
        "    array([[0, 1, 2],\n",
        "           [3, 4, 5]])\n",
        "    >>> np.trapz(a, axis=0)\n",
        "    array([ 1.5,  2.5,  3.5])\n",
        "    >>> np.trapz(a, axis=1)\n",
        "    array([ 2.,  8.])\n",
        "\n"
       ]
      }
     ],
     "prompt_number": 61
    },
    {
     "cell_type": "markdown",
     "metadata": {},
     "source": [
      "Question 3\n",
      "Consider a particle in a one-dimensional box of width L. The probability of finding the particle between a and b is given by\n",
      "P(a,b)=\u222bba|\u03c8(x)|2dx\n",
      "where\n",
      "\u03c8(x)=2L\u203e\u203e\u203e\u221asin(n\u03c0xL)\n",
      "is the wavefunction.\n",
      "(a) What is the probability of finding the particle between L/3 and L/2 for the ground state (n = 1) and for the first excited state (n = 2)? Let L = 1. Perform the integral using both scipy.integrate.trapz and scipy.integrate.quad with an accuracy of 6 sig figs. How many slices did you need to use for scipy.integrate.trapz?"
     ]
    },
    {
     "cell_type": "code",
     "collapsed": false,
     "input": [
      "from scipy.integrate import quad,trapz\n",
      "L = 1.\n",
      "a = L/3\n",
      "b = L/2\n",
      "func = lambda x: (np.sqrt(2/L)*np.sin(np.pi*x/L))**2\n",
      "func2 = lambda x: (np.sqrt(2/L)*np.sin(2*np.pi*x/L))**2\n",
      "print \"Quad integration Probability for finding particle between L/3 and L/2 for n = 1, and maximum error\"\n",
      "print integrate.quad(func,a,b)\n",
      "print \"Quad integration Probability for finding particle between L/3 and L/2 for n = 2, and maximum error\"\n",
      "print integrate.quad(func2,a,b)\n",
      "x = np.linspace(a,b,500)\n",
      "y = [func(b) for b in x]\n",
      "y2 = [func2(b) for b in x]\n",
      "print \"Trapezoidal integration Probability for finding particle between L/3 and L/2 for n = 1\"\n",
      "print integrate.trapz(y,x)\n",
      "print \"Trapezoidal integration Probability for finding particle between L/3 and L/2 for n = 2\"\n",
      "print integrate.trapz(y2,x)"
     ],
     "language": "python",
     "metadata": {},
     "outputs": [
      {
       "output_type": "stream",
       "stream": "stdout",
       "text": [
        "Quad integration Probability for finding particle between L/3 and L/2 for n = 1, and maximum error\n",
        "(0.3044988905221147, 3.380616792304666e-15)\n",
        "Quad integration Probability for finding particle between L/3 and L/2 for n = 2, and maximum error\n",
        "(0.09775055473894276, 1.0852491654105595e-15)\n",
        "Trapezoidal integration Probability for finding particle between L/3 and L/2 for n = 1\n",
        "0.304498839937\n",
        "Trapezoidal integration Probability for finding particle between L/3 and L/2 for n = 2\n",
        "0.0977506559099\n"
       ]
      }
     ],
     "prompt_number": 84
    },
    {
     "cell_type": "code",
     "collapsed": false,
     "input": [],
     "language": "python",
     "metadata": {},
     "outputs": []
    }
   ],
   "metadata": {}
  }
 ]
}