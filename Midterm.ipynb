{
 "metadata": {
  "name": "",
  "signature": "sha256:31eb84512f8793c2b2aa301c20311d9a945ad8f795f1f6d63b89dcffcf78fbdb"
 },
 "nbformat": 3,
 "nbformat_minor": 0,
 "worksheets": [
  {
   "cells": [
    {
     "cell_type": "heading",
     "level": 1,
     "metadata": {},
     "source": [
      "Midterm\n"
     ]
    },
    {
     "cell_type": "heading",
     "level": 3,
     "metadata": {},
     "source": [
      "Question 1"
     ]
    },
    {
     "cell_type": "markdown",
     "metadata": {},
     "source": [
      "\n",
      "In Robert McCloskey\u2019s book Make Way for Ducklings, the names of the ducklings are Jack, Kack, Lack, Mack, Nack, Ouack, Pack, and Quack. This loop outputs these names in order:\n",
      "prefixes = 'JKLMNOPQ' \n",
      "suffix = 'ack'\n",
      "for letter in prefixes: \n",
      "    print letter + suffix\n",
      "The output is:\n",
      "Jack \n",
      "Kack \n",
      "Lack \n",
      "Mack \n",
      "Nack \n",
      "Oack \n",
      "Pack \n",
      "Qack\n",
      "Of course, that\u2019s not quite right because \u201cOuack\u201d and \u201cQuack\u201d are misspelled.\n",
      "Modify the program to fix this error."
     ]
    },
    {
     "cell_type": "code",
     "collapsed": false,
     "input": [
      "prefixes = 'JKLMNOPQ' \n",
      "suffix = 'ack'\n",
      "for letter in prefixes: \n",
      "    if letter == \"Q\" or letter == \"O\":\n",
      "        print letter + \"u\" + suffix\n",
      "    else:\n",
      "        print letter + suffix"
     ],
     "language": "python",
     "metadata": {},
     "outputs": [
      {
       "output_type": "stream",
       "stream": "stdout",
       "text": [
        "Jack\n",
        "Kack\n",
        "Lack\n",
        "Mack\n",
        "Nack\n",
        "Ouack\n",
        "Pack\n",
        "Quack\n"
       ]
      }
     ],
     "prompt_number": 164
    },
    {
     "cell_type": "heading",
     "level": 3,
     "metadata": {},
     "source": [
      "Question 2"
     ]
    },
    {
     "cell_type": "markdown",
     "metadata": {},
     "source": [
      "Use ipythonblocks to create an 8x8 grid with the first initial of your last name embedded in it in a different color. Use slices and/or loops to set the values rather than setting each block by hand. Here is an example:"
     ]
    },
    {
     "cell_type": "code",
     "collapsed": false,
     "input": [
      "from ipythonblocks import BlockGrid\n",
      "grid1 = BlockGrid(8,8, fill = (123,255,230))\n",
      "grid2 = BlockGrid(8,8, fill = (123,255,230))"
     ],
     "language": "python",
     "metadata": {},
     "outputs": [],
     "prompt_number": 198
    },
    {
     "cell_type": "code",
     "collapsed": false,
     "input": [
      "grid1[:,4] = (0,0,0)\n",
      "grid1[7,0:4] = (0,0,0)\n",
      "grid1[0,0:] = (0,0,0)\n",
      "grid1[4:7,0] = (0,0,0)\n",
      "grid2[0:,0] = (0,0,0)\n",
      "grid2[0:,7] = (0,0,0)\n",
      "grid2[3,0:] = (0,0,0)\n",
      "grid1.show()\n",
      "grid2.show()"
     ],
     "language": "python",
     "metadata": {},
     "outputs": [
      {
       "html": [
        "<style type=\"text/css\">table.blockgrid {border: none;} .blockgrid tr {border: none;} .blockgrid td {padding: 0px;} #blocks3550989f-12b9-4703-a207-f391e12d116e td {border: 1px solid white;}</style><table id=\"blocks3550989f-12b9-4703-a207-f391e12d116e\" class=\"blockgrid\"><tbody><tr><td title=\"Index: [0, 0]&#10;Color: (0, 0, 0)\" style=\"width: 20px; height: 20px;background-color: rgb(0, 0, 0);\"></td><td title=\"Index: [0, 1]&#10;Color: (0, 0, 0)\" style=\"width: 20px; height: 20px;background-color: rgb(0, 0, 0);\"></td><td title=\"Index: [0, 2]&#10;Color: (0, 0, 0)\" style=\"width: 20px; height: 20px;background-color: rgb(0, 0, 0);\"></td><td title=\"Index: [0, 3]&#10;Color: (0, 0, 0)\" style=\"width: 20px; height: 20px;background-color: rgb(0, 0, 0);\"></td><td title=\"Index: [0, 4]&#10;Color: (0, 0, 0)\" style=\"width: 20px; height: 20px;background-color: rgb(0, 0, 0);\"></td><td title=\"Index: [0, 5]&#10;Color: (0, 0, 0)\" style=\"width: 20px; height: 20px;background-color: rgb(0, 0, 0);\"></td><td title=\"Index: [0, 6]&#10;Color: (0, 0, 0)\" style=\"width: 20px; height: 20px;background-color: rgb(0, 0, 0);\"></td><td title=\"Index: [0, 7]&#10;Color: (0, 0, 0)\" style=\"width: 20px; height: 20px;background-color: rgb(0, 0, 0);\"></td></tr><tr><td title=\"Index: [1, 0]&#10;Color: (123, 255, 230)\" style=\"width: 20px; height: 20px;background-color: rgb(123, 255, 230);\"></td><td title=\"Index: [1, 1]&#10;Color: (123, 255, 230)\" style=\"width: 20px; height: 20px;background-color: rgb(123, 255, 230);\"></td><td title=\"Index: [1, 2]&#10;Color: (123, 255, 230)\" style=\"width: 20px; height: 20px;background-color: rgb(123, 255, 230);\"></td><td title=\"Index: [1, 3]&#10;Color: (123, 255, 230)\" style=\"width: 20px; height: 20px;background-color: rgb(123, 255, 230);\"></td><td title=\"Index: [1, 4]&#10;Color: (0, 0, 0)\" style=\"width: 20px; height: 20px;background-color: rgb(0, 0, 0);\"></td><td title=\"Index: [1, 5]&#10;Color: (123, 255, 230)\" style=\"width: 20px; height: 20px;background-color: rgb(123, 255, 230);\"></td><td title=\"Index: [1, 6]&#10;Color: (123, 255, 230)\" style=\"width: 20px; height: 20px;background-color: rgb(123, 255, 230);\"></td><td title=\"Index: [1, 7]&#10;Color: (123, 255, 230)\" style=\"width: 20px; height: 20px;background-color: rgb(123, 255, 230);\"></td></tr><tr><td title=\"Index: [2, 0]&#10;Color: (123, 255, 230)\" style=\"width: 20px; height: 20px;background-color: rgb(123, 255, 230);\"></td><td title=\"Index: [2, 1]&#10;Color: (123, 255, 230)\" style=\"width: 20px; height: 20px;background-color: rgb(123, 255, 230);\"></td><td title=\"Index: [2, 2]&#10;Color: (123, 255, 230)\" style=\"width: 20px; height: 20px;background-color: rgb(123, 255, 230);\"></td><td title=\"Index: [2, 3]&#10;Color: (123, 255, 230)\" style=\"width: 20px; height: 20px;background-color: rgb(123, 255, 230);\"></td><td title=\"Index: [2, 4]&#10;Color: (0, 0, 0)\" style=\"width: 20px; height: 20px;background-color: rgb(0, 0, 0);\"></td><td title=\"Index: [2, 5]&#10;Color: (123, 255, 230)\" style=\"width: 20px; height: 20px;background-color: rgb(123, 255, 230);\"></td><td title=\"Index: [2, 6]&#10;Color: (123, 255, 230)\" style=\"width: 20px; height: 20px;background-color: rgb(123, 255, 230);\"></td><td title=\"Index: [2, 7]&#10;Color: (123, 255, 230)\" style=\"width: 20px; height: 20px;background-color: rgb(123, 255, 230);\"></td></tr><tr><td title=\"Index: [3, 0]&#10;Color: (123, 255, 230)\" style=\"width: 20px; height: 20px;background-color: rgb(123, 255, 230);\"></td><td title=\"Index: [3, 1]&#10;Color: (123, 255, 230)\" style=\"width: 20px; height: 20px;background-color: rgb(123, 255, 230);\"></td><td title=\"Index: [3, 2]&#10;Color: (123, 255, 230)\" style=\"width: 20px; height: 20px;background-color: rgb(123, 255, 230);\"></td><td title=\"Index: [3, 3]&#10;Color: (123, 255, 230)\" style=\"width: 20px; height: 20px;background-color: rgb(123, 255, 230);\"></td><td title=\"Index: [3, 4]&#10;Color: (0, 0, 0)\" style=\"width: 20px; height: 20px;background-color: rgb(0, 0, 0);\"></td><td title=\"Index: [3, 5]&#10;Color: (123, 255, 230)\" style=\"width: 20px; height: 20px;background-color: rgb(123, 255, 230);\"></td><td title=\"Index: [3, 6]&#10;Color: (123, 255, 230)\" style=\"width: 20px; height: 20px;background-color: rgb(123, 255, 230);\"></td><td title=\"Index: [3, 7]&#10;Color: (123, 255, 230)\" style=\"width: 20px; height: 20px;background-color: rgb(123, 255, 230);\"></td></tr><tr><td title=\"Index: [4, 0]&#10;Color: (0, 0, 0)\" style=\"width: 20px; height: 20px;background-color: rgb(0, 0, 0);\"></td><td title=\"Index: [4, 1]&#10;Color: (123, 255, 230)\" style=\"width: 20px; height: 20px;background-color: rgb(123, 255, 230);\"></td><td title=\"Index: [4, 2]&#10;Color: (123, 255, 230)\" style=\"width: 20px; height: 20px;background-color: rgb(123, 255, 230);\"></td><td title=\"Index: [4, 3]&#10;Color: (123, 255, 230)\" style=\"width: 20px; height: 20px;background-color: rgb(123, 255, 230);\"></td><td title=\"Index: [4, 4]&#10;Color: (0, 0, 0)\" style=\"width: 20px; height: 20px;background-color: rgb(0, 0, 0);\"></td><td title=\"Index: [4, 5]&#10;Color: (123, 255, 230)\" style=\"width: 20px; height: 20px;background-color: rgb(123, 255, 230);\"></td><td title=\"Index: [4, 6]&#10;Color: (123, 255, 230)\" style=\"width: 20px; height: 20px;background-color: rgb(123, 255, 230);\"></td><td title=\"Index: [4, 7]&#10;Color: (123, 255, 230)\" style=\"width: 20px; height: 20px;background-color: rgb(123, 255, 230);\"></td></tr><tr><td title=\"Index: [5, 0]&#10;Color: (0, 0, 0)\" style=\"width: 20px; height: 20px;background-color: rgb(0, 0, 0);\"></td><td title=\"Index: [5, 1]&#10;Color: (123, 255, 230)\" style=\"width: 20px; height: 20px;background-color: rgb(123, 255, 230);\"></td><td title=\"Index: [5, 2]&#10;Color: (123, 255, 230)\" style=\"width: 20px; height: 20px;background-color: rgb(123, 255, 230);\"></td><td title=\"Index: [5, 3]&#10;Color: (123, 255, 230)\" style=\"width: 20px; height: 20px;background-color: rgb(123, 255, 230);\"></td><td title=\"Index: [5, 4]&#10;Color: (0, 0, 0)\" style=\"width: 20px; height: 20px;background-color: rgb(0, 0, 0);\"></td><td title=\"Index: [5, 5]&#10;Color: (123, 255, 230)\" style=\"width: 20px; height: 20px;background-color: rgb(123, 255, 230);\"></td><td title=\"Index: [5, 6]&#10;Color: (123, 255, 230)\" style=\"width: 20px; height: 20px;background-color: rgb(123, 255, 230);\"></td><td title=\"Index: [5, 7]&#10;Color: (123, 255, 230)\" style=\"width: 20px; height: 20px;background-color: rgb(123, 255, 230);\"></td></tr><tr><td title=\"Index: [6, 0]&#10;Color: (0, 0, 0)\" style=\"width: 20px; height: 20px;background-color: rgb(0, 0, 0);\"></td><td title=\"Index: [6, 1]&#10;Color: (123, 255, 230)\" style=\"width: 20px; height: 20px;background-color: rgb(123, 255, 230);\"></td><td title=\"Index: [6, 2]&#10;Color: (123, 255, 230)\" style=\"width: 20px; height: 20px;background-color: rgb(123, 255, 230);\"></td><td title=\"Index: [6, 3]&#10;Color: (123, 255, 230)\" style=\"width: 20px; height: 20px;background-color: rgb(123, 255, 230);\"></td><td title=\"Index: [6, 4]&#10;Color: (0, 0, 0)\" style=\"width: 20px; height: 20px;background-color: rgb(0, 0, 0);\"></td><td title=\"Index: [6, 5]&#10;Color: (123, 255, 230)\" style=\"width: 20px; height: 20px;background-color: rgb(123, 255, 230);\"></td><td title=\"Index: [6, 6]&#10;Color: (123, 255, 230)\" style=\"width: 20px; height: 20px;background-color: rgb(123, 255, 230);\"></td><td title=\"Index: [6, 7]&#10;Color: (123, 255, 230)\" style=\"width: 20px; height: 20px;background-color: rgb(123, 255, 230);\"></td></tr><tr><td title=\"Index: [7, 0]&#10;Color: (0, 0, 0)\" style=\"width: 20px; height: 20px;background-color: rgb(0, 0, 0);\"></td><td title=\"Index: [7, 1]&#10;Color: (0, 0, 0)\" style=\"width: 20px; height: 20px;background-color: rgb(0, 0, 0);\"></td><td title=\"Index: [7, 2]&#10;Color: (0, 0, 0)\" style=\"width: 20px; height: 20px;background-color: rgb(0, 0, 0);\"></td><td title=\"Index: [7, 3]&#10;Color: (0, 0, 0)\" style=\"width: 20px; height: 20px;background-color: rgb(0, 0, 0);\"></td><td title=\"Index: [7, 4]&#10;Color: (0, 0, 0)\" style=\"width: 20px; height: 20px;background-color: rgb(0, 0, 0);\"></td><td title=\"Index: [7, 5]&#10;Color: (123, 255, 230)\" style=\"width: 20px; height: 20px;background-color: rgb(123, 255, 230);\"></td><td title=\"Index: [7, 6]&#10;Color: (123, 255, 230)\" style=\"width: 20px; height: 20px;background-color: rgb(123, 255, 230);\"></td><td title=\"Index: [7, 7]&#10;Color: (123, 255, 230)\" style=\"width: 20px; height: 20px;background-color: rgb(123, 255, 230);\"></td></tr></tbody></table>"
       ],
       "metadata": {},
       "output_type": "display_data",
       "text": [
        "<IPython.core.display.HTML at 0x10638f4d0>"
       ]
      },
      {
       "html": [
        "<style type=\"text/css\">table.blockgrid {border: none;} .blockgrid tr {border: none;} .blockgrid td {padding: 0px;} #blocks76430054-7b89-4000-b6c3-4d33497e2e40 td {border: 1px solid white;}</style><table id=\"blocks76430054-7b89-4000-b6c3-4d33497e2e40\" class=\"blockgrid\"><tbody><tr><td title=\"Index: [0, 0]&#10;Color: (0, 0, 0)\" style=\"width: 20px; height: 20px;background-color: rgb(0, 0, 0);\"></td><td title=\"Index: [0, 1]&#10;Color: (123, 255, 230)\" style=\"width: 20px; height: 20px;background-color: rgb(123, 255, 230);\"></td><td title=\"Index: [0, 2]&#10;Color: (123, 255, 230)\" style=\"width: 20px; height: 20px;background-color: rgb(123, 255, 230);\"></td><td title=\"Index: [0, 3]&#10;Color: (123, 255, 230)\" style=\"width: 20px; height: 20px;background-color: rgb(123, 255, 230);\"></td><td title=\"Index: [0, 4]&#10;Color: (123, 255, 230)\" style=\"width: 20px; height: 20px;background-color: rgb(123, 255, 230);\"></td><td title=\"Index: [0, 5]&#10;Color: (123, 255, 230)\" style=\"width: 20px; height: 20px;background-color: rgb(123, 255, 230);\"></td><td title=\"Index: [0, 6]&#10;Color: (123, 255, 230)\" style=\"width: 20px; height: 20px;background-color: rgb(123, 255, 230);\"></td><td title=\"Index: [0, 7]&#10;Color: (0, 0, 0)\" style=\"width: 20px; height: 20px;background-color: rgb(0, 0, 0);\"></td></tr><tr><td title=\"Index: [1, 0]&#10;Color: (0, 0, 0)\" style=\"width: 20px; height: 20px;background-color: rgb(0, 0, 0);\"></td><td title=\"Index: [1, 1]&#10;Color: (123, 255, 230)\" style=\"width: 20px; height: 20px;background-color: rgb(123, 255, 230);\"></td><td title=\"Index: [1, 2]&#10;Color: (123, 255, 230)\" style=\"width: 20px; height: 20px;background-color: rgb(123, 255, 230);\"></td><td title=\"Index: [1, 3]&#10;Color: (123, 255, 230)\" style=\"width: 20px; height: 20px;background-color: rgb(123, 255, 230);\"></td><td title=\"Index: [1, 4]&#10;Color: (123, 255, 230)\" style=\"width: 20px; height: 20px;background-color: rgb(123, 255, 230);\"></td><td title=\"Index: [1, 5]&#10;Color: (123, 255, 230)\" style=\"width: 20px; height: 20px;background-color: rgb(123, 255, 230);\"></td><td title=\"Index: [1, 6]&#10;Color: (123, 255, 230)\" style=\"width: 20px; height: 20px;background-color: rgb(123, 255, 230);\"></td><td title=\"Index: [1, 7]&#10;Color: (0, 0, 0)\" style=\"width: 20px; height: 20px;background-color: rgb(0, 0, 0);\"></td></tr><tr><td title=\"Index: [2, 0]&#10;Color: (0, 0, 0)\" style=\"width: 20px; height: 20px;background-color: rgb(0, 0, 0);\"></td><td title=\"Index: [2, 1]&#10;Color: (123, 255, 230)\" style=\"width: 20px; height: 20px;background-color: rgb(123, 255, 230);\"></td><td title=\"Index: [2, 2]&#10;Color: (123, 255, 230)\" style=\"width: 20px; height: 20px;background-color: rgb(123, 255, 230);\"></td><td title=\"Index: [2, 3]&#10;Color: (123, 255, 230)\" style=\"width: 20px; height: 20px;background-color: rgb(123, 255, 230);\"></td><td title=\"Index: [2, 4]&#10;Color: (123, 255, 230)\" style=\"width: 20px; height: 20px;background-color: rgb(123, 255, 230);\"></td><td title=\"Index: [2, 5]&#10;Color: (123, 255, 230)\" style=\"width: 20px; height: 20px;background-color: rgb(123, 255, 230);\"></td><td title=\"Index: [2, 6]&#10;Color: (123, 255, 230)\" style=\"width: 20px; height: 20px;background-color: rgb(123, 255, 230);\"></td><td title=\"Index: [2, 7]&#10;Color: (0, 0, 0)\" style=\"width: 20px; height: 20px;background-color: rgb(0, 0, 0);\"></td></tr><tr><td title=\"Index: [3, 0]&#10;Color: (0, 0, 0)\" style=\"width: 20px; height: 20px;background-color: rgb(0, 0, 0);\"></td><td title=\"Index: [3, 1]&#10;Color: (0, 0, 0)\" style=\"width: 20px; height: 20px;background-color: rgb(0, 0, 0);\"></td><td title=\"Index: [3, 2]&#10;Color: (0, 0, 0)\" style=\"width: 20px; height: 20px;background-color: rgb(0, 0, 0);\"></td><td title=\"Index: [3, 3]&#10;Color: (0, 0, 0)\" style=\"width: 20px; height: 20px;background-color: rgb(0, 0, 0);\"></td><td title=\"Index: [3, 4]&#10;Color: (0, 0, 0)\" style=\"width: 20px; height: 20px;background-color: rgb(0, 0, 0);\"></td><td title=\"Index: [3, 5]&#10;Color: (0, 0, 0)\" style=\"width: 20px; height: 20px;background-color: rgb(0, 0, 0);\"></td><td title=\"Index: [3, 6]&#10;Color: (0, 0, 0)\" style=\"width: 20px; height: 20px;background-color: rgb(0, 0, 0);\"></td><td title=\"Index: [3, 7]&#10;Color: (0, 0, 0)\" style=\"width: 20px; height: 20px;background-color: rgb(0, 0, 0);\"></td></tr><tr><td title=\"Index: [4, 0]&#10;Color: (0, 0, 0)\" style=\"width: 20px; height: 20px;background-color: rgb(0, 0, 0);\"></td><td title=\"Index: [4, 1]&#10;Color: (123, 255, 230)\" style=\"width: 20px; height: 20px;background-color: rgb(123, 255, 230);\"></td><td title=\"Index: [4, 2]&#10;Color: (123, 255, 230)\" style=\"width: 20px; height: 20px;background-color: rgb(123, 255, 230);\"></td><td title=\"Index: [4, 3]&#10;Color: (123, 255, 230)\" style=\"width: 20px; height: 20px;background-color: rgb(123, 255, 230);\"></td><td title=\"Index: [4, 4]&#10;Color: (123, 255, 230)\" style=\"width: 20px; height: 20px;background-color: rgb(123, 255, 230);\"></td><td title=\"Index: [4, 5]&#10;Color: (123, 255, 230)\" style=\"width: 20px; height: 20px;background-color: rgb(123, 255, 230);\"></td><td title=\"Index: [4, 6]&#10;Color: (123, 255, 230)\" style=\"width: 20px; height: 20px;background-color: rgb(123, 255, 230);\"></td><td title=\"Index: [4, 7]&#10;Color: (0, 0, 0)\" style=\"width: 20px; height: 20px;background-color: rgb(0, 0, 0);\"></td></tr><tr><td title=\"Index: [5, 0]&#10;Color: (0, 0, 0)\" style=\"width: 20px; height: 20px;background-color: rgb(0, 0, 0);\"></td><td title=\"Index: [5, 1]&#10;Color: (123, 255, 230)\" style=\"width: 20px; height: 20px;background-color: rgb(123, 255, 230);\"></td><td title=\"Index: [5, 2]&#10;Color: (123, 255, 230)\" style=\"width: 20px; height: 20px;background-color: rgb(123, 255, 230);\"></td><td title=\"Index: [5, 3]&#10;Color: (123, 255, 230)\" style=\"width: 20px; height: 20px;background-color: rgb(123, 255, 230);\"></td><td title=\"Index: [5, 4]&#10;Color: (123, 255, 230)\" style=\"width: 20px; height: 20px;background-color: rgb(123, 255, 230);\"></td><td title=\"Index: [5, 5]&#10;Color: (123, 255, 230)\" style=\"width: 20px; height: 20px;background-color: rgb(123, 255, 230);\"></td><td title=\"Index: [5, 6]&#10;Color: (123, 255, 230)\" style=\"width: 20px; height: 20px;background-color: rgb(123, 255, 230);\"></td><td title=\"Index: [5, 7]&#10;Color: (0, 0, 0)\" style=\"width: 20px; height: 20px;background-color: rgb(0, 0, 0);\"></td></tr><tr><td title=\"Index: [6, 0]&#10;Color: (0, 0, 0)\" style=\"width: 20px; height: 20px;background-color: rgb(0, 0, 0);\"></td><td title=\"Index: [6, 1]&#10;Color: (123, 255, 230)\" style=\"width: 20px; height: 20px;background-color: rgb(123, 255, 230);\"></td><td title=\"Index: [6, 2]&#10;Color: (123, 255, 230)\" style=\"width: 20px; height: 20px;background-color: rgb(123, 255, 230);\"></td><td title=\"Index: [6, 3]&#10;Color: (123, 255, 230)\" style=\"width: 20px; height: 20px;background-color: rgb(123, 255, 230);\"></td><td title=\"Index: [6, 4]&#10;Color: (123, 255, 230)\" style=\"width: 20px; height: 20px;background-color: rgb(123, 255, 230);\"></td><td title=\"Index: [6, 5]&#10;Color: (123, 255, 230)\" style=\"width: 20px; height: 20px;background-color: rgb(123, 255, 230);\"></td><td title=\"Index: [6, 6]&#10;Color: (123, 255, 230)\" style=\"width: 20px; height: 20px;background-color: rgb(123, 255, 230);\"></td><td title=\"Index: [6, 7]&#10;Color: (0, 0, 0)\" style=\"width: 20px; height: 20px;background-color: rgb(0, 0, 0);\"></td></tr><tr><td title=\"Index: [7, 0]&#10;Color: (0, 0, 0)\" style=\"width: 20px; height: 20px;background-color: rgb(0, 0, 0);\"></td><td title=\"Index: [7, 1]&#10;Color: (123, 255, 230)\" style=\"width: 20px; height: 20px;background-color: rgb(123, 255, 230);\"></td><td title=\"Index: [7, 2]&#10;Color: (123, 255, 230)\" style=\"width: 20px; height: 20px;background-color: rgb(123, 255, 230);\"></td><td title=\"Index: [7, 3]&#10;Color: (123, 255, 230)\" style=\"width: 20px; height: 20px;background-color: rgb(123, 255, 230);\"></td><td title=\"Index: [7, 4]&#10;Color: (123, 255, 230)\" style=\"width: 20px; height: 20px;background-color: rgb(123, 255, 230);\"></td><td title=\"Index: [7, 5]&#10;Color: (123, 255, 230)\" style=\"width: 20px; height: 20px;background-color: rgb(123, 255, 230);\"></td><td title=\"Index: [7, 6]&#10;Color: (123, 255, 230)\" style=\"width: 20px; height: 20px;background-color: rgb(123, 255, 230);\"></td><td title=\"Index: [7, 7]&#10;Color: (0, 0, 0)\" style=\"width: 20px; height: 20px;background-color: rgb(0, 0, 0);\"></td></tr></tbody></table>"
       ],
       "metadata": {},
       "output_type": "display_data",
       "text": [
        "<IPython.core.display.HTML at 0x10638f410>"
       ]
      }
     ],
     "prompt_number": 199
    },
    {
     "cell_type": "heading",
     "level": 3,
     "metadata": {},
     "source": [
      "Question 3"
     ]
    },
    {
     "cell_type": "markdown",
     "metadata": {},
     "source": [
      "\"99 Bottles of Beer\" is a traditional song in the United States and Canada. It is popular to sing on long trips, as it has a very repetitive format which is easy to memorize, and can take a long time to sing. The song's simple lyrics are as follows:\n",
      "99 bottles of beer on the wall, 99 bottles of beer.  \n",
      "Take one down, pass it around, 98 bottles of beer on the wall.\n",
      "The same verse is repeated, each time with one fewer bottle. The song is completed when the singer or singers reach zero.\n",
      "Your task here is to write a program capable of generating all the verses of the song."
     ]
    },
    {
     "cell_type": "code",
     "collapsed": false,
     "input": [
      "i=99\n",
      "while i >=1:\n",
      "    #if statements to account for proper grammar(it bugged me looking at \"1 bottles of ...\")\n",
      "    if( i != 1 and i != 2):\n",
      "        print str(i) + \" bottles of beer on the wall, \" + str(i) + \" bottles of beer.\"\n",
      "        print \"Take one down, pass it around, \" + str(i-1) + \" bottles of beer on the wall.\"\n",
      "    elif(i == 2):\n",
      "        print str(i) + \" bottles of beer on the wall, \" + str(i) + \" bottles of beer.\"\n",
      "        print \"Take one down, pass it around, \" + str(i-1) + \" bottle of beer on the wall.\"\n",
      "    else:\n",
      "        print str(i) + \" bottle of beer on the wall, \" + str(i) + \" bottle of beer.\"\n",
      "        print \"Take one down, pass it around, \" + str(i-1) + \" bottles of beer on the wall.\"\n",
      "    i-=1"
     ],
     "language": "python",
     "metadata": {},
     "outputs": [
      {
       "output_type": "stream",
       "stream": "stdout",
       "text": [
        "99 bottles of beer on the wall, 99 bottles of beer.\n",
        "Take one down, pass it around, 98 bottles of beer on the wall.\n",
        "98 bottles of beer on the wall, 98 bottles of beer.\n",
        "Take one down, pass it around, 97 bottles of beer on the wall.\n",
        "97 bottles of beer on the wall, 97 bottles of beer.\n",
        "Take one down, pass it around, 96 bottles of beer on the wall.\n",
        "96 bottles of beer on the wall, 96 bottles of beer.\n",
        "Take one down, pass it around, 95 bottles of beer on the wall.\n",
        "95 bottles of beer on the wall, 95 bottles of beer.\n",
        "Take one down, pass it around, 94 bottles of beer on the wall.\n",
        "94 bottles of beer on the wall, 94 bottles of beer.\n",
        "Take one down, pass it around, 93 bottles of beer on the wall.\n",
        "93 bottles of beer on the wall, 93 bottles of beer.\n",
        "Take one down, pass it around, 92 bottles of beer on the wall.\n",
        "92 bottles of beer on the wall, 92 bottles of beer.\n",
        "Take one down, pass it around, 91 bottles of beer on the wall.\n",
        "91 bottles of beer on the wall, 91 bottles of beer.\n",
        "Take one down, pass it around, 90 bottles of beer on the wall.\n",
        "90 bottles of beer on the wall, 90 bottles of beer.\n",
        "Take one down, pass it around, 89 bottles of beer on the wall.\n",
        "89 bottles of beer on the wall, 89 bottles of beer.\n",
        "Take one down, pass it around, 88 bottles of beer on the wall.\n",
        "88 bottles of beer on the wall, 88 bottles of beer.\n",
        "Take one down, pass it around, 87 bottles of beer on the wall.\n",
        "87 bottles of beer on the wall, 87 bottles of beer.\n",
        "Take one down, pass it around, 86 bottles of beer on the wall.\n",
        "86 bottles of beer on the wall, 86 bottles of beer.\n",
        "Take one down, pass it around, 85 bottles of beer on the wall.\n",
        "85 bottles of beer on the wall, 85 bottles of beer.\n",
        "Take one down, pass it around, 84 bottles of beer on the wall.\n",
        "84 bottles of beer on the wall, 84 bottles of beer.\n",
        "Take one down, pass it around, 83 bottles of beer on the wall.\n",
        "83 bottles of beer on the wall, 83 bottles of beer.\n",
        "Take one down, pass it around, 82 bottles of beer on the wall.\n",
        "82 bottles of beer on the wall, 82 bottles of beer.\n",
        "Take one down, pass it around, 81 bottles of beer on the wall.\n",
        "81 bottles of beer on the wall, 81 bottles of beer.\n",
        "Take one down, pass it around, 80 bottles of beer on the wall.\n",
        "80 bottles of beer on the wall, 80 bottles of beer.\n",
        "Take one down, pass it around, 79 bottles of beer on the wall.\n",
        "79 bottles of beer on the wall, 79 bottles of beer.\n",
        "Take one down, pass it around, 78 bottles of beer on the wall.\n",
        "78 bottles of beer on the wall, 78 bottles of beer.\n",
        "Take one down, pass it around, 77 bottles of beer on the wall.\n",
        "77 bottles of beer on the wall, 77 bottles of beer.\n",
        "Take one down, pass it around, 76 bottles of beer on the wall.\n",
        "76 bottles of beer on the wall, 76 bottles of beer.\n",
        "Take one down, pass it around, 75 bottles of beer on the wall.\n",
        "75 bottles of beer on the wall, 75 bottles of beer.\n",
        "Take one down, pass it around, 74 bottles of beer on the wall.\n",
        "74 bottles of beer on the wall, 74 bottles of beer.\n",
        "Take one down, pass it around, 73 bottles of beer on the wall.\n",
        "73 bottles of beer on the wall, 73 bottles of beer.\n",
        "Take one down, pass it around, 72 bottles of beer on the wall.\n",
        "72 bottles of beer on the wall, 72 bottles of beer.\n",
        "Take one down, pass it around, 71 bottles of beer on the wall.\n",
        "71 bottles of beer on the wall, 71 bottles of beer.\n",
        "Take one down, pass it around, 70 bottles of beer on the wall.\n",
        "70 bottles of beer on the wall, 70 bottles of beer.\n",
        "Take one down, pass it around, 69 bottles of beer on the wall.\n",
        "69 bottles of beer on the wall, 69 bottles of beer.\n",
        "Take one down, pass it around, 68 bottles of beer on the wall.\n",
        "68 bottles of beer on the wall, 68 bottles of beer.\n",
        "Take one down, pass it around, 67 bottles of beer on the wall.\n",
        "67 bottles of beer on the wall, 67 bottles of beer.\n",
        "Take one down, pass it around, 66 bottles of beer on the wall.\n",
        "66 bottles of beer on the wall, 66 bottles of beer.\n",
        "Take one down, pass it around, 65 bottles of beer on the wall.\n",
        "65 bottles of beer on the wall, 65 bottles of beer.\n",
        "Take one down, pass it around, 64 bottles of beer on the wall.\n",
        "64 bottles of beer on the wall, 64 bottles of beer.\n",
        "Take one down, pass it around, 63 bottles of beer on the wall.\n",
        "63 bottles of beer on the wall, 63 bottles of beer.\n",
        "Take one down, pass it around, 62 bottles of beer on the wall.\n",
        "62 bottles of beer on the wall, 62 bottles of beer.\n",
        "Take one down, pass it around, 61 bottles of beer on the wall.\n",
        "61 bottles of beer on the wall, 61 bottles of beer.\n",
        "Take one down, pass it around, 60 bottles of beer on the wall.\n",
        "60 bottles of beer on the wall, 60 bottles of beer.\n",
        "Take one down, pass it around, 59 bottles of beer on the wall.\n",
        "59 bottles of beer on the wall, 59 bottles of beer.\n",
        "Take one down, pass it around, 58 bottles of beer on the wall.\n",
        "58 bottles of beer on the wall, 58 bottles of beer.\n",
        "Take one down, pass it around, 57 bottles of beer on the wall.\n",
        "57 bottles of beer on the wall, 57 bottles of beer.\n",
        "Take one down, pass it around, 56 bottles of beer on the wall.\n",
        "56 bottles of beer on the wall, 56 bottles of beer.\n",
        "Take one down, pass it around, 55 bottles of beer on the wall.\n",
        "55 bottles of beer on the wall, 55 bottles of beer.\n",
        "Take one down, pass it around, 54 bottles of beer on the wall.\n",
        "54 bottles of beer on the wall, 54 bottles of beer.\n",
        "Take one down, pass it around, 53 bottles of beer on the wall.\n",
        "53 bottles of beer on the wall, 53 bottles of beer.\n",
        "Take one down, pass it around, 52 bottles of beer on the wall.\n",
        "52 bottles of beer on the wall, 52 bottles of beer.\n",
        "Take one down, pass it around, 51 bottles of beer on the wall.\n",
        "51 bottles of beer on the wall, 51 bottles of beer.\n",
        "Take one down, pass it around, 50 bottles of beer on the wall.\n",
        "50 bottles of beer on the wall, 50 bottles of beer.\n",
        "Take one down, pass it around, 49 bottles of beer on the wall.\n",
        "49 bottles of beer on the wall, 49 bottles of beer.\n",
        "Take one down, pass it around, 48 bottles of beer on the wall.\n",
        "48 bottles of beer on the wall, 48 bottles of beer.\n",
        "Take one down, pass it around, 47 bottles of beer on the wall.\n",
        "47 bottles of beer on the wall, 47 bottles of beer.\n",
        "Take one down, pass it around, 46 bottles of beer on the wall.\n",
        "46 bottles of beer on the wall, 46 bottles of beer.\n",
        "Take one down, pass it around, 45 bottles of beer on the wall.\n",
        "45 bottles of beer on the wall, 45 bottles of beer.\n",
        "Take one down, pass it around, 44 bottles of beer on the wall.\n",
        "44 bottles of beer on the wall, 44 bottles of beer.\n",
        "Take one down, pass it around, 43 bottles of beer on the wall.\n",
        "43 bottles of beer on the wall, 43 bottles of beer.\n",
        "Take one down, pass it around, 42 bottles of beer on the wall.\n",
        "42 bottles of beer on the wall, 42 bottles of beer.\n",
        "Take one down, pass it around, 41 bottles of beer on the wall.\n",
        "41 bottles of beer on the wall, 41 bottles of beer.\n",
        "Take one down, pass it around, 40 bottles of beer on the wall.\n",
        "40 bottles of beer on the wall, 40 bottles of beer.\n",
        "Take one down, pass it around, 39 bottles of beer on the wall.\n",
        "39 bottles of beer on the wall, 39 bottles of beer.\n",
        "Take one down, pass it around, 38 bottles of beer on the wall.\n",
        "38 bottles of beer on the wall, 38 bottles of beer.\n",
        "Take one down, pass it around, 37 bottles of beer on the wall.\n",
        "37 bottles of beer on the wall, 37 bottles of beer.\n",
        "Take one down, pass it around, 36 bottles of beer on the wall.\n",
        "36 bottles of beer on the wall, 36 bottles of beer.\n",
        "Take one down, pass it around, 35 bottles of beer on the wall.\n",
        "35 bottles of beer on the wall, 35 bottles of beer.\n",
        "Take one down, pass it around, 34 bottles of beer on the wall.\n",
        "34 bottles of beer on the wall, 34 bottles of beer.\n",
        "Take one down, pass it around, 33 bottles of beer on the wall.\n",
        "33 bottles of beer on the wall, 33 bottles of beer.\n",
        "Take one down, pass it around, 32 bottles of beer on the wall.\n",
        "32 bottles of beer on the wall, 32 bottles of beer.\n",
        "Take one down, pass it around, 31 bottles of beer on the wall.\n",
        "31 bottles of beer on the wall, 31 bottles of beer.\n",
        "Take one down, pass it around, 30 bottles of beer on the wall.\n",
        "30 bottles of beer on the wall, 30 bottles of beer.\n",
        "Take one down, pass it around, 29 bottles of beer on the wall.\n",
        "29 bottles of beer on the wall, 29 bottles of beer.\n",
        "Take one down, pass it around, 28 bottles of beer on the wall.\n",
        "28 bottles of beer on the wall, 28 bottles of beer.\n",
        "Take one down, pass it around, 27 bottles of beer on the wall.\n",
        "27 bottles of beer on the wall, 27 bottles of beer.\n",
        "Take one down, pass it around, 26 bottles of beer on the wall.\n",
        "26 bottles of beer on the wall, 26 bottles of beer.\n",
        "Take one down, pass it around, 25 bottles of beer on the wall.\n",
        "25 bottles of beer on the wall, 25 bottles of beer.\n",
        "Take one down, pass it around, 24 bottles of beer on the wall.\n",
        "24 bottles of beer on the wall, 24 bottles of beer.\n",
        "Take one down, pass it around, 23 bottles of beer on the wall.\n",
        "23 bottles of beer on the wall, 23 bottles of beer.\n",
        "Take one down, pass it around, 22 bottles of beer on the wall.\n",
        "22 bottles of beer on the wall, 22 bottles of beer.\n",
        "Take one down, pass it around, 21 bottles of beer on the wall.\n",
        "21 bottles of beer on the wall, 21 bottles of beer.\n",
        "Take one down, pass it around, 20 bottles of beer on the wall.\n",
        "20 bottles of beer on the wall, 20 bottles of beer.\n",
        "Take one down, pass it around, 19 bottles of beer on the wall.\n",
        "19 bottles of beer on the wall, 19 bottles of beer.\n",
        "Take one down, pass it around, 18 bottles of beer on the wall.\n",
        "18 bottles of beer on the wall, 18 bottles of beer.\n",
        "Take one down, pass it around, 17 bottles of beer on the wall.\n",
        "17 bottles of beer on the wall, 17 bottles of beer.\n",
        "Take one down, pass it around, 16 bottles of beer on the wall.\n",
        "16 bottles of beer on the wall, 16 bottles of beer.\n",
        "Take one down, pass it around, 15 bottles of beer on the wall.\n",
        "15 bottles of beer on the wall, 15 bottles of beer.\n",
        "Take one down, pass it around, 14 bottles of beer on the wall.\n",
        "14 bottles of beer on the wall, 14 bottles of beer.\n",
        "Take one down, pass it around, 13 bottles of beer on the wall.\n",
        "13 bottles of beer on the wall, 13 bottles of beer.\n",
        "Take one down, pass it around, 12 bottles of beer on the wall.\n",
        "12 bottles of beer on the wall, 12 bottles of beer.\n",
        "Take one down, pass it around, 11 bottles of beer on the wall.\n",
        "11 bottles of beer on the wall, 11 bottles of beer.\n",
        "Take one down, pass it around, 10 bottles of beer on the wall.\n",
        "10 bottles of beer on the wall, 10 bottles of beer.\n",
        "Take one down, pass it around, 9 bottles of beer on the wall.\n",
        "9 bottles of beer on the wall, 9 bottles of beer.\n",
        "Take one down, pass it around, 8 bottles of beer on the wall.\n",
        "8 bottles of beer on the wall, 8 bottles of beer.\n",
        "Take one down, pass it around, 7 bottles of beer on the wall.\n",
        "7 bottles of beer on the wall, 7 bottles of beer.\n",
        "Take one down, pass it around, 6 bottles of beer on the wall.\n",
        "6 bottles of beer on the wall, 6 bottles of beer.\n",
        "Take one down, pass it around, 5 bottles of beer on the wall.\n",
        "5 bottles of beer on the wall, 5 bottles of beer.\n",
        "Take one down, pass it around, 4 bottles of beer on the wall.\n",
        "4 bottles of beer on the wall, 4 bottles of beer.\n",
        "Take one down, pass it around, 3 bottles of beer on the wall.\n",
        "3 bottles of beer on the wall, 3 bottles of beer.\n",
        "Take one down, pass it around, 2 bottles of beer on the wall.\n",
        "2 bottles of beer on the wall, 2 bottles of beer.\n",
        "Take one down, pass it around, 1 bottle of beer on the wall.\n",
        "1 bottle of beer on the wall, 1 bottle of beer.\n",
        "Take one down, pass it around, 0 bottles of beer on the wall.\n"
       ]
      }
     ],
     "prompt_number": 173
    },
    {
     "cell_type": "heading",
     "level": 3,
     "metadata": {},
     "source": [
      "Question 4"
     ]
    },
    {
     "cell_type": "markdown",
     "metadata": {},
     "source": [
      "Plot a simple graph of a sine function in the range 0 to 3 with a step size of 0.1.\n",
      "Make the line red.\n",
      "Add green diamond-shaped markers with size of 7.\n",
      "Include legible axis labels.\n",
      "Add a legend and a grid to the plot."
     ]
    },
    {
     "cell_type": "code",
     "collapsed": false,
     "input": [
      "%pylab inline\n",
      "x = np.linspace(0, 3, 30)\n",
      "y = np.sin(x)\n",
      "plt.plot(x , y, color = \"red\", linewidth=1.0, linestyle=\"-\", label = \"Sine\")\n",
      "plt.plot(x, y, 'D', markersize=7, color='g');\n",
      "plt.xlabel('x',fontsize = 20)\n",
      "plt.ylabel('sin(x)', fontsize = 20)\n",
      "plt.legend(loc = 'upper left')\n",
      "plt.xticks(fontsize=12)\n",
      "plt.yticks(fontsize=12)\n",
      "plt.xlim(0,3.5)\n",
      "plt.ylim(0,1.250)\n",
      "plt.grid()\n",
      "plt.show()"
     ],
     "language": "python",
     "metadata": {},
     "outputs": [
      {
       "output_type": "stream",
       "stream": "stdout",
       "text": [
        "Populating the interactive namespace from numpy and matplotlib\n"
       ]
      },
      {
       "output_type": "stream",
       "stream": "stderr",
       "text": [
        "WARNING: pylab import has clobbered these variables: ['random']\n",
        "`%matplotlib` prevents importing * from pylab and numpy\n"
       ]
      },
      {
       "metadata": {},
       "output_type": "display_data",
       "png": "[encoded data removed]",
       "text": [
        "<matplotlib.figure.Figure at 0x106398c90>"
       ]
      }
     ],
     "prompt_number": 174
    },
    {
     "cell_type": "heading",
     "level": 3,
     "metadata": {},
     "source": [
      "Question 5"
     ]
    },
    {
     "cell_type": "markdown",
     "metadata": {},
     "source": [
      "Create a 100x5 NumPy array called arr of random floating point numbers between 10.7 and 36.2.\n",
      "Write the array to a file called numbers.txt as 5 columns separated by 2 spaces and formatted with 3 places after the decimal.\n",
      "Include a 3-line header that lists the date and time on line 2 (hint: try !date).\n",
      "Show the first 10 lines of the file using the !head command.\n",
      "Read the data back in from the file to a new floating point NumPy array called arr2 and use a slice to print the first ten lines of the array."
     ]
    },
    {
     "cell_type": "code",
     "collapsed": false,
     "input": [
      "import numpy as np\n",
      "import random\n",
      "arr = np.zeros((100,5))\n",
      "for i in range(5):\n",
      "    for x in range(100):\n",
      "        arr[x,i] = 10.7 + random.random()*(36.2-10.7)"
     ],
     "language": "python",
     "metadata": {},
     "outputs": [],
     "prompt_number": 175
    },
    {
     "cell_type": "code",
     "collapsed": false,
     "input": [
      "date = !date\n",
      "print date\n",
      "myHeader = \"\\n\"+str(date)+\"\\n\"\n",
      "np.savetxt('numbers.txt', arr, fmt='%7.3f', header = myHeader)"
     ],
     "language": "python",
     "metadata": {},
     "outputs": [
      {
       "output_type": "stream",
       "stream": "stdout",
       "text": [
        "['Tue Apr 29 15:22:01 PDT 2014']\n"
       ]
      }
     ],
     "prompt_number": 176
    },
    {
     "cell_type": "code",
     "collapsed": false,
     "input": [
      "!head -10 numbers.txt"
     ],
     "language": "python",
     "metadata": {},
     "outputs": [
      {
       "output_type": "stream",
       "stream": "stdout",
       "text": [
        "# \r\n",
        "# ['Tue Apr 29 15:22:01 PDT 2014']\r\n",
        "# \r\n",
        " 23.680  10.778  27.154  35.104  18.743\r\n",
        " 27.340  28.584  16.124  23.121  21.357\r\n",
        " 30.210  12.476  16.348  29.638  19.789\r\n",
        " 15.175  18.776  31.293  21.539  12.628\r\n",
        " 15.789  11.863  32.296  31.035  23.768\r\n",
        " 13.537  23.862  29.828  18.316  17.882\r\n",
        " 15.463  13.557  30.193  33.512  36.015\r\n"
       ]
      }
     ],
     "prompt_number": 177
    },
    {
     "cell_type": "code",
     "collapsed": false,
     "input": [
      "arr2 = np.array(loadtxt('numbers.txt'))\n",
      "print arr2[:10,:]"
     ],
     "language": "python",
     "metadata": {},
     "outputs": [
      {
       "output_type": "stream",
       "stream": "stdout",
       "text": [
        "[[ 23.68   10.778  27.154  35.104  18.743]\n",
        " [ 27.34   28.584  16.124  23.121  21.357]\n",
        " [ 30.21   12.476  16.348  29.638  19.789]\n",
        " [ 15.175  18.776  31.293  21.539  12.628]\n",
        " [ 15.789  11.863  32.296  31.035  23.768]\n",
        " [ 13.537  23.862  29.828  18.316  17.882]\n",
        " [ 15.463  13.557  30.193  33.512  36.015]\n",
        " [ 28.913  21.087  33.465  20.764  15.345]\n",
        " [ 24.384  31.674  23.084  32.564  26.184]\n",
        " [ 19.686  31.692  12.09   35.081  19.24 ]]\n"
       ]
      }
     ],
     "prompt_number": 178
    }
   ],
   "metadata": {}
  }
 ]
}